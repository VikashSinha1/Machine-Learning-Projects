{
 "cells": [
  {
   "cell_type": "code",
   "execution_count": 1,
   "id": "fe670996",
   "metadata": {},
   "outputs": [],
   "source": [
    "import pandas as pd\n",
    "import matplotlib.pyplot as  plt\n",
    "import seaborn as sns\n",
    "import warnings\n",
    "warnings.filterwarnings(\"ignore\")"
   ]
  },
  {
   "cell_type": "code",
   "execution_count": 2,
   "id": "df58d25a",
   "metadata": {},
   "outputs": [],
   "source": [
    "df=pd.read_csv(\"salespred.csv\")"
   ]
  },
  {
   "cell_type": "code",
   "execution_count": 3,
   "id": "5794ee90",
   "metadata": {},
   "outputs": [
    {
     "data": {
      "text/html": [
       "<div>\n",
       "<style scoped>\n",
       "    .dataframe tbody tr th:only-of-type {\n",
       "        vertical-align: middle;\n",
       "    }\n",
       "\n",
       "    .dataframe tbody tr th {\n",
       "        vertical-align: top;\n",
       "    }\n",
       "\n",
       "    .dataframe thead th {\n",
       "        text-align: right;\n",
       "    }\n",
       "</style>\n",
       "<table border=\"1\" class=\"dataframe\">\n",
       "  <thead>\n",
       "    <tr style=\"text-align: right;\">\n",
       "      <th></th>\n",
       "      <th>TV</th>\n",
       "      <th>radio</th>\n",
       "      <th>newspaper</th>\n",
       "      <th>sales</th>\n",
       "    </tr>\n",
       "  </thead>\n",
       "  <tbody>\n",
       "    <tr>\n",
       "      <th>1</th>\n",
       "      <td>230.1</td>\n",
       "      <td>37.8</td>\n",
       "      <td>69.2</td>\n",
       "      <td>22.1</td>\n",
       "    </tr>\n",
       "    <tr>\n",
       "      <th>2</th>\n",
       "      <td>44.5</td>\n",
       "      <td>39.3</td>\n",
       "      <td>45.1</td>\n",
       "      <td>10.4</td>\n",
       "    </tr>\n",
       "    <tr>\n",
       "      <th>3</th>\n",
       "      <td>17.2</td>\n",
       "      <td>45.9</td>\n",
       "      <td>69.3</td>\n",
       "      <td>9.3</td>\n",
       "    </tr>\n",
       "    <tr>\n",
       "      <th>4</th>\n",
       "      <td>151.5</td>\n",
       "      <td>41.3</td>\n",
       "      <td>58.5</td>\n",
       "      <td>18.5</td>\n",
       "    </tr>\n",
       "    <tr>\n",
       "      <th>5</th>\n",
       "      <td>180.8</td>\n",
       "      <td>10.8</td>\n",
       "      <td>58.4</td>\n",
       "      <td>12.9</td>\n",
       "    </tr>\n",
       "    <tr>\n",
       "      <th>...</th>\n",
       "      <td>...</td>\n",
       "      <td>...</td>\n",
       "      <td>...</td>\n",
       "      <td>...</td>\n",
       "    </tr>\n",
       "    <tr>\n",
       "      <th>196</th>\n",
       "      <td>38.2</td>\n",
       "      <td>3.7</td>\n",
       "      <td>13.8</td>\n",
       "      <td>7.6</td>\n",
       "    </tr>\n",
       "    <tr>\n",
       "      <th>197</th>\n",
       "      <td>94.2</td>\n",
       "      <td>4.9</td>\n",
       "      <td>8.1</td>\n",
       "      <td>9.7</td>\n",
       "    </tr>\n",
       "    <tr>\n",
       "      <th>198</th>\n",
       "      <td>177.0</td>\n",
       "      <td>9.3</td>\n",
       "      <td>6.4</td>\n",
       "      <td>12.8</td>\n",
       "    </tr>\n",
       "    <tr>\n",
       "      <th>199</th>\n",
       "      <td>283.6</td>\n",
       "      <td>42.0</td>\n",
       "      <td>66.2</td>\n",
       "      <td>25.5</td>\n",
       "    </tr>\n",
       "    <tr>\n",
       "      <th>200</th>\n",
       "      <td>232.1</td>\n",
       "      <td>8.6</td>\n",
       "      <td>8.7</td>\n",
       "      <td>13.4</td>\n",
       "    </tr>\n",
       "  </tbody>\n",
       "</table>\n",
       "<p>200 rows × 4 columns</p>\n",
       "</div>"
      ],
      "text/plain": [
       "        TV  radio  newspaper  sales\n",
       "1    230.1   37.8       69.2   22.1\n",
       "2     44.5   39.3       45.1   10.4\n",
       "3     17.2   45.9       69.3    9.3\n",
       "4    151.5   41.3       58.5   18.5\n",
       "5    180.8   10.8       58.4   12.9\n",
       "..     ...    ...        ...    ...\n",
       "196   38.2    3.7       13.8    7.6\n",
       "197   94.2    4.9        8.1    9.7\n",
       "198  177.0    9.3        6.4   12.8\n",
       "199  283.6   42.0       66.2   25.5\n",
       "200  232.1    8.6        8.7   13.4\n",
       "\n",
       "[200 rows x 4 columns]"
      ]
     },
     "execution_count": 3,
     "metadata": {},
     "output_type": "execute_result"
    }
   ],
   "source": [
    "df"
   ]
  },
  {
   "cell_type": "code",
   "execution_count": 4,
   "id": "756e244d",
   "metadata": {},
   "outputs": [
    {
     "data": {
      "text/plain": [
       "Index(['TV', 'radio', 'newspaper', 'sales'], dtype='object')"
      ]
     },
     "execution_count": 4,
     "metadata": {},
     "output_type": "execute_result"
    }
   ],
   "source": [
    "df.columns"
   ]
  },
  {
   "cell_type": "code",
   "execution_count": 5,
   "id": "c3c1f1d3",
   "metadata": {},
   "outputs": [
    {
     "data": {
      "text/html": [
       "<div>\n",
       "<style scoped>\n",
       "    .dataframe tbody tr th:only-of-type {\n",
       "        vertical-align: middle;\n",
       "    }\n",
       "\n",
       "    .dataframe tbody tr th {\n",
       "        vertical-align: top;\n",
       "    }\n",
       "\n",
       "    .dataframe thead th {\n",
       "        text-align: right;\n",
       "    }\n",
       "</style>\n",
       "<table border=\"1\" class=\"dataframe\">\n",
       "  <thead>\n",
       "    <tr style=\"text-align: right;\">\n",
       "      <th></th>\n",
       "      <th>TV</th>\n",
       "      <th>radio</th>\n",
       "      <th>newspaper</th>\n",
       "      <th>sales</th>\n",
       "    </tr>\n",
       "  </thead>\n",
       "  <tbody>\n",
       "    <tr>\n",
       "      <th>1</th>\n",
       "      <td>230.1</td>\n",
       "      <td>37.8</td>\n",
       "      <td>69.2</td>\n",
       "      <td>22.1</td>\n",
       "    </tr>\n",
       "    <tr>\n",
       "      <th>2</th>\n",
       "      <td>44.5</td>\n",
       "      <td>39.3</td>\n",
       "      <td>45.1</td>\n",
       "      <td>10.4</td>\n",
       "    </tr>\n",
       "    <tr>\n",
       "      <th>3</th>\n",
       "      <td>17.2</td>\n",
       "      <td>45.9</td>\n",
       "      <td>69.3</td>\n",
       "      <td>9.3</td>\n",
       "    </tr>\n",
       "    <tr>\n",
       "      <th>4</th>\n",
       "      <td>151.5</td>\n",
       "      <td>41.3</td>\n",
       "      <td>58.5</td>\n",
       "      <td>18.5</td>\n",
       "    </tr>\n",
       "    <tr>\n",
       "      <th>5</th>\n",
       "      <td>180.8</td>\n",
       "      <td>10.8</td>\n",
       "      <td>58.4</td>\n",
       "      <td>12.9</td>\n",
       "    </tr>\n",
       "  </tbody>\n",
       "</table>\n",
       "</div>"
      ],
      "text/plain": [
       "      TV  radio  newspaper  sales\n",
       "1  230.1   37.8       69.2   22.1\n",
       "2   44.5   39.3       45.1   10.4\n",
       "3   17.2   45.9       69.3    9.3\n",
       "4  151.5   41.3       58.5   18.5\n",
       "5  180.8   10.8       58.4   12.9"
      ]
     },
     "execution_count": 5,
     "metadata": {},
     "output_type": "execute_result"
    }
   ],
   "source": [
    "df.head()"
   ]
  },
  {
   "cell_type": "code",
   "execution_count": null,
   "id": "739f382d",
   "metadata": {},
   "outputs": [],
   "source": []
  },
  {
   "cell_type": "code",
   "execution_count": 6,
   "id": "6c22aaed",
   "metadata": {},
   "outputs": [
    {
     "data": {
      "text/html": [
       "<div>\n",
       "<style scoped>\n",
       "    .dataframe tbody tr th:only-of-type {\n",
       "        vertical-align: middle;\n",
       "    }\n",
       "\n",
       "    .dataframe tbody tr th {\n",
       "        vertical-align: top;\n",
       "    }\n",
       "\n",
       "    .dataframe thead th {\n",
       "        text-align: right;\n",
       "    }\n",
       "</style>\n",
       "<table border=\"1\" class=\"dataframe\">\n",
       "  <thead>\n",
       "    <tr style=\"text-align: right;\">\n",
       "      <th></th>\n",
       "      <th>TV</th>\n",
       "      <th>radio</th>\n",
       "      <th>newspaper</th>\n",
       "      <th>sales</th>\n",
       "    </tr>\n",
       "  </thead>\n",
       "  <tbody>\n",
       "    <tr>\n",
       "      <th>count</th>\n",
       "      <td>200.000000</td>\n",
       "      <td>200.000000</td>\n",
       "      <td>200.000000</td>\n",
       "      <td>200.000000</td>\n",
       "    </tr>\n",
       "    <tr>\n",
       "      <th>mean</th>\n",
       "      <td>147.042500</td>\n",
       "      <td>23.264000</td>\n",
       "      <td>30.554000</td>\n",
       "      <td>14.022500</td>\n",
       "    </tr>\n",
       "    <tr>\n",
       "      <th>std</th>\n",
       "      <td>85.854236</td>\n",
       "      <td>14.846809</td>\n",
       "      <td>21.778621</td>\n",
       "      <td>5.217457</td>\n",
       "    </tr>\n",
       "    <tr>\n",
       "      <th>min</th>\n",
       "      <td>0.700000</td>\n",
       "      <td>0.000000</td>\n",
       "      <td>0.300000</td>\n",
       "      <td>1.600000</td>\n",
       "    </tr>\n",
       "    <tr>\n",
       "      <th>25%</th>\n",
       "      <td>74.375000</td>\n",
       "      <td>9.975000</td>\n",
       "      <td>12.750000</td>\n",
       "      <td>10.375000</td>\n",
       "    </tr>\n",
       "    <tr>\n",
       "      <th>50%</th>\n",
       "      <td>149.750000</td>\n",
       "      <td>22.900000</td>\n",
       "      <td>25.750000</td>\n",
       "      <td>12.900000</td>\n",
       "    </tr>\n",
       "    <tr>\n",
       "      <th>75%</th>\n",
       "      <td>218.825000</td>\n",
       "      <td>36.525000</td>\n",
       "      <td>45.100000</td>\n",
       "      <td>17.400000</td>\n",
       "    </tr>\n",
       "    <tr>\n",
       "      <th>max</th>\n",
       "      <td>296.400000</td>\n",
       "      <td>49.600000</td>\n",
       "      <td>114.000000</td>\n",
       "      <td>27.000000</td>\n",
       "    </tr>\n",
       "  </tbody>\n",
       "</table>\n",
       "</div>"
      ],
      "text/plain": [
       "               TV       radio   newspaper       sales\n",
       "count  200.000000  200.000000  200.000000  200.000000\n",
       "mean   147.042500   23.264000   30.554000   14.022500\n",
       "std     85.854236   14.846809   21.778621    5.217457\n",
       "min      0.700000    0.000000    0.300000    1.600000\n",
       "25%     74.375000    9.975000   12.750000   10.375000\n",
       "50%    149.750000   22.900000   25.750000   12.900000\n",
       "75%    218.825000   36.525000   45.100000   17.400000\n",
       "max    296.400000   49.600000  114.000000   27.000000"
      ]
     },
     "execution_count": 6,
     "metadata": {},
     "output_type": "execute_result"
    }
   ],
   "source": [
    "df.describe()"
   ]
  },
  {
   "cell_type": "code",
   "execution_count": 7,
   "id": "96deed3a",
   "metadata": {},
   "outputs": [
    {
     "data": {
      "text/plain": [
       "TV           float64\n",
       "radio        float64\n",
       "newspaper    float64\n",
       "sales        float64\n",
       "dtype: object"
      ]
     },
     "execution_count": 7,
     "metadata": {},
     "output_type": "execute_result"
    }
   ],
   "source": [
    "df.dtypes"
   ]
  },
  {
   "cell_type": "code",
   "execution_count": 8,
   "id": "06f3f5f1",
   "metadata": {},
   "outputs": [
    {
     "data": {
      "text/plain": [
       "TV           0\n",
       "radio        0\n",
       "newspaper    0\n",
       "sales        0\n",
       "dtype: int64"
      ]
     },
     "execution_count": 8,
     "metadata": {},
     "output_type": "execute_result"
    }
   ],
   "source": [
    "df.isnull().sum()"
   ]
  },
  {
   "cell_type": "code",
   "execution_count": 9,
   "id": "4dd8bccf",
   "metadata": {},
   "outputs": [
    {
     "data": {
      "text/plain": [
       "<AxesSubplot:>"
      ]
     },
     "execution_count": 9,
     "metadata": {},
     "output_type": "execute_result"
    },
    {
     "data": {
      "image/png": "[encoded data removed]",
      "text/plain": [
       "<Figure size 432x288 with 2 Axes>"
      ]
     },
     "metadata": {
      "needs_background": "light"
     },
     "output_type": "display_data"
    }
   ],
   "source": [
    "sns.heatmap(df.corr(),annot=True)"
   ]
  },
  {
   "cell_type": "markdown",
   "id": "e3b4f087",
   "metadata": {},
   "source": [
    "here we can see that the co-relation of sales with tv is high and then the radio"
   ]
  },
  {
   "cell_type": "code",
   "execution_count": null,
   "id": "2d35c6a7",
   "metadata": {},
   "outputs": [],
   "source": [
    "\n"
   ]
  },
  {
   "cell_type": "code",
   "execution_count": 11,
   "id": "a64736d7",
   "metadata": {},
   "outputs": [
    {
     "data": {
      "image/png": "[encoded data removed]",
      "text/plain": [
       "<Figure size 432x288 with 1 Axes>"
      ]
     },
     "metadata": {
      "needs_background": "light"
     },
     "output_type": "display_data"
    }
   ],
   "source": [
    "sns.barplot(x='radio',y='sales',data=df)\n",
    "plt.show()"
   ]
  },
  {
   "cell_type": "code",
   "execution_count": 12,
   "id": "b989356a",
   "metadata": {},
   "outputs": [
    {
     "data": {
      "image/png": "[encoded data removed]",
      "text/plain": [
       "<Figure size 432x288 with 1 Axes>"
      ]
     },
     "metadata": {
      "needs_background": "light"
     },
     "output_type": "display_data"
    }
   ],
   "source": [
    "sns.barplot(x='newspaper',y='sales',data=df)\n",
    "\n",
    "plt.show()"
   ]
  },
  {
   "cell_type": "markdown",
   "id": "030f3efb",
   "metadata": {},
   "source": [
    "as we can see that with respect to time the sales due to tv and radio is increasing"
   ]
  },
  {
   "cell_type": "code",
   "execution_count": 13,
   "id": "05e8a597",
   "metadata": {},
   "outputs": [
    {
     "name": "stdout",
     "output_type": "stream",
     "text": [
      "<class 'pandas.core.frame.DataFrame'>\n",
      "Int64Index: 200 entries, 1 to 200\n",
      "Data columns (total 4 columns):\n",
      " #   Column     Non-Null Count  Dtype  \n",
      "---  ------     --------------  -----  \n",
      " 0   TV         200 non-null    float64\n",
      " 1   radio      200 non-null    float64\n",
      " 2   newspaper  200 non-null    float64\n",
      " 3   sales      200 non-null    float64\n",
      "dtypes: float64(4)\n",
      "memory usage: 15.9 KB\n"
     ]
    }
   ],
   "source": [
    "df.info()"
   ]
  },
  {
   "cell_type": "code",
   "execution_count": 14,
   "id": "519bc56c",
   "metadata": {},
   "outputs": [
    {
     "data": {
      "text/plain": [
       "(200, 4)"
      ]
     },
     "execution_count": 14,
     "metadata": {},
     "output_type": "execute_result"
    }
   ],
   "source": [
    "from scipy.stats import zscore\n",
    "import numpy as np\n",
    "z=np.abs(zscore(df))\n",
    "z.shape"
   ]
  },
  {
   "cell_type": "code",
   "execution_count": 15,
   "id": "b64e1fce",
   "metadata": {},
   "outputs": [
    {
     "name": "stdout",
     "output_type": "stream",
     "text": [
      "(array([ 16, 101], dtype=int64), array([2, 2], dtype=int64))\n"
     ]
    }
   ],
   "source": [
    "threshold=3\n",
    "print(np.where(z>3))"
   ]
  },
  {
   "cell_type": "markdown",
   "id": "2ec1b4e8",
   "metadata": {},
   "source": [
    "as  there is very less outliers present, we will not remove outliers\n"
   ]
  },
  {
   "cell_type": "markdown",
   "id": "0ae7ce8e",
   "metadata": {},
   "source": [
    "lets check for skewness in the data\n"
   ]
  },
  {
   "cell_type": "code",
   "execution_count": 16,
   "id": "d3a9fca0",
   "metadata": {},
   "outputs": [],
   "source": [
    "from scipy.stats import skew\n"
   ]
  },
  {
   "cell_type": "code",
   "execution_count": 17,
   "id": "e1bcc4ea",
   "metadata": {},
   "outputs": [
    {
     "name": "stdout",
     "output_type": "stream",
     "text": [
      "TV\n",
      "-0.06932836662244649\n",
      "radio\n",
      "0.0934668451108453\n",
      "newspaper\n",
      "0.8879959753085498\n",
      "sales\n",
      "0.4045082487061191\n"
     ]
    },
    {
     "data": {
      "image/png": "[encoded data removed]",
      "text/plain": [
       "<Figure size 432x288 with 1 Axes>"
      ]
     },
     "metadata": {
      "needs_background": "light"
     },
     "output_type": "display_data"
    },
    {
     "data": {
      "image/png": "[encoded data removed]",
      "text/plain": [
       "<Figure size 432x288 with 1 Axes>"
      ]
     },
     "metadata": {
      "needs_background": "light"
     },
     "output_type": "display_data"
    },
    {
     "data": {
      "image/png": "[encoded data removed]",
      "text/plain": [
       "<Figure size 432x288 with 1 Axes>"
      ]
     },
     "metadata": {
      "needs_background": "light"
     },
     "output_type": "display_data"
    },
    {
     "data": {
      "image/png": "[encoded data removed]",
      "text/plain": [
       "<Figure size 432x288 with 1 Axes>"
      ]
     },
     "metadata": {
      "needs_background": "light"
     },
     "output_type": "display_data"
    }
   ],
   "source": [
    "for col in df:\n",
    "    print(col)\n",
    "    print(skew(df[col]))\n",
    "    \n",
    "    plt.figure()\n",
    "    sns.distplot(df[col])\n",
    "    plt.show"
   ]
  },
  {
   "cell_type": "markdown",
   "id": "d3e16eb9",
   "metadata": {},
   "source": [
    "now lets ckeck the corelation"
   ]
  },
  {
   "cell_type": "code",
   "execution_count": 18,
   "id": "9587122f",
   "metadata": {},
   "outputs": [
    {
     "data": {
      "image/png": "[encoded data removed]",
      "text/plain": [
       "<Figure size 432x288 with 2 Axes>"
      ]
     },
     "metadata": {
      "needs_background": "light"
     },
     "output_type": "display_data"
    }
   ],
   "source": [
    "sns.heatmap(df.corr(),annot=True)\n",
    "plt.show()\n"
   ]
  },
  {
   "cell_type": "markdown",
   "id": "e8cc30a6",
   "metadata": {},
   "source": [
    "lets remove the skewness from newspaper because it does not have very much corelation with sales"
   ]
  },
  {
   "cell_type": "code",
   "execution_count": 19,
   "id": "2198b43f",
   "metadata": {},
   "outputs": [],
   "source": [
    "df['newspaper']=np.sqrt(df['newspaper'])\n"
   ]
  },
  {
   "cell_type": "code",
   "execution_count": null,
   "id": "91711d73",
   "metadata": {},
   "outputs": [],
   "source": []
  },
  {
   "cell_type": "markdown",
   "id": "b2fbb023",
   "metadata": {},
   "source": [
    "now lets check the skewness"
   ]
  },
  {
   "cell_type": "code",
   "execution_count": 20,
   "id": "c3e59620",
   "metadata": {},
   "outputs": [
    {
     "data": {
      "text/plain": [
       "0.061918832707862255"
      ]
     },
     "execution_count": 20,
     "metadata": {},
     "output_type": "execute_result"
    }
   ],
   "source": [
    "skew(df['newspaper'])"
   ]
  },
  {
   "cell_type": "code",
   "execution_count": null,
   "id": "d990c417",
   "metadata": {},
   "outputs": [],
   "source": []
  },
  {
   "cell_type": "code",
   "execution_count": null,
   "id": "310803ae",
   "metadata": {},
   "outputs": [],
   "source": []
  },
  {
   "cell_type": "code",
   "execution_count": 21,
   "id": "d5f6bec4",
   "metadata": {},
   "outputs": [],
   "source": [
    "from sklearn.model_selection import train_test_split\n",
    "from sklearn.linear_model import LinearRegression\n",
    "from sklearn.preprocessing import StandardScaler"
   ]
  },
  {
   "cell_type": "code",
   "execution_count": null,
   "id": "ee244969",
   "metadata": {},
   "outputs": [],
   "source": []
  },
  {
   "cell_type": "code",
   "execution_count": 22,
   "id": "33424895",
   "metadata": {},
   "outputs": [],
   "source": [
    "x=df.iloc[:,:-1]\n",
    "y=df.iloc[:,-1]"
   ]
  },
  {
   "cell_type": "code",
   "execution_count": 23,
   "id": "3114898c",
   "metadata": {},
   "outputs": [
    {
     "data": {
      "text/plain": [
       "StandardScaler()"
      ]
     },
     "execution_count": 23,
     "metadata": {},
     "output_type": "execute_result"
    }
   ],
   "source": [
    "sc=StandardScaler()\n",
    "sc.fit(x)"
   ]
  },
  {
   "cell_type": "code",
   "execution_count": 24,
   "id": "48ce4d28",
   "metadata": {},
   "outputs": [],
   "source": [
    "standarized_data=sc.transform(x)"
   ]
  },
  {
   "cell_type": "code",
   "execution_count": 25,
   "id": "3aa88988",
   "metadata": {},
   "outputs": [
    {
     "name": "stdout",
     "output_type": "stream",
     "text": [
      "[[ 9.69852266e-01  9.81522472e-01  1.56309461e+00]\n",
      " [-1.19737623e+00  1.08280781e+00  7.74855194e-01]\n",
      " [-1.51615499e+00  1.52846331e+00  1.56604912e+00]\n",
      " [ 5.20496822e-02  1.21785493e+00  1.23357596e+00]\n",
      " [ 3.94182198e-01 -8.41613655e-01  1.23036007e+00]\n",
      " [-1.61540845e+00  1.73103399e+00  1.73106889e+00]\n",
      " [-1.04557682e+00  6.43904671e-01 -1.43678801e-01]\n",
      " [-3.13436589e-01 -2.47406325e-01 -8.52652825e-01]\n",
      " [-1.61657614e+00 -1.42906863e+00 -2.03568892e+00]\n",
      " [ 6.16042873e-01 -1.39530685e+00 -2.63332869e-01]\n",
      " [-9.45155670e-01 -1.17923146e+00 -1.08436840e-01]\n",
      " [ 7.90028350e-01  4.96973404e-02 -1.54396138e+00]\n",
      " [-1.43908760e+00  7.99208859e-01  1.46436938e+00]\n",
      " [-5.78501712e-01 -1.05768905e+00 -1.20797302e+00]\n",
      " [ 6.66253447e-01  6.50657027e-01  8.07641928e-01]\n",
      " [ 5.64664612e-01  1.65000572e+00  1.04903522e+00]\n",
      " [-9.25304978e-01  9.00494200e-01  2.72279688e+00]\n",
      " [ 1.56887609e+00  1.10306488e+00  1.14575858e+00]\n",
      " [-9.08957349e-01 -1.86635121e-01 -4.23879865e-01]\n",
      " [ 3.00679600e-03  4.29449843e-02 -3.78392733e-01]\n",
      " [ 8.33232798e-01  2.99534513e-01  1.06589741e+00]\n",
      " [ 1.05509347e+00 -1.22649795e+00 -1.43678801e-01]\n",
      " [-1.56286250e+00 -4.97243498e-01  9.35686184e-01]\n",
      " [ 9.48833887e-01 -4.29719938e-01 -1.04630767e-02]\n",
      " [-9.89527805e-01 -7.20071247e-01 -4.23879865e-01]\n",
      " [ 1.35285385e+00 -1.33453565e+00 -3.56006466e-01]\n",
      " [-4.83714657e-02  4.07572210e-01 -7.81956865e-01]\n",
      " [ 1.08662104e+00 -4.43224650e-01 -1.74306253e-01]\n",
      " [ 1.18820988e+00  2.59020377e-01 -1.74306253e-01]\n",
      " [-8.92609721e-01 -4.90491142e-01  6.13487141e-01]\n",
      " [ 1.70316018e+00  3.40048650e-01  7.04546681e-01]\n",
      " [-3.98677796e-01 -3.95958157e-01  5.27632526e-01]\n",
      " [-5.82004775e-01 -1.46958277e+00  1.65886160e-01]\n",
      " [ 1.38438142e+00 -2.20396901e-01 -2.25808619e+00]\n",
      " [-5.99520091e-01 -1.47633512e+00 -1.18977295e+00]\n",
      " [ 1.67747105e+00 -1.29402151e+00 -1.09379666e+00]\n",
      " [ 1.39956136e+00  1.38666383e+00 -1.42788026e+00]\n",
      " [-8.44734522e-01  1.76479577e+00  7.96748948e-01]\n",
      " [-1.21372386e+00  2.32010953e-01  3.85835748e-01]\n",
      " [ 9.45330823e-01  9.74770116e-01  2.54214524e-01]\n",
      " [ 6.47570443e-01 -6.50927121e-02  2.36774660e-01]\n",
      " [ 3.49810063e-01  6.84418807e-01  5.31587283e-01]\n",
      " [ 1.71133400e+00  2.99534513e-01 -1.86769474e+00]\n",
      " [ 6.98948705e-01 -1.00367020e+00 -8.74648181e-04]\n",
      " [-1.42390765e+00  1.64487393e-01  7.08285217e-01]\n",
      " [ 3.27623995e-01 -5.15880000e-02  2.32397474e-01]\n",
      " [-6.69581357e-01 -9.02384859e-01  4.10629831e-01]\n",
      " [ 1.08428567e+00  1.23135965e+00 -4.12416366e-01]\n",
      " [ 9.35989321e-01 -5.03995854e-01  9.46143488e-01]\n",
      " [-9.35814168e-01 -7.80842451e-01  4.55550447e-01]\n",
      " [ 6.16042873e-01 -1.36154507e+00  3.65011663e-01]\n",
      " [-5.44638766e-01 -9.22641928e-01 -1.59442906e+00]\n",
      " [ 8.09879042e-01  1.24486436e+00  5.66952663e-01]\n",
      " [ 4.15200577e-01  1.54872038e+00  1.23999953e+00]\n",
      " [ 1.35051848e+00  3.73810430e-01 -5.66662552e-01]\n",
      " [ 6.05533683e-01  1.76479577e+00  1.28148863e+00]\n",
      " [-1.63175608e+00  3.26543937e-01  6.36497731e-01]\n",
      " [-1.26606546e-01 -2.74415749e-01 -5.23966170e-01]\n",
      " [ 7.44488528e-01  1.77830048e+00  4.91806608e-01]\n",
      " [ 7.43320840e-01  4.21076922e-01 -1.02784902e+00]\n",
      " [-1.09228433e+00 -1.43582099e+00 -2.52678300e-01]\n",
      " [ 1.33417085e+00  1.31238792e+00  1.10937324e+00]\n",
      " [ 1.07727954e+00 -5.24252922e-01  4.18304911e-02]\n",
      " [-5.17781948e-01  4.27829278e-01 -1.10225467e+00]\n",
      " [-1.86158622e-01  1.31914027e+00  1.16047828e-01]\n",
      " [-9.11292725e-01 -9.42898996e-01 -2.06092275e+00]\n",
      " [-1.34917564e+00  9.02114765e-02 -1.79806665e+00]\n",
      " [-9.04082253e-02 -5.91776482e-01 -9.56964653e-01]\n",
      " [ 1.05509347e+00  2.86029801e-01 -8.96540728e-01]\n",
      " [ 8.14549794e-01  1.39341619e+00  3.71205936e-02]\n",
      " [ 6.07869059e-01  4.95352838e-01  5.31587283e-01]\n",
      " [-4.34876116e-01 -6.05281194e-01  2.41144925e-01]\n",
      " [-1.40405696e+00  6.57409383e-01 -3.67170601e-01]\n",
      " [-2.06009314e-01 -1.18598381e+00  2.23622209e-01]\n",
      " [ 7.74848409e-01  9.02114765e-02 -7.47661651e-01]\n",
      " [-1.51965805e+00  1.37991148e+00  2.12194471e+00]\n",
      " [-1.39588315e+00 -1.46283041e+00 -2.90191276e-01]\n",
      " [-3.09933525e-01  3.53553362e-01 -6.74445131e-01]\n",
      " [-1.65394214e+00  4.48086346e-01 -1.01980839e+00]\n",
      " [-3.62479475e-01 -1.05093669e+00 -1.64053001e-01]\n",
      " [-8.24883830e-01  2.32010953e-01 -2.05337635e-01]\n",
      " [ 1.08311798e+00 -1.29402151e+00  4.59600641e-01]\n",
      " [-8.37728396e-01 -2.00139833e-01  2.75861785e-01]\n",
      " [-9.18298852e-01  1.43393033e+00  4.06512034e-01]\n",
      " [ 7.76016097e-01  1.33264499e+00  3.31377634e-01]\n",
      " [ 5.38975481e-01 -3.28434597e-01  1.45830743e+00]\n",
      " [-8.26051518e-01  2.86029801e-01 -5.60506324e-01]\n",
      " [-4.24366926e-01  1.17058844e+00  1.38174010e+00]\n",
      " [-6.85928986e-01  1.50982681e-01  1.68540016e+00]\n",
      " [-4.34876116e-01  1.65675807e+00  9.97964748e-01]\n",
      " [-1.48792614e-01 -1.24000266e+00 -1.02784902e+00]\n",
      " [-1.38303858e+00 -1.46958277e+00  2.97343158e-01]\n",
      " [ 8.25058983e-01  6.91171163e-01  1.24961438e+00]\n",
      " [ 1.21273132e+00  8.93741844e-01  1.65371357e+00]\n",
      " [-4.62900623e-01 -6.25538262e-01 -9.03970725e-01]\n",
      " [ 1.89836839e-01  5.62876398e-01  1.04903522e+00]\n",
      " [ 5.90353742e-01 -1.33453565e+00 -1.33301442e+00]\n",
      " [ 4.42057396e-01 -1.52873340e-01 -2.21009887e-01]\n",
      " [ 1.66579418e+00  1.28537849e+00  9.91099345e-01]\n",
      " [-1.38283424e-01  1.24486436e+00  8.04014892e-01]\n",
      " [ 8.79940308e-01 -1.28051680e+00  9.42661222e-01]\n",
      " [ 1.74402926e+00  8.80237132e-01  2.41193703e+00]\n",
      " [ 1.55486384e+00 -8.88880147e-01 -2.52678300e-01]\n",
      " [ 4.77088029e-01 -4.09462869e-01 -4.46996354e-01]\n",
      " [ 1.06443498e+00  7.45190011e-01 -1.39537466e+00]\n",
      " [-1.06755854e-01  1.56222509e+00  1.24961438e+00]\n",
      " [-1.42507534e+00 -8.28108943e-01  1.52385811e-01]\n",
      " [-6.61407543e-01 -1.55061104e+00 -1.58943020e-01]\n",
      " [-1.56403019e+00 -1.54385868e+00 -3.94500707e-02]\n",
      " [ 1.26527727e+00  2.45515665e-01 -1.37421317e+00]\n",
      " [ 9.19641692e-01 -1.01717491e+00  1.16872641e+00]\n",
      " [ 1.10530405e+00  9.95027184e-01 -1.58943020e-01]\n",
      " [ 3.34630122e-01 -5.31005278e-01 -1.76563543e+00]\n",
      " [ 7.30476274e-01 -1.79882765e-01 -9.18933677e-01]\n",
      " [-8.03865450e-01  1.58923451e+00  3.60828829e-01]\n",
      " [-8.40063771e-01  7.92456503e-01  1.04226804e+00]\n",
      " [-9.15759131e-02 -6.05281194e-01 -3.94500707e-02]\n",
      " [-8.24883830e-01 -1.51684926e+00 -6.35702865e-01]\n",
      " [-2.49213762e-01  9.20751268e-01  1.84868232e+00]\n",
      " [-1.49046586e+00 -4.90491142e-01 -2.05337635e-01]\n",
      " [-6.70544700e-02  2.38763309e-01  8.14884191e-01]\n",
      " [-1.49747198e+00 -1.05606848e-01  9.63502716e-01]\n",
      " [ 8.98623313e-01 -1.40881156e+00 -5.85248317e-01]\n",
      " [-2.79573643e-01  7.65447079e-01 -7.95865131e-01]\n",
      " [ 9.62846140e-01  6.10142891e-01  1.70829607e+00]\n",
      " [-6.98773552e-01 -7.74090095e-01 -2.49146030e-02]\n",
      " [-1.62591764e+00  1.05579839e+00  9.70422285e-01]\n",
      " [-7.80511695e-01 -1.57086811e+00 -1.03593300e+00]\n",
      " [ 8.55418865e-01  1.73778635e+00 -1.64778750e+00]\n",
      " [-1.02105537e+00 -7.60585383e-01  7.00803816e-01]\n",
      " [-1.70882347e+00  1.10306488e+00 -1.07702861e+00]\n",
      " [ 1.37971067e+00 -1.37504978e+00  6.97056606e-01]\n",
      " [-1.61891151e+00  2.65772733e-01 -1.81483556e+00]\n",
      " [ 8.49580427e-01  6.91171163e-01  7.74855194e-01]\n",
      " [-1.28612050e+00  1.03554132e+00  1.45527300e+00]\n",
      " [-1.15300409e+00  1.60273923e+00 -1.09379666e+00]\n",
      " [-1.41806922e+00  1.06255074e+00 -1.02784902e+00]\n",
      " [ 1.47896413e+00  3.80562786e-01  1.27195443e+00]\n",
      " [-1.21489154e+00  1.77992105e-01 -3.01025360e-01]\n",
      " [ 4.42057396e-01  1.39341619e+00 -1.88628219e+00]\n",
      " [-8.59914463e-01 -4.22967582e-01 -7.61299819e-01]\n",
      " [ 5.44813920e-01  8.19465927e-01  1.74806889e+00]\n",
      " [ 8.57754241e-01  6.70914095e-01  4.99804564e-01]\n",
      " [-4.95595880e-01 -1.18598381e+00  3.56639928e-01]\n",
      " [-5.93681653e-01 -5.71519414e-01  5.39481500e-01]\n",
      " [-7.87313476e-02 -1.44257334e+00 -1.05223385e+00]\n",
      " [ 1.08662104e+00 -1.07794612e+00 -1.07702861e+00]\n",
      " [ 1.12281936e+00  1.73778635e+00  7.45435707e-01]\n",
      " [-1.27327593e+00  1.15033137e+00 -8.31134637e-01]\n",
      " [-1.19504085e+00  1.71239749e-01 -2.95601744e-01]\n",
      " [ 1.56070228e+00 -6.32290618e-01  4.63645352e-01]\n",
      " [-3.04095087e-01 -1.00367020e+00  9.04123071e-01]\n",
      " [ 5.90353742e-01  2.43084817e-03 -6.74445131e-01]\n",
      " [ 2.83251860e-01  1.10981724e+00  4.91806608e-01]\n",
      " [ 4.75920341e-01 -1.46120984e-01 -1.01181041e+00]\n",
      " [-1.66912209e+00 -7.87594807e-01 -1.35343306e+00]\n",
      " [-6.20538471e-01  1.36640677e+00  9.66964214e-01]\n",
      " [ 3.21989902e-02 -1.48308748e+00 -1.03444101e-01]\n",
      " [-1.58037782e+00  9.20751268e-01  7.78514222e-01]\n",
      " [-1.79152496e-01 -3.28434597e-01  3.65011663e-01]\n",
      " [ 2.97264113e-01 -3.48691665e-01  1.97126837e-01]\n",
      " [-7.16288868e-01  8.46475352e-01  9.25197207e-01]\n",
      " [ 4.82926468e-01 -3.48691665e-01 -3.94500707e-02]\n",
      " [ 1.92172214e-01  9.13998912e-01 -1.18977295e+00]\n",
      " [-3.48467222e-01 -5.78271770e-01 -1.38474492e+00]\n",
      " [ 1.02123053e+00 -1.34128800e+00  2.00075071e+00]\n",
      " [-1.50798117e+00  9.68017760e-01 -2.42073402e-01]\n",
      " [ 6.97781017e-01 -1.21974559e+00 -3.61581340e-01]\n",
      " [ 7.98202165e-01  2.26879163e-02  1.20453312e+00]\n",
      " [ 1.60273904e+00 -8.55118367e-01 -1.28343326e+00]\n",
      " [-1.13315340e+00 -7.87594807e-01 -4.18140328e-01]\n",
      " [ 2.03849092e-01 -1.59625696e-01  8.58012435e-01]\n",
      " [-1.48813048e+00 -2.13644545e-01 -4.99971899e-01]\n",
      " [ 2.49388915e-01 -1.09145083e+00 -7.68158551e-01]\n",
      " [ 8.79940308e-01 -1.34128800e+00 -7.47661651e-01]\n",
      " [ 1.51633014e+00  1.73103399e+00  6.51745599e-01]\n",
      " [ 1.18353913e+00  4.68343414e-01 -3.11912423e-01]\n",
      " [ 2.70407294e-01 -1.04418434e+00  3.89982728e-01]\n",
      " [ 1.51399477e+00 -1.41556392e+00 -1.33556727e-01]\n",
      " [ 2.16693657e-01 -8.95632503e-01 -4.64503706e-01]\n",
      " [ 1.11601758e-01 -1.39530685e+00 -1.11076317e+00]\n",
      " [ 8.34400486e-01 -1.20624088e+00  4.65317703e-02]\n",
      " [-1.06075676e+00 -1.18598381e+00  1.52385811e-01]\n",
      " [ 1.64127273e+00  1.33264499e+00  1.63923092e+00]\n",
      " [ 1.24659427e+00 -1.32616272e-01  1.65886160e-01]\n",
      " [ 6.76762637e-01  1.47444446e+00 -3.50445868e-01]\n",
      " [-8.80728498e-02 -1.42906863e+00  8.67752879e-03]\n",
      " [ 5.14454038e-01  3.67058074e-01 -4.29635106e-01]\n",
      " [ 1.62258973e+00 -6.32290618e-01 -1.58155966e+00]\n",
      " [-1.49863967e+00 -7.53833027e-01 -1.48755990e-01]\n",
      " [-1.25576062e+00  1.20435022e+00 -1.34317973e+00]\n",
      " [-8.35393020e-01 -8.41613655e-01 -1.32293490e+00]\n",
      " [-1.51615499e+00 -1.29402151e+00  2.36774660e-01]\n",
      " [ 2.30705910e-01  1.26512143e+00 -1.59442906e+00]\n",
      " [ 3.10313024e-02  8.32970639e-01 -1.32293490e+00]\n",
      " [-1.27094056e+00 -1.32103093e+00 -7.00729744e-01]\n",
      " [-6.17035408e-01 -1.24000266e+00 -1.12793536e+00]\n",
      " [ 3.49810063e-01 -9.42898996e-01 -1.28343326e+00]\n",
      " [ 1.59456522e+00  1.26512143e+00  1.47344507e+00]\n",
      " [ 9.93206022e-01 -9.90165488e-01 -1.07702861e+00]]\n"
     ]
    }
   ],
   "source": [
    "print(standarized_data)"
   ]
  },
  {
   "cell_type": "code",
   "execution_count": 26,
   "id": "9eb6126a",
   "metadata": {},
   "outputs": [],
   "source": [
    "x=standarized_data\n",
    "y=df.iloc[:,-1]"
   ]
  },
  {
   "cell_type": "code",
   "execution_count": 27,
   "id": "463ca310",
   "metadata": {},
   "outputs": [
    {
     "data": {
      "text/plain": [
       "array([[ 9.69852266e-01,  9.81522472e-01,  1.56309461e+00],\n",
       "       [-1.19737623e+00,  1.08280781e+00,  7.74855194e-01],\n",
       "       [-1.51615499e+00,  1.52846331e+00,  1.56604912e+00],\n",
       "       [ 5.20496822e-02,  1.21785493e+00,  1.23357596e+00],\n",
       "       [ 3.94182198e-01, -8.41613655e-01,  1.23036007e+00],\n",
       "       [-1.61540845e+00,  1.73103399e+00,  1.73106889e+00],\n",
       "       [-1.04557682e+00,  6.43904671e-01, -1.43678801e-01],\n",
       "       [-3.13436589e-01, -2.47406325e-01, -8.52652825e-01],\n",
       "       [-1.61657614e+00, -1.42906863e+00, -2.03568892e+00],\n",
       "       [ 6.16042873e-01, -1.39530685e+00, -2.63332869e-01],\n",
       "       [-9.45155670e-01, -1.17923146e+00, -1.08436840e-01],\n",
       "       [ 7.90028350e-01,  4.96973404e-02, -1.54396138e+00],\n",
       "       [-1.43908760e+00,  7.99208859e-01,  1.46436938e+00],\n",
       "       [-5.78501712e-01, -1.05768905e+00, -1.20797302e+00],\n",
       "       [ 6.66253447e-01,  6.50657027e-01,  8.07641928e-01],\n",
       "       [ 5.64664612e-01,  1.65000572e+00,  1.04903522e+00],\n",
       "       [-9.25304978e-01,  9.00494200e-01,  2.72279688e+00],\n",
       "       [ 1.56887609e+00,  1.10306488e+00,  1.14575858e+00],\n",
       "       [-9.08957349e-01, -1.86635121e-01, -4.23879865e-01],\n",
       "       [ 3.00679600e-03,  4.29449843e-02, -3.78392733e-01],\n",
       "       [ 8.33232798e-01,  2.99534513e-01,  1.06589741e+00],\n",
       "       [ 1.05509347e+00, -1.22649795e+00, -1.43678801e-01],\n",
       "       [-1.56286250e+00, -4.97243498e-01,  9.35686184e-01],\n",
       "       [ 9.48833887e-01, -4.29719938e-01, -1.04630767e-02],\n",
       "       [-9.89527805e-01, -7.20071247e-01, -4.23879865e-01],\n",
       "       [ 1.35285385e+00, -1.33453565e+00, -3.56006466e-01],\n",
       "       [-4.83714657e-02,  4.07572210e-01, -7.81956865e-01],\n",
       "       [ 1.08662104e+00, -4.43224650e-01, -1.74306253e-01],\n",
       "       [ 1.18820988e+00,  2.59020377e-01, -1.74306253e-01],\n",
       "       [-8.92609721e-01, -4.90491142e-01,  6.13487141e-01],\n",
       "       [ 1.70316018e+00,  3.40048650e-01,  7.04546681e-01],\n",
       "       [-3.98677796e-01, -3.95958157e-01,  5.27632526e-01],\n",
       "       [-5.82004775e-01, -1.46958277e+00,  1.65886160e-01],\n",
       "       [ 1.38438142e+00, -2.20396901e-01, -2.25808619e+00],\n",
       "       [-5.99520091e-01, -1.47633512e+00, -1.18977295e+00],\n",
       "       [ 1.67747105e+00, -1.29402151e+00, -1.09379666e+00],\n",
       "       [ 1.39956136e+00,  1.38666383e+00, -1.42788026e+00],\n",
       "       [-8.44734522e-01,  1.76479577e+00,  7.96748948e-01],\n",
       "       [-1.21372386e+00,  2.32010953e-01,  3.85835748e-01],\n",
       "       [ 9.45330823e-01,  9.74770116e-01,  2.54214524e-01],\n",
       "       [ 6.47570443e-01, -6.50927121e-02,  2.36774660e-01],\n",
       "       [ 3.49810063e-01,  6.84418807e-01,  5.31587283e-01],\n",
       "       [ 1.71133400e+00,  2.99534513e-01, -1.86769474e+00],\n",
       "       [ 6.98948705e-01, -1.00367020e+00, -8.74648181e-04],\n",
       "       [-1.42390765e+00,  1.64487393e-01,  7.08285217e-01],\n",
       "       [ 3.27623995e-01, -5.15880000e-02,  2.32397474e-01],\n",
       "       [-6.69581357e-01, -9.02384859e-01,  4.10629831e-01],\n",
       "       [ 1.08428567e+00,  1.23135965e+00, -4.12416366e-01],\n",
       "       [ 9.35989321e-01, -5.03995854e-01,  9.46143488e-01],\n",
       "       [-9.35814168e-01, -7.80842451e-01,  4.55550447e-01],\n",
       "       [ 6.16042873e-01, -1.36154507e+00,  3.65011663e-01],\n",
       "       [-5.44638766e-01, -9.22641928e-01, -1.59442906e+00],\n",
       "       [ 8.09879042e-01,  1.24486436e+00,  5.66952663e-01],\n",
       "       [ 4.15200577e-01,  1.54872038e+00,  1.23999953e+00],\n",
       "       [ 1.35051848e+00,  3.73810430e-01, -5.66662552e-01],\n",
       "       [ 6.05533683e-01,  1.76479577e+00,  1.28148863e+00],\n",
       "       [-1.63175608e+00,  3.26543937e-01,  6.36497731e-01],\n",
       "       [-1.26606546e-01, -2.74415749e-01, -5.23966170e-01],\n",
       "       [ 7.44488528e-01,  1.77830048e+00,  4.91806608e-01],\n",
       "       [ 7.43320840e-01,  4.21076922e-01, -1.02784902e+00],\n",
       "       [-1.09228433e+00, -1.43582099e+00, -2.52678300e-01],\n",
       "       [ 1.33417085e+00,  1.31238792e+00,  1.10937324e+00],\n",
       "       [ 1.07727954e+00, -5.24252922e-01,  4.18304911e-02],\n",
       "       [-5.17781948e-01,  4.27829278e-01, -1.10225467e+00],\n",
       "       [-1.86158622e-01,  1.31914027e+00,  1.16047828e-01],\n",
       "       [-9.11292725e-01, -9.42898996e-01, -2.06092275e+00],\n",
       "       [-1.34917564e+00,  9.02114765e-02, -1.79806665e+00],\n",
       "       [-9.04082253e-02, -5.91776482e-01, -9.56964653e-01],\n",
       "       [ 1.05509347e+00,  2.86029801e-01, -8.96540728e-01],\n",
       "       [ 8.14549794e-01,  1.39341619e+00,  3.71205936e-02],\n",
       "       [ 6.07869059e-01,  4.95352838e-01,  5.31587283e-01],\n",
       "       [-4.34876116e-01, -6.05281194e-01,  2.41144925e-01],\n",
       "       [-1.40405696e+00,  6.57409383e-01, -3.67170601e-01],\n",
       "       [-2.06009314e-01, -1.18598381e+00,  2.23622209e-01],\n",
       "       [ 7.74848409e-01,  9.02114765e-02, -7.47661651e-01],\n",
       "       [-1.51965805e+00,  1.37991148e+00,  2.12194471e+00],\n",
       "       [-1.39588315e+00, -1.46283041e+00, -2.90191276e-01],\n",
       "       [-3.09933525e-01,  3.53553362e-01, -6.74445131e-01],\n",
       "       [-1.65394214e+00,  4.48086346e-01, -1.01980839e+00],\n",
       "       [-3.62479475e-01, -1.05093669e+00, -1.64053001e-01],\n",
       "       [-8.24883830e-01,  2.32010953e-01, -2.05337635e-01],\n",
       "       [ 1.08311798e+00, -1.29402151e+00,  4.59600641e-01],\n",
       "       [-8.37728396e-01, -2.00139833e-01,  2.75861785e-01],\n",
       "       [-9.18298852e-01,  1.43393033e+00,  4.06512034e-01],\n",
       "       [ 7.76016097e-01,  1.33264499e+00,  3.31377634e-01],\n",
       "       [ 5.38975481e-01, -3.28434597e-01,  1.45830743e+00],\n",
       "       [-8.26051518e-01,  2.86029801e-01, -5.60506324e-01],\n",
       "       [-4.24366926e-01,  1.17058844e+00,  1.38174010e+00],\n",
       "       [-6.85928986e-01,  1.50982681e-01,  1.68540016e+00],\n",
       "       [-4.34876116e-01,  1.65675807e+00,  9.97964748e-01],\n",
       "       [-1.48792614e-01, -1.24000266e+00, -1.02784902e+00],\n",
       "       [-1.38303858e+00, -1.46958277e+00,  2.97343158e-01],\n",
       "       [ 8.25058983e-01,  6.91171163e-01,  1.24961438e+00],\n",
       "       [ 1.21273132e+00,  8.93741844e-01,  1.65371357e+00],\n",
       "       [-4.62900623e-01, -6.25538262e-01, -9.03970725e-01],\n",
       "       [ 1.89836839e-01,  5.62876398e-01,  1.04903522e+00],\n",
       "       [ 5.90353742e-01, -1.33453565e+00, -1.33301442e+00],\n",
       "       [ 4.42057396e-01, -1.52873340e-01, -2.21009887e-01],\n",
       "       [ 1.66579418e+00,  1.28537849e+00,  9.91099345e-01],\n",
       "       [-1.38283424e-01,  1.24486436e+00,  8.04014892e-01],\n",
       "       [ 8.79940308e-01, -1.28051680e+00,  9.42661222e-01],\n",
       "       [ 1.74402926e+00,  8.80237132e-01,  2.41193703e+00],\n",
       "       [ 1.55486384e+00, -8.88880147e-01, -2.52678300e-01],\n",
       "       [ 4.77088029e-01, -4.09462869e-01, -4.46996354e-01],\n",
       "       [ 1.06443498e+00,  7.45190011e-01, -1.39537466e+00],\n",
       "       [-1.06755854e-01,  1.56222509e+00,  1.24961438e+00],\n",
       "       [-1.42507534e+00, -8.28108943e-01,  1.52385811e-01],\n",
       "       [-6.61407543e-01, -1.55061104e+00, -1.58943020e-01],\n",
       "       [-1.56403019e+00, -1.54385868e+00, -3.94500707e-02],\n",
       "       [ 1.26527727e+00,  2.45515665e-01, -1.37421317e+00],\n",
       "       [ 9.19641692e-01, -1.01717491e+00,  1.16872641e+00],\n",
       "       [ 1.10530405e+00,  9.95027184e-01, -1.58943020e-01],\n",
       "       [ 3.34630122e-01, -5.31005278e-01, -1.76563543e+00],\n",
       "       [ 7.30476274e-01, -1.79882765e-01, -9.18933677e-01],\n",
       "       [-8.03865450e-01,  1.58923451e+00,  3.60828829e-01],\n",
       "       [-8.40063771e-01,  7.92456503e-01,  1.04226804e+00],\n",
       "       [-9.15759131e-02, -6.05281194e-01, -3.94500707e-02],\n",
       "       [-8.24883830e-01, -1.51684926e+00, -6.35702865e-01],\n",
       "       [-2.49213762e-01,  9.20751268e-01,  1.84868232e+00],\n",
       "       [-1.49046586e+00, -4.90491142e-01, -2.05337635e-01],\n",
       "       [-6.70544700e-02,  2.38763309e-01,  8.14884191e-01],\n",
       "       [-1.49747198e+00, -1.05606848e-01,  9.63502716e-01],\n",
       "       [ 8.98623313e-01, -1.40881156e+00, -5.85248317e-01],\n",
       "       [-2.79573643e-01,  7.65447079e-01, -7.95865131e-01],\n",
       "       [ 9.62846140e-01,  6.10142891e-01,  1.70829607e+00],\n",
       "       [-6.98773552e-01, -7.74090095e-01, -2.49146030e-02],\n",
       "       [-1.62591764e+00,  1.05579839e+00,  9.70422285e-01],\n",
       "       [-7.80511695e-01, -1.57086811e+00, -1.03593300e+00],\n",
       "       [ 8.55418865e-01,  1.73778635e+00, -1.64778750e+00],\n",
       "       [-1.02105537e+00, -7.60585383e-01,  7.00803816e-01],\n",
       "       [-1.70882347e+00,  1.10306488e+00, -1.07702861e+00],\n",
       "       [ 1.37971067e+00, -1.37504978e+00,  6.97056606e-01],\n",
       "       [-1.61891151e+00,  2.65772733e-01, -1.81483556e+00],\n",
       "       [ 8.49580427e-01,  6.91171163e-01,  7.74855194e-01],\n",
       "       [-1.28612050e+00,  1.03554132e+00,  1.45527300e+00],\n",
       "       [-1.15300409e+00,  1.60273923e+00, -1.09379666e+00],\n",
       "       [-1.41806922e+00,  1.06255074e+00, -1.02784902e+00],\n",
       "       [ 1.47896413e+00,  3.80562786e-01,  1.27195443e+00],\n",
       "       [-1.21489154e+00,  1.77992105e-01, -3.01025360e-01],\n",
       "       [ 4.42057396e-01,  1.39341619e+00, -1.88628219e+00],\n",
       "       [-8.59914463e-01, -4.22967582e-01, -7.61299819e-01],\n",
       "       [ 5.44813920e-01,  8.19465927e-01,  1.74806889e+00],\n",
       "       [ 8.57754241e-01,  6.70914095e-01,  4.99804564e-01],\n",
       "       [-4.95595880e-01, -1.18598381e+00,  3.56639928e-01],\n",
       "       [-5.93681653e-01, -5.71519414e-01,  5.39481500e-01],\n",
       "       [-7.87313476e-02, -1.44257334e+00, -1.05223385e+00],\n",
       "       [ 1.08662104e+00, -1.07794612e+00, -1.07702861e+00],\n",
       "       [ 1.12281936e+00,  1.73778635e+00,  7.45435707e-01],\n",
       "       [-1.27327593e+00,  1.15033137e+00, -8.31134637e-01],\n",
       "       [-1.19504085e+00,  1.71239749e-01, -2.95601744e-01],\n",
       "       [ 1.56070228e+00, -6.32290618e-01,  4.63645352e-01],\n",
       "       [-3.04095087e-01, -1.00367020e+00,  9.04123071e-01],\n",
       "       [ 5.90353742e-01,  2.43084817e-03, -6.74445131e-01],\n",
       "       [ 2.83251860e-01,  1.10981724e+00,  4.91806608e-01],\n",
       "       [ 4.75920341e-01, -1.46120984e-01, -1.01181041e+00],\n",
       "       [-1.66912209e+00, -7.87594807e-01, -1.35343306e+00],\n",
       "       [-6.20538471e-01,  1.36640677e+00,  9.66964214e-01],\n",
       "       [ 3.21989902e-02, -1.48308748e+00, -1.03444101e-01],\n",
       "       [-1.58037782e+00,  9.20751268e-01,  7.78514222e-01],\n",
       "       [-1.79152496e-01, -3.28434597e-01,  3.65011663e-01],\n",
       "       [ 2.97264113e-01, -3.48691665e-01,  1.97126837e-01],\n",
       "       [-7.16288868e-01,  8.46475352e-01,  9.25197207e-01],\n",
       "       [ 4.82926468e-01, -3.48691665e-01, -3.94500707e-02],\n",
       "       [ 1.92172214e-01,  9.13998912e-01, -1.18977295e+00],\n",
       "       [-3.48467222e-01, -5.78271770e-01, -1.38474492e+00],\n",
       "       [ 1.02123053e+00, -1.34128800e+00,  2.00075071e+00],\n",
       "       [-1.50798117e+00,  9.68017760e-01, -2.42073402e-01],\n",
       "       [ 6.97781017e-01, -1.21974559e+00, -3.61581340e-01],\n",
       "       [ 7.98202165e-01,  2.26879163e-02,  1.20453312e+00],\n",
       "       [ 1.60273904e+00, -8.55118367e-01, -1.28343326e+00],\n",
       "       [-1.13315340e+00, -7.87594807e-01, -4.18140328e-01],\n",
       "       [ 2.03849092e-01, -1.59625696e-01,  8.58012435e-01],\n",
       "       [-1.48813048e+00, -2.13644545e-01, -4.99971899e-01],\n",
       "       [ 2.49388915e-01, -1.09145083e+00, -7.68158551e-01],\n",
       "       [ 8.79940308e-01, -1.34128800e+00, -7.47661651e-01],\n",
       "       [ 1.51633014e+00,  1.73103399e+00,  6.51745599e-01],\n",
       "       [ 1.18353913e+00,  4.68343414e-01, -3.11912423e-01],\n",
       "       [ 2.70407294e-01, -1.04418434e+00,  3.89982728e-01],\n",
       "       [ 1.51399477e+00, -1.41556392e+00, -1.33556727e-01],\n",
       "       [ 2.16693657e-01, -8.95632503e-01, -4.64503706e-01],\n",
       "       [ 1.11601758e-01, -1.39530685e+00, -1.11076317e+00],\n",
       "       [ 8.34400486e-01, -1.20624088e+00,  4.65317703e-02],\n",
       "       [-1.06075676e+00, -1.18598381e+00,  1.52385811e-01],\n",
       "       [ 1.64127273e+00,  1.33264499e+00,  1.63923092e+00],\n",
       "       [ 1.24659427e+00, -1.32616272e-01,  1.65886160e-01],\n",
       "       [ 6.76762637e-01,  1.47444446e+00, -3.50445868e-01],\n",
       "       [-8.80728498e-02, -1.42906863e+00,  8.67752879e-03],\n",
       "       [ 5.14454038e-01,  3.67058074e-01, -4.29635106e-01],\n",
       "       [ 1.62258973e+00, -6.32290618e-01, -1.58155966e+00],\n",
       "       [-1.49863967e+00, -7.53833027e-01, -1.48755990e-01],\n",
       "       [-1.25576062e+00,  1.20435022e+00, -1.34317973e+00],\n",
       "       [-8.35393020e-01, -8.41613655e-01, -1.32293490e+00],\n",
       "       [-1.51615499e+00, -1.29402151e+00,  2.36774660e-01],\n",
       "       [ 2.30705910e-01,  1.26512143e+00, -1.59442906e+00],\n",
       "       [ 3.10313024e-02,  8.32970639e-01, -1.32293490e+00],\n",
       "       [-1.27094056e+00, -1.32103093e+00, -7.00729744e-01],\n",
       "       [-6.17035408e-01, -1.24000266e+00, -1.12793536e+00],\n",
       "       [ 3.49810063e-01, -9.42898996e-01, -1.28343326e+00],\n",
       "       [ 1.59456522e+00,  1.26512143e+00,  1.47344507e+00],\n",
       "       [ 9.93206022e-01, -9.90165488e-01, -1.07702861e+00]])"
      ]
     },
     "execution_count": 27,
     "metadata": {},
     "output_type": "execute_result"
    }
   ],
   "source": [
    "x"
   ]
  },
  {
   "cell_type": "code",
   "execution_count": 28,
   "id": "8749f99c",
   "metadata": {},
   "outputs": [
    {
     "data": {
      "text/plain": [
       "1      22.1\n",
       "2      10.4\n",
       "3       9.3\n",
       "4      18.5\n",
       "5      12.9\n",
       "       ... \n",
       "196     7.6\n",
       "197     9.7\n",
       "198    12.8\n",
       "199    25.5\n",
       "200    13.4\n",
       "Name: sales, Length: 200, dtype: float64"
      ]
     },
     "execution_count": 28,
     "metadata": {},
     "output_type": "execute_result"
    }
   ],
   "source": [
    "y"
   ]
  },
  {
   "cell_type": "code",
   "execution_count": 29,
   "id": "329f7de1",
   "metadata": {},
   "outputs": [],
   "source": [
    "x_train,x_test,y_train,y_test=train_test_split(x,y,test_size=0.20)"
   ]
  },
  {
   "cell_type": "code",
   "execution_count": 30,
   "id": "c12f2e75",
   "metadata": {},
   "outputs": [
    {
     "data": {
      "text/plain": [
       "(160, 3)"
      ]
     },
     "execution_count": 30,
     "metadata": {},
     "output_type": "execute_result"
    }
   ],
   "source": [
    "x_train.shape"
   ]
  },
  {
   "cell_type": "code",
   "execution_count": 31,
   "id": "18158e96",
   "metadata": {},
   "outputs": [
    {
     "data": {
      "text/plain": [
       "(40, 3)"
      ]
     },
     "execution_count": 31,
     "metadata": {},
     "output_type": "execute_result"
    }
   ],
   "source": [
    "x_test.shape"
   ]
  },
  {
   "cell_type": "code",
   "execution_count": 32,
   "id": "ba8a1cf3",
   "metadata": {},
   "outputs": [
    {
     "data": {
      "text/plain": [
       "(160,)"
      ]
     },
     "execution_count": 32,
     "metadata": {},
     "output_type": "execute_result"
    }
   ],
   "source": [
    "y_train.shape"
   ]
  },
  {
   "cell_type": "code",
   "execution_count": 33,
   "id": "c3ed19a5",
   "metadata": {},
   "outputs": [
    {
     "data": {
      "text/plain": [
       "(40,)"
      ]
     },
     "execution_count": 33,
     "metadata": {},
     "output_type": "execute_result"
    }
   ],
   "source": [
    "y_test.shape"
   ]
  },
  {
   "cell_type": "code",
   "execution_count": 34,
   "id": "0e04ee7d",
   "metadata": {},
   "outputs": [
    {
     "name": "stdout",
     "output_type": "stream",
     "text": [
      "0.9083811110854343\n"
     ]
    }
   ],
   "source": [
    "lr=LinearRegression()\n",
    "lr.fit(x_train,y_train)\n",
    "print(lr.score(x_train,y_train))\n"
   ]
  },
  {
   "cell_type": "code",
   "execution_count": 35,
   "id": "9a867c29",
   "metadata": {},
   "outputs": [
    {
     "data": {
      "text/plain": [
       "14.09071319276123"
      ]
     },
     "execution_count": 35,
     "metadata": {},
     "output_type": "execute_result"
    }
   ],
   "source": [
    "lr.intercept_"
   ]
  },
  {
   "cell_type": "markdown",
   "id": "e8725211",
   "metadata": {},
   "source": [
    "now training the model"
   ]
  },
  {
   "cell_type": "code",
   "execution_count": 36,
   "id": "411337b4",
   "metadata": {},
   "outputs": [],
   "source": [
    "y_pred=lr.predict(x_test)"
   ]
  },
  {
   "cell_type": "code",
   "execution_count": 37,
   "id": "f2e7cc37",
   "metadata": {},
   "outputs": [
    {
     "data": {
      "text/html": [
       "<div>\n",
       "<style scoped>\n",
       "    .dataframe tbody tr th:only-of-type {\n",
       "        vertical-align: middle;\n",
       "    }\n",
       "\n",
       "    .dataframe tbody tr th {\n",
       "        vertical-align: top;\n",
       "    }\n",
       "\n",
       "    .dataframe thead th {\n",
       "        text-align: right;\n",
       "    }\n",
       "</style>\n",
       "<table border=\"1\" class=\"dataframe\">\n",
       "  <thead>\n",
       "    <tr style=\"text-align: right;\">\n",
       "      <th></th>\n",
       "      <th>0</th>\n",
       "      <th>1</th>\n",
       "      <th>2</th>\n",
       "      <th>3</th>\n",
       "      <th>4</th>\n",
       "      <th>5</th>\n",
       "      <th>6</th>\n",
       "      <th>7</th>\n",
       "      <th>8</th>\n",
       "      <th>9</th>\n",
       "      <th>...</th>\n",
       "      <th>30</th>\n",
       "      <th>31</th>\n",
       "      <th>32</th>\n",
       "      <th>33</th>\n",
       "      <th>34</th>\n",
       "      <th>35</th>\n",
       "      <th>36</th>\n",
       "      <th>37</th>\n",
       "      <th>38</th>\n",
       "      <th>39</th>\n",
       "    </tr>\n",
       "  </thead>\n",
       "  <tbody>\n",
       "    <tr>\n",
       "      <th>0</th>\n",
       "      <td>4.513225</td>\n",
       "      <td>12.052091</td>\n",
       "      <td>20.867239</td>\n",
       "      <td>11.842784</td>\n",
       "      <td>17.147519</td>\n",
       "      <td>17.676798</td>\n",
       "      <td>23.23247</td>\n",
       "      <td>7.718623</td>\n",
       "      <td>13.976975</td>\n",
       "      <td>10.687987</td>\n",
       "      <td>...</td>\n",
       "      <td>14.523735</td>\n",
       "      <td>3.598929</td>\n",
       "      <td>18.294034</td>\n",
       "      <td>15.510908</td>\n",
       "      <td>8.868326</td>\n",
       "      <td>22.912316</td>\n",
       "      <td>10.020518</td>\n",
       "      <td>15.416706</td>\n",
       "      <td>14.752929</td>\n",
       "      <td>20.081164</td>\n",
       "    </tr>\n",
       "    <tr>\n",
       "      <th>1</th>\n",
       "      <td>6.900000</td>\n",
       "      <td>11.700000</td>\n",
       "      <td>22.400000</td>\n",
       "      <td>10.800000</td>\n",
       "      <td>17.100000</td>\n",
       "      <td>14.800000</td>\n",
       "      <td>24.40000</td>\n",
       "      <td>7.600000</td>\n",
       "      <td>12.900000</td>\n",
       "      <td>10.500000</td>\n",
       "      <td>...</td>\n",
       "      <td>13.600000</td>\n",
       "      <td>5.300000</td>\n",
       "      <td>19.000000</td>\n",
       "      <td>12.700000</td>\n",
       "      <td>10.600000</td>\n",
       "      <td>24.200000</td>\n",
       "      <td>10.100000</td>\n",
       "      <td>14.600000</td>\n",
       "      <td>12.500000</td>\n",
       "      <td>20.200000</td>\n",
       "    </tr>\n",
       "  </tbody>\n",
       "</table>\n",
       "<p>2 rows × 40 columns</p>\n",
       "</div>"
      ],
      "text/plain": [
       "         0          1          2          3          4          5         6   \\\n",
       "0  4.513225  12.052091  20.867239  11.842784  17.147519  17.676798  23.23247   \n",
       "1  6.900000  11.700000  22.400000  10.800000  17.100000  14.800000  24.40000   \n",
       "\n",
       "         7          8          9   ...         30        31         32  \\\n",
       "0  7.718623  13.976975  10.687987  ...  14.523735  3.598929  18.294034   \n",
       "1  7.600000  12.900000  10.500000  ...  13.600000  5.300000  19.000000   \n",
       "\n",
       "          33         34         35         36         37         38         39  \n",
       "0  15.510908   8.868326  22.912316  10.020518  15.416706  14.752929  20.081164  \n",
       "1  12.700000  10.600000  24.200000  10.100000  14.600000  12.500000  20.200000  \n",
       "\n",
       "[2 rows x 40 columns]"
      ]
     },
     "execution_count": 37,
     "metadata": {},
     "output_type": "execute_result"
    }
   ],
   "source": [
    "df=pd.DataFrame(data=[y_pred,y_test])\n",
    "df"
   ]
  },
  {
   "cell_type": "code",
   "execution_count": 38,
   "id": "06f8c1c1",
   "metadata": {},
   "outputs": [
    {
     "data": {
      "text/html": [
       "<div>\n",
       "<style scoped>\n",
       "    .dataframe tbody tr th:only-of-type {\n",
       "        vertical-align: middle;\n",
       "    }\n",
       "\n",
       "    .dataframe tbody tr th {\n",
       "        vertical-align: top;\n",
       "    }\n",
       "\n",
       "    .dataframe thead th {\n",
       "        text-align: right;\n",
       "    }\n",
       "</style>\n",
       "<table border=\"1\" class=\"dataframe\">\n",
       "  <thead>\n",
       "    <tr style=\"text-align: right;\">\n",
       "      <th></th>\n",
       "      <th>0</th>\n",
       "      <th>1</th>\n",
       "    </tr>\n",
       "  </thead>\n",
       "  <tbody>\n",
       "    <tr>\n",
       "      <th>0</th>\n",
       "      <td>4.513225</td>\n",
       "      <td>6.9</td>\n",
       "    </tr>\n",
       "    <tr>\n",
       "      <th>1</th>\n",
       "      <td>12.052091</td>\n",
       "      <td>11.7</td>\n",
       "    </tr>\n",
       "    <tr>\n",
       "      <th>2</th>\n",
       "      <td>20.867239</td>\n",
       "      <td>22.4</td>\n",
       "    </tr>\n",
       "    <tr>\n",
       "      <th>3</th>\n",
       "      <td>11.842784</td>\n",
       "      <td>10.8</td>\n",
       "    </tr>\n",
       "    <tr>\n",
       "      <th>4</th>\n",
       "      <td>17.147519</td>\n",
       "      <td>17.1</td>\n",
       "    </tr>\n",
       "    <tr>\n",
       "      <th>5</th>\n",
       "      <td>17.676798</td>\n",
       "      <td>14.8</td>\n",
       "    </tr>\n",
       "    <tr>\n",
       "      <th>6</th>\n",
       "      <td>23.232470</td>\n",
       "      <td>24.4</td>\n",
       "    </tr>\n",
       "    <tr>\n",
       "      <th>7</th>\n",
       "      <td>7.718623</td>\n",
       "      <td>7.6</td>\n",
       "    </tr>\n",
       "    <tr>\n",
       "      <th>8</th>\n",
       "      <td>13.976975</td>\n",
       "      <td>12.9</td>\n",
       "    </tr>\n",
       "    <tr>\n",
       "      <th>9</th>\n",
       "      <td>10.687987</td>\n",
       "      <td>10.5</td>\n",
       "    </tr>\n",
       "    <tr>\n",
       "      <th>10</th>\n",
       "      <td>23.149651</td>\n",
       "      <td>23.8</td>\n",
       "    </tr>\n",
       "    <tr>\n",
       "      <th>11</th>\n",
       "      <td>14.418489</td>\n",
       "      <td>15.5</td>\n",
       "    </tr>\n",
       "    <tr>\n",
       "      <th>12</th>\n",
       "      <td>15.200699</td>\n",
       "      <td>14.9</td>\n",
       "    </tr>\n",
       "    <tr>\n",
       "      <th>13</th>\n",
       "      <td>9.263097</td>\n",
       "      <td>9.5</td>\n",
       "    </tr>\n",
       "    <tr>\n",
       "      <th>14</th>\n",
       "      <td>10.965480</td>\n",
       "      <td>8.0</td>\n",
       "    </tr>\n",
       "    <tr>\n",
       "      <th>15</th>\n",
       "      <td>9.164778</td>\n",
       "      <td>10.6</td>\n",
       "    </tr>\n",
       "    <tr>\n",
       "      <th>16</th>\n",
       "      <td>12.740242</td>\n",
       "      <td>10.8</td>\n",
       "    </tr>\n",
       "    <tr>\n",
       "      <th>17</th>\n",
       "      <td>15.110516</td>\n",
       "      <td>15.2</td>\n",
       "    </tr>\n",
       "    <tr>\n",
       "      <th>18</th>\n",
       "      <td>10.652616</td>\n",
       "      <td>1.6</td>\n",
       "    </tr>\n",
       "    <tr>\n",
       "      <th>19</th>\n",
       "      <td>15.397642</td>\n",
       "      <td>13.2</td>\n",
       "    </tr>\n",
       "    <tr>\n",
       "      <th>20</th>\n",
       "      <td>15.633646</td>\n",
       "      <td>12.0</td>\n",
       "    </tr>\n",
       "    <tr>\n",
       "      <th>21</th>\n",
       "      <td>16.583395</td>\n",
       "      <td>15.5</td>\n",
       "    </tr>\n",
       "    <tr>\n",
       "      <th>22</th>\n",
       "      <td>6.468030</td>\n",
       "      <td>5.6</td>\n",
       "    </tr>\n",
       "    <tr>\n",
       "      <th>23</th>\n",
       "      <td>7.122444</td>\n",
       "      <td>8.7</td>\n",
       "    </tr>\n",
       "    <tr>\n",
       "      <th>24</th>\n",
       "      <td>11.545025</td>\n",
       "      <td>11.8</td>\n",
       "    </tr>\n",
       "    <tr>\n",
       "      <th>25</th>\n",
       "      <td>9.609571</td>\n",
       "      <td>10.9</td>\n",
       "    </tr>\n",
       "    <tr>\n",
       "      <th>26</th>\n",
       "      <td>19.144059</td>\n",
       "      <td>19.4</td>\n",
       "    </tr>\n",
       "    <tr>\n",
       "      <th>27</th>\n",
       "      <td>13.953885</td>\n",
       "      <td>14.2</td>\n",
       "    </tr>\n",
       "    <tr>\n",
       "      <th>28</th>\n",
       "      <td>8.223721</td>\n",
       "      <td>9.7</td>\n",
       "    </tr>\n",
       "    <tr>\n",
       "      <th>29</th>\n",
       "      <td>20.500373</td>\n",
       "      <td>22.1</td>\n",
       "    </tr>\n",
       "    <tr>\n",
       "      <th>30</th>\n",
       "      <td>14.523735</td>\n",
       "      <td>13.6</td>\n",
       "    </tr>\n",
       "    <tr>\n",
       "      <th>31</th>\n",
       "      <td>3.598929</td>\n",
       "      <td>5.3</td>\n",
       "    </tr>\n",
       "    <tr>\n",
       "      <th>32</th>\n",
       "      <td>18.294034</td>\n",
       "      <td>19.0</td>\n",
       "    </tr>\n",
       "    <tr>\n",
       "      <th>33</th>\n",
       "      <td>15.510908</td>\n",
       "      <td>12.7</td>\n",
       "    </tr>\n",
       "    <tr>\n",
       "      <th>34</th>\n",
       "      <td>8.868326</td>\n",
       "      <td>10.6</td>\n",
       "    </tr>\n",
       "    <tr>\n",
       "      <th>35</th>\n",
       "      <td>22.912316</td>\n",
       "      <td>24.2</td>\n",
       "    </tr>\n",
       "    <tr>\n",
       "      <th>36</th>\n",
       "      <td>10.020518</td>\n",
       "      <td>10.1</td>\n",
       "    </tr>\n",
       "    <tr>\n",
       "      <th>37</th>\n",
       "      <td>15.416706</td>\n",
       "      <td>14.6</td>\n",
       "    </tr>\n",
       "    <tr>\n",
       "      <th>38</th>\n",
       "      <td>14.752929</td>\n",
       "      <td>12.5</td>\n",
       "    </tr>\n",
       "    <tr>\n",
       "      <th>39</th>\n",
       "      <td>20.081164</td>\n",
       "      <td>20.2</td>\n",
       "    </tr>\n",
       "  </tbody>\n",
       "</table>\n",
       "</div>"
      ],
      "text/plain": [
       "            0     1\n",
       "0    4.513225   6.9\n",
       "1   12.052091  11.7\n",
       "2   20.867239  22.4\n",
       "3   11.842784  10.8\n",
       "4   17.147519  17.1\n",
       "5   17.676798  14.8\n",
       "6   23.232470  24.4\n",
       "7    7.718623   7.6\n",
       "8   13.976975  12.9\n",
       "9   10.687987  10.5\n",
       "10  23.149651  23.8\n",
       "11  14.418489  15.5\n",
       "12  15.200699  14.9\n",
       "13   9.263097   9.5\n",
       "14  10.965480   8.0\n",
       "15   9.164778  10.6\n",
       "16  12.740242  10.8\n",
       "17  15.110516  15.2\n",
       "18  10.652616   1.6\n",
       "19  15.397642  13.2\n",
       "20  15.633646  12.0\n",
       "21  16.583395  15.5\n",
       "22   6.468030   5.6\n",
       "23   7.122444   8.7\n",
       "24  11.545025  11.8\n",
       "25   9.609571  10.9\n",
       "26  19.144059  19.4\n",
       "27  13.953885  14.2\n",
       "28   8.223721   9.7\n",
       "29  20.500373  22.1\n",
       "30  14.523735  13.6\n",
       "31   3.598929   5.3\n",
       "32  18.294034  19.0\n",
       "33  15.510908  12.7\n",
       "34   8.868326  10.6\n",
       "35  22.912316  24.2\n",
       "36  10.020518  10.1\n",
       "37  15.416706  14.6\n",
       "38  14.752929  12.5\n",
       "39  20.081164  20.2"
      ]
     },
     "execution_count": 38,
     "metadata": {},
     "output_type": "execute_result"
    }
   ],
   "source": [
    "df.T"
   ]
  },
  {
   "cell_type": "code",
   "execution_count": 39,
   "id": "e317d6ff",
   "metadata": {},
   "outputs": [],
   "source": [
    "from sklearn.metrics import mean_squared_error,mean_absolute_error"
   ]
  },
  {
   "cell_type": "code",
   "execution_count": 40,
   "id": "5eabad02",
   "metadata": {},
   "outputs": [],
   "source": [
    "from sklearn.metrics import r2_score"
   ]
  },
  {
   "cell_type": "code",
   "execution_count": 41,
   "id": "481960d9",
   "metadata": {},
   "outputs": [
    {
     "name": "stdout",
     "output_type": "stream",
     "text": [
      "r2score: 0.8500083779957288\n",
      "mse: 4.250836625964409\n",
      "mae 1.38637436130671\n"
     ]
    }
   ],
   "source": [
    "score=r2_score(y_test,y_pred)\n",
    "mse=mean_squared_error(y_test,y_pred)\n",
    "mae=mean_absolute_error(y_test,y_pred)\n",
    "\n",
    "print('r2score:',score)\n",
    "print('mse:', mse)\n",
    "print('mae',mae)"
   ]
  },
  {
   "cell_type": "code",
   "execution_count": 42,
   "id": "3875d440",
   "metadata": {},
   "outputs": [
    {
     "data": {
      "text/plain": [
       "0.9703339033820142"
      ]
     },
     "execution_count": 42,
     "metadata": {},
     "output_type": "execute_result"
    }
   ],
   "source": [
    "from sklearn.neighbors import KNeighborsRegressor\n",
    "knr=KNeighborsRegressor(n_neighbors=3)\n",
    "knr.fit(x_train,y_train)\n",
    "knr.score(x_train,y_train)"
   ]
  },
  {
   "cell_type": "code",
   "execution_count": 43,
   "id": "5c410cae",
   "metadata": {},
   "outputs": [],
   "source": [
    "from sklearn.svm import SVR"
   ]
  },
  {
   "cell_type": "code",
   "execution_count": 44,
   "id": "0f11be9a",
   "metadata": {},
   "outputs": [
    {
     "data": {
      "text/plain": [
       "0.9330896591929099"
      ]
     },
     "execution_count": 44,
     "metadata": {},
     "output_type": "execute_result"
    }
   ],
   "source": [
    "svr=SVR()\n",
    "svr.fit(x_train,y_train)\n",
    "svr.score(x_train,y_train)\n"
   ]
  },
  {
   "cell_type": "code",
   "execution_count": 45,
   "id": "865981a8",
   "metadata": {},
   "outputs": [
    {
     "data": {
      "text/plain": [
       "array([ 7.84044498, 11.79956649, 21.76837723, 10.72834701, 16.95724417,\n",
       "       14.33892333, 22.38209611,  8.25414005, 12.7080481 , 10.9756124 ,\n",
       "       18.60489066, 14.99580468, 15.42207212, 10.14998928,  9.75757874,\n",
       "       10.0583985 , 11.43437912, 14.87215591,  9.93703482, 13.3116573 ,\n",
       "       12.53221436, 15.42754423,  9.03614226,  9.22172882, 11.41917451,\n",
       "       10.08022299, 20.08369972, 14.29372539,  9.04299399, 21.09241482,\n",
       "       13.287786  ,  8.0062413 , 19.59961988, 12.64946731, 10.27059047,\n",
       "       22.86680974, 10.57042253, 14.23336572, 12.46561037, 19.95356423])"
      ]
     },
     "execution_count": 45,
     "metadata": {},
     "output_type": "execute_result"
    }
   ],
   "source": [
    "svr.predict(x_test)"
   ]
  },
  {
   "cell_type": "code",
   "execution_count": 46,
   "id": "1bd2e2c0",
   "metadata": {},
   "outputs": [],
   "source": [
    "from sklearn.tree import DecisionTreeRegressor"
   ]
  },
  {
   "cell_type": "code",
   "execution_count": 47,
   "id": "c946e534",
   "metadata": {},
   "outputs": [
    {
     "data": {
      "text/plain": [
       "1.0"
      ]
     },
     "execution_count": 47,
     "metadata": {},
     "output_type": "execute_result"
    }
   ],
   "source": [
    "dtr=DecisionTreeRegressor()\n",
    "dtr.fit(x_train,y_train)\n",
    "dtr.score(x_train,y_train)"
   ]
  },
  {
   "cell_type": "code",
   "execution_count": 48,
   "id": "9d0e224d",
   "metadata": {},
   "outputs": [],
   "source": [
    "from sklearn.model_selection import cross_val_score\n",
    "pred_test=knr.predict(x_test)\n",
    "pred_train=knr.predict(x_test)"
   ]
  },
  {
   "cell_type": "code",
   "execution_count": 49,
   "id": "4b639bdf",
   "metadata": {},
   "outputs": [
    {
     "name": "stdout",
     "output_type": "stream",
     "text": [
      "0.8968593990866671\n"
     ]
    }
   ],
   "source": [
    "print(r2_score(y_test,pred_test))"
   ]
  },
  {
   "cell_type": "code",
   "execution_count": 50,
   "id": "a957a25e",
   "metadata": {},
   "outputs": [],
   "source": [
    "train_accuracy=r2_score(y_test,pred_train)\n",
    "test_accuracy=(r2_score(y_test,pred_test))"
   ]
  },
  {
   "cell_type": "code",
   "execution_count": 51,
   "id": "956164d6",
   "metadata": {},
   "outputs": [
    {
     "name": "stdout",
     "output_type": "stream",
     "text": [
      "at cross fold 2 the cv score is 0.8497700769325178 and accuracy score for training is0.8968593990866671 and accuracy for the testing is0.8968593990866671\n",
      "at cross fold 3 the cv score is 0.8926582417918634 and accuracy score for training is0.8968593990866671 and accuracy for the testing is0.8968593990866671\n",
      "at cross fold 4 the cv score is 0.8986354062800865 and accuracy score for training is0.8968593990866671 and accuracy for the testing is0.8968593990866671\n",
      "at cross fold 5 the cv score is 0.9011953652320344 and accuracy score for training is0.8968593990866671 and accuracy for the testing is0.8968593990866671\n",
      "at cross fold 6 the cv score is 0.9115031497573424 and accuracy score for training is0.8968593990866671 and accuracy for the testing is0.8968593990866671\n",
      "at cross fold 7 the cv score is 0.9041075166591348 and accuracy score for training is0.8968593990866671 and accuracy for the testing is0.8968593990866671\n",
      "at cross fold 8 the cv score is 0.9047828933490165 and accuracy score for training is0.8968593990866671 and accuracy for the testing is0.8968593990866671\n",
      "at cross fold 9 the cv score is 0.9091734791590659 and accuracy score for training is0.8968593990866671 and accuracy for the testing is0.8968593990866671\n",
      "/n\n"
     ]
    }
   ],
   "source": [
    "from sklearn.model_selection import cross_val_score\n",
    "for j in range(2,10):\n",
    "    cv_score=cross_val_score(svr,x,y,cv=j)\n",
    "    cv_mean=cv_score.mean()\n",
    "    print(f\"at cross fold {j} the cv score is {cv_mean} and accuracy score for training is{train_accuracy} and accuracy for the testing is{test_accuracy}\")\n",
    "print(\"/n\")"
   ]
  },
  {
   "cell_type": "code",
   "execution_count": 52,
   "id": "74310afd",
   "metadata": {},
   "outputs": [
    {
     "name": "stdout",
     "output_type": "stream",
     "text": [
      "at cross fold 2 the cv score is 0.8916349860383765 and accuracy score for training is0.8968593990866671 and accuracy for the testing is0.8968593990866671\n",
      "at cross fold 3 the cv score is 0.8915588165323286 and accuracy score for training is0.8968593990866671 and accuracy for the testing is0.8968593990866671\n",
      "at cross fold 4 the cv score is 0.8903579284297554 and accuracy score for training is0.8968593990866671 and accuracy for the testing is0.8968593990866671\n",
      "at cross fold 5 the cv score is 0.8873331295445761 and accuracy score for training is0.8968593990866671 and accuracy for the testing is0.8968593990866671\n",
      "at cross fold 6 the cv score is 0.8900202280811488 and accuracy score for training is0.8968593990866671 and accuracy for the testing is0.8968593990866671\n",
      "at cross fold 7 the cv score is 0.8861692012354757 and accuracy score for training is0.8968593990866671 and accuracy for the testing is0.8968593990866671\n",
      "at cross fold 8 the cv score is 0.8826536626159895 and accuracy score for training is0.8968593990866671 and accuracy for the testing is0.8968593990866671\n",
      "at cross fold 9 the cv score is 0.8824181241743712 and accuracy score for training is0.8968593990866671 and accuracy for the testing is0.8968593990866671\n",
      "/n\n"
     ]
    }
   ],
   "source": [
    "from sklearn.model_selection import cross_val_score\n",
    "for j in range(2,10):\n",
    "    cv_score=cross_val_score(lr,x,y,cv=j)\n",
    "    cv_mean=cv_score.mean()\n",
    "    print(f\"at cross fold {j} the cv score is {cv_mean} and accuracy score for training is{train_accuracy} and accuracy for the testing is{test_accuracy}\")\n",
    "print(\"/n\")"
   ]
  },
  {
   "cell_type": "code",
   "execution_count": 53,
   "id": "c3b24ab3",
   "metadata": {},
   "outputs": [
    {
     "name": "stdout",
     "output_type": "stream",
     "text": [
      "at cross fold 2 the cv score is 0.9358309568366083 and accuracy score for training is0.8968593990866671 and accuracy for the testing is0.8968593990866671\n",
      "at cross fold 3 the cv score is 0.9435420820510093 and accuracy score for training is0.8968593990866671 and accuracy for the testing is0.8968593990866671\n",
      "at cross fold 4 the cv score is 0.9395819350679628 and accuracy score for training is0.8968593990866671 and accuracy for the testing is0.8968593990866671\n",
      "at cross fold 5 the cv score is 0.959303523004621 and accuracy score for training is0.8968593990866671 and accuracy for the testing is0.8968593990866671\n",
      "at cross fold 6 the cv score is 0.9534989866428881 and accuracy score for training is0.8968593990866671 and accuracy for the testing is0.8968593990866671\n",
      "at cross fold 7 the cv score is 0.9485004161391514 and accuracy score for training is0.8968593990866671 and accuracy for the testing is0.8968593990866671\n",
      "at cross fold 8 the cv score is 0.9456446171913633 and accuracy score for training is0.8968593990866671 and accuracy for the testing is0.8968593990866671\n",
      "at cross fold 9 the cv score is 0.9430051106370149 and accuracy score for training is0.8968593990866671 and accuracy for the testing is0.8968593990866671\n",
      "/n\n"
     ]
    }
   ],
   "source": [
    "from sklearn.model_selection import cross_val_score\n",
    "for j in range(2,10):\n",
    "    cv_score=cross_val_score(dtr,x,y,cv=j)\n",
    "    cv_mean=cv_score.mean()\n",
    "    print(f\"at cross fold {j} the cv score is {cv_mean} and accuracy score for training is{train_accuracy} and accuracy for the testing is{test_accuracy}\")\n",
    "print(\"/n\")"
   ]
  },
  {
   "cell_type": "code",
   "execution_count": null,
   "id": "19127f2f",
   "metadata": {},
   "outputs": [],
   "source": []
  },
  {
   "cell_type": "code",
   "execution_count": 54,
   "id": "7357787d",
   "metadata": {},
   "outputs": [],
   "source": [
    "from sklearn.linear_model import Lasso,Ridge,ElasticNet"
   ]
  },
  {
   "cell_type": "code",
   "execution_count": 55,
   "id": "e00cb657",
   "metadata": {},
   "outputs": [
    {
     "data": {
      "text/plain": [
       "0.9083811097336372"
      ]
     },
     "execution_count": 55,
     "metadata": {},
     "output_type": "execute_result"
    }
   ],
   "source": [
    "ls=Lasso(alpha=0.0001)\n",
    "ls.fit(x_train,y_train)\n",
    "ls.score(x_train,y_train)\n"
   ]
  },
  {
   "cell_type": "code",
   "execution_count": 56,
   "id": "486e4886",
   "metadata": {},
   "outputs": [
    {
     "data": {
      "text/plain": [
       "0.9083811110850966"
      ]
     },
     "execution_count": 56,
     "metadata": {},
     "output_type": "execute_result"
    }
   ],
   "source": [
    "rd=Ridge(alpha=0.0001)\n",
    "rd.fit(x_train,y_train)\n",
    "rd.score(x_train,y_train)"
   ]
  },
  {
   "cell_type": "code",
   "execution_count": 57,
   "id": "8c2175e0",
   "metadata": {},
   "outputs": [
    {
     "data": {
      "text/plain": [
       "0.9083811071864429"
      ]
     },
     "execution_count": 57,
     "metadata": {},
     "output_type": "execute_result"
    }
   ],
   "source": [
    "en=ElasticNet(alpha=0.0001)\n",
    "en.fit(x_train,y_train)\n",
    "en.score(x_train,y_train)"
   ]
  },
  {
   "cell_type": "code",
   "execution_count": 58,
   "id": "321bde4a",
   "metadata": {},
   "outputs": [
    {
     "data": {
      "image/png": "[encoded data removed]",
      "text/plain": [
       "<Figure size 576x432 with 1 Axes>"
      ]
     },
     "metadata": {
      "needs_background": "light"
     },
     "output_type": "display_data"
    }
   ],
   "source": [
    "plt.figure(figsize=(8,6))\n",
    "plt.scatter(x=y_test,y=pred_test,color=\"r\")\n",
    "plt.plot(y_test,y_test,color=\"b\")\n",
    "plt.title=(\"linear regression\")\n",
    "plt.show()"
   ]
  },
  {
   "cell_type": "code",
   "execution_count": 59,
   "id": "46507f29",
   "metadata": {},
   "outputs": [],
   "source": [
    "import pickle\n",
    "filename='pred_sales.pkl'\n",
    "pickle.dump(lr,open(filename,'wb'))"
   ]
  },
  {
   "cell_type": "code",
   "execution_count": null,
   "id": "aa178de5",
   "metadata": {},
   "outputs": [],
   "source": [
    "\n"
   ]
  },
  {
   "cell_type": "code",
   "execution_count": null,
   "id": "bc2a28ac",
   "metadata": {},
   "outputs": [],
   "source": []
  }
 ],
 "metadata": {
  "kernelspec": {
   "display_name": "Python 3",
   "language": "python",
   "name": "python3"
  },
  "language_info": {
   "codemirror_mode": {
    "name": "ipython",
    "version": 3
   },
   "file_extension": ".py",
   "mimetype": "text/x-python",
   "name": "python",
   "nbconvert_exporter": "python",
   "pygments_lexer": "ipython3",
   "version": "3.8.8"
  }
 },
 "nbformat": 4,
 "nbformat_minor": 5
}
