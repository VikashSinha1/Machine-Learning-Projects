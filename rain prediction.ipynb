{
 "cells": [
  {
   "cell_type": "code",
   "execution_count": 1,
   "id": "0dae650c",
   "metadata": {},
   "outputs": [],
   "source": [
    "\n",
    "import pandas as pd\n",
    "import numpy as np\n",
    "import matplotlib.pyplot as plt\n",
    "import seaborn as sns\n",
    "import warnings \n",
    "warnings.filterwarnings(\"ignore\")"
   ]
  },
  {
   "cell_type": "code",
   "execution_count": 2,
   "id": "5d0b4ea6",
   "metadata": {},
   "outputs": [
    {
     "data": {
      "text/html": [
       "<div>\n",
       "<style scoped>\n",
       "    .dataframe tbody tr th:only-of-type {\n",
       "        vertical-align: middle;\n",
       "    }\n",
       "\n",
       "    .dataframe tbody tr th {\n",
       "        vertical-align: top;\n",
       "    }\n",
       "\n",
       "    .dataframe thead th {\n",
       "        text-align: right;\n",
       "    }\n",
       "</style>\n",
       "<table border=\"1\" class=\"dataframe\">\n",
       "  <thead>\n",
       "    <tr style=\"text-align: right;\">\n",
       "      <th></th>\n",
       "      <th>Date</th>\n",
       "      <th>Location</th>\n",
       "      <th>MinTemp</th>\n",
       "      <th>MaxTemp</th>\n",
       "      <th>Rainfall</th>\n",
       "      <th>Evaporation</th>\n",
       "      <th>Sunshine</th>\n",
       "      <th>WindGustDir</th>\n",
       "      <th>WindGustSpeed</th>\n",
       "      <th>WindDir9am</th>\n",
       "      <th>WindDir3pm</th>\n",
       "      <th>WindSpeed9am</th>\n",
       "      <th>WindSpeed3pm</th>\n",
       "      <th>Humidity9am</th>\n",
       "      <th>Humidity3pm</th>\n",
       "      <th>Pressure9am</th>\n",
       "      <th>Pressure3pm</th>\n",
       "      <th>Cloud9am</th>\n",
       "      <th>Cloud3pm</th>\n",
       "      <th>Temp9am</th>\n",
       "      <th>Temp3pm</th>\n",
       "      <th>RainToday</th>\n",
       "      <th>RainTomorrow</th>\n",
       "    </tr>\n",
       "  </thead>\n",
       "  <tbody>\n",
       "    <tr>\n",
       "      <th>0</th>\n",
       "      <td>2008-12-01</td>\n",
       "      <td>Albury</td>\n",
       "      <td>13.4</td>\n",
       "      <td>22.9</td>\n",
       "      <td>0.6</td>\n",
       "      <td>NaN</td>\n",
       "      <td>NaN</td>\n",
       "      <td>W</td>\n",
       "      <td>44.0</td>\n",
       "      <td>W</td>\n",
       "      <td>WNW</td>\n",
       "      <td>20.0</td>\n",
       "      <td>24.0</td>\n",
       "      <td>71.0</td>\n",
       "      <td>22.0</td>\n",
       "      <td>1007.7</td>\n",
       "      <td>1007.1</td>\n",
       "      <td>8.0</td>\n",
       "      <td>NaN</td>\n",
       "      <td>16.9</td>\n",
       "      <td>21.8</td>\n",
       "      <td>No</td>\n",
       "      <td>No</td>\n",
       "    </tr>\n",
       "    <tr>\n",
       "      <th>1</th>\n",
       "      <td>2008-12-02</td>\n",
       "      <td>Albury</td>\n",
       "      <td>7.4</td>\n",
       "      <td>25.1</td>\n",
       "      <td>0.0</td>\n",
       "      <td>NaN</td>\n",
       "      <td>NaN</td>\n",
       "      <td>WNW</td>\n",
       "      <td>44.0</td>\n",
       "      <td>NNW</td>\n",
       "      <td>WSW</td>\n",
       "      <td>4.0</td>\n",
       "      <td>22.0</td>\n",
       "      <td>44.0</td>\n",
       "      <td>25.0</td>\n",
       "      <td>1010.6</td>\n",
       "      <td>1007.8</td>\n",
       "      <td>NaN</td>\n",
       "      <td>NaN</td>\n",
       "      <td>17.2</td>\n",
       "      <td>24.3</td>\n",
       "      <td>No</td>\n",
       "      <td>No</td>\n",
       "    </tr>\n",
       "    <tr>\n",
       "      <th>2</th>\n",
       "      <td>2008-12-03</td>\n",
       "      <td>Albury</td>\n",
       "      <td>12.9</td>\n",
       "      <td>25.7</td>\n",
       "      <td>0.0</td>\n",
       "      <td>NaN</td>\n",
       "      <td>NaN</td>\n",
       "      <td>WSW</td>\n",
       "      <td>46.0</td>\n",
       "      <td>W</td>\n",
       "      <td>WSW</td>\n",
       "      <td>19.0</td>\n",
       "      <td>26.0</td>\n",
       "      <td>38.0</td>\n",
       "      <td>30.0</td>\n",
       "      <td>1007.6</td>\n",
       "      <td>1008.7</td>\n",
       "      <td>NaN</td>\n",
       "      <td>2.0</td>\n",
       "      <td>21.0</td>\n",
       "      <td>23.2</td>\n",
       "      <td>No</td>\n",
       "      <td>No</td>\n",
       "    </tr>\n",
       "    <tr>\n",
       "      <th>3</th>\n",
       "      <td>2008-12-04</td>\n",
       "      <td>Albury</td>\n",
       "      <td>9.2</td>\n",
       "      <td>28.0</td>\n",
       "      <td>0.0</td>\n",
       "      <td>NaN</td>\n",
       "      <td>NaN</td>\n",
       "      <td>NE</td>\n",
       "      <td>24.0</td>\n",
       "      <td>SE</td>\n",
       "      <td>E</td>\n",
       "      <td>11.0</td>\n",
       "      <td>9.0</td>\n",
       "      <td>45.0</td>\n",
       "      <td>16.0</td>\n",
       "      <td>1017.6</td>\n",
       "      <td>1012.8</td>\n",
       "      <td>NaN</td>\n",
       "      <td>NaN</td>\n",
       "      <td>18.1</td>\n",
       "      <td>26.5</td>\n",
       "      <td>No</td>\n",
       "      <td>No</td>\n",
       "    </tr>\n",
       "    <tr>\n",
       "      <th>4</th>\n",
       "      <td>2008-12-05</td>\n",
       "      <td>Albury</td>\n",
       "      <td>17.5</td>\n",
       "      <td>32.3</td>\n",
       "      <td>1.0</td>\n",
       "      <td>NaN</td>\n",
       "      <td>NaN</td>\n",
       "      <td>W</td>\n",
       "      <td>41.0</td>\n",
       "      <td>ENE</td>\n",
       "      <td>NW</td>\n",
       "      <td>7.0</td>\n",
       "      <td>20.0</td>\n",
       "      <td>82.0</td>\n",
       "      <td>33.0</td>\n",
       "      <td>1010.8</td>\n",
       "      <td>1006.0</td>\n",
       "      <td>7.0</td>\n",
       "      <td>8.0</td>\n",
       "      <td>17.8</td>\n",
       "      <td>29.7</td>\n",
       "      <td>No</td>\n",
       "      <td>No</td>\n",
       "    </tr>\n",
       "    <tr>\n",
       "      <th>...</th>\n",
       "      <td>...</td>\n",
       "      <td>...</td>\n",
       "      <td>...</td>\n",
       "      <td>...</td>\n",
       "      <td>...</td>\n",
       "      <td>...</td>\n",
       "      <td>...</td>\n",
       "      <td>...</td>\n",
       "      <td>...</td>\n",
       "      <td>...</td>\n",
       "      <td>...</td>\n",
       "      <td>...</td>\n",
       "      <td>...</td>\n",
       "      <td>...</td>\n",
       "      <td>...</td>\n",
       "      <td>...</td>\n",
       "      <td>...</td>\n",
       "      <td>...</td>\n",
       "      <td>...</td>\n",
       "      <td>...</td>\n",
       "      <td>...</td>\n",
       "      <td>...</td>\n",
       "      <td>...</td>\n",
       "    </tr>\n",
       "    <tr>\n",
       "      <th>8420</th>\n",
       "      <td>2017-06-21</td>\n",
       "      <td>Uluru</td>\n",
       "      <td>2.8</td>\n",
       "      <td>23.4</td>\n",
       "      <td>0.0</td>\n",
       "      <td>NaN</td>\n",
       "      <td>NaN</td>\n",
       "      <td>E</td>\n",
       "      <td>31.0</td>\n",
       "      <td>SE</td>\n",
       "      <td>ENE</td>\n",
       "      <td>13.0</td>\n",
       "      <td>11.0</td>\n",
       "      <td>51.0</td>\n",
       "      <td>24.0</td>\n",
       "      <td>1024.6</td>\n",
       "      <td>1020.3</td>\n",
       "      <td>NaN</td>\n",
       "      <td>NaN</td>\n",
       "      <td>10.1</td>\n",
       "      <td>22.4</td>\n",
       "      <td>No</td>\n",
       "      <td>No</td>\n",
       "    </tr>\n",
       "    <tr>\n",
       "      <th>8421</th>\n",
       "      <td>2017-06-22</td>\n",
       "      <td>Uluru</td>\n",
       "      <td>3.6</td>\n",
       "      <td>25.3</td>\n",
       "      <td>0.0</td>\n",
       "      <td>NaN</td>\n",
       "      <td>NaN</td>\n",
       "      <td>NNW</td>\n",
       "      <td>22.0</td>\n",
       "      <td>SE</td>\n",
       "      <td>N</td>\n",
       "      <td>13.0</td>\n",
       "      <td>9.0</td>\n",
       "      <td>56.0</td>\n",
       "      <td>21.0</td>\n",
       "      <td>1023.5</td>\n",
       "      <td>1019.1</td>\n",
       "      <td>NaN</td>\n",
       "      <td>NaN</td>\n",
       "      <td>10.9</td>\n",
       "      <td>24.5</td>\n",
       "      <td>No</td>\n",
       "      <td>No</td>\n",
       "    </tr>\n",
       "    <tr>\n",
       "      <th>8422</th>\n",
       "      <td>2017-06-23</td>\n",
       "      <td>Uluru</td>\n",
       "      <td>5.4</td>\n",
       "      <td>26.9</td>\n",
       "      <td>0.0</td>\n",
       "      <td>NaN</td>\n",
       "      <td>NaN</td>\n",
       "      <td>N</td>\n",
       "      <td>37.0</td>\n",
       "      <td>SE</td>\n",
       "      <td>WNW</td>\n",
       "      <td>9.0</td>\n",
       "      <td>9.0</td>\n",
       "      <td>53.0</td>\n",
       "      <td>24.0</td>\n",
       "      <td>1021.0</td>\n",
       "      <td>1016.8</td>\n",
       "      <td>NaN</td>\n",
       "      <td>NaN</td>\n",
       "      <td>12.5</td>\n",
       "      <td>26.1</td>\n",
       "      <td>No</td>\n",
       "      <td>No</td>\n",
       "    </tr>\n",
       "    <tr>\n",
       "      <th>8423</th>\n",
       "      <td>2017-06-24</td>\n",
       "      <td>Uluru</td>\n",
       "      <td>7.8</td>\n",
       "      <td>27.0</td>\n",
       "      <td>0.0</td>\n",
       "      <td>NaN</td>\n",
       "      <td>NaN</td>\n",
       "      <td>SE</td>\n",
       "      <td>28.0</td>\n",
       "      <td>SSE</td>\n",
       "      <td>N</td>\n",
       "      <td>13.0</td>\n",
       "      <td>7.0</td>\n",
       "      <td>51.0</td>\n",
       "      <td>24.0</td>\n",
       "      <td>1019.4</td>\n",
       "      <td>1016.5</td>\n",
       "      <td>3.0</td>\n",
       "      <td>2.0</td>\n",
       "      <td>15.1</td>\n",
       "      <td>26.0</td>\n",
       "      <td>No</td>\n",
       "      <td>No</td>\n",
       "    </tr>\n",
       "    <tr>\n",
       "      <th>8424</th>\n",
       "      <td>2017-06-25</td>\n",
       "      <td>Uluru</td>\n",
       "      <td>14.9</td>\n",
       "      <td>NaN</td>\n",
       "      <td>0.0</td>\n",
       "      <td>NaN</td>\n",
       "      <td>NaN</td>\n",
       "      <td>NaN</td>\n",
       "      <td>NaN</td>\n",
       "      <td>ESE</td>\n",
       "      <td>ESE</td>\n",
       "      <td>17.0</td>\n",
       "      <td>17.0</td>\n",
       "      <td>62.0</td>\n",
       "      <td>36.0</td>\n",
       "      <td>1020.2</td>\n",
       "      <td>1017.9</td>\n",
       "      <td>8.0</td>\n",
       "      <td>8.0</td>\n",
       "      <td>15.0</td>\n",
       "      <td>20.9</td>\n",
       "      <td>No</td>\n",
       "      <td>NaN</td>\n",
       "    </tr>\n",
       "  </tbody>\n",
       "</table>\n",
       "<p>8425 rows × 23 columns</p>\n",
       "</div>"
      ],
      "text/plain": [
       "            Date Location  MinTemp  MaxTemp  Rainfall  Evaporation  Sunshine  \\\n",
       "0     2008-12-01   Albury     13.4     22.9       0.6          NaN       NaN   \n",
       "1     2008-12-02   Albury      7.4     25.1       0.0          NaN       NaN   \n",
       "2     2008-12-03   Albury     12.9     25.7       0.0          NaN       NaN   \n",
       "3     2008-12-04   Albury      9.2     28.0       0.0          NaN       NaN   \n",
       "4     2008-12-05   Albury     17.5     32.3       1.0          NaN       NaN   \n",
       "...          ...      ...      ...      ...       ...          ...       ...   \n",
       "8420  2017-06-21    Uluru      2.8     23.4       0.0          NaN       NaN   \n",
       "8421  2017-06-22    Uluru      3.6     25.3       0.0          NaN       NaN   \n",
       "8422  2017-06-23    Uluru      5.4     26.9       0.0          NaN       NaN   \n",
       "8423  2017-06-24    Uluru      7.8     27.0       0.0          NaN       NaN   \n",
       "8424  2017-06-25    Uluru     14.9      NaN       0.0          NaN       NaN   \n",
       "\n",
       "     WindGustDir  WindGustSpeed WindDir9am WindDir3pm  WindSpeed9am  \\\n",
       "0              W           44.0          W        WNW          20.0   \n",
       "1            WNW           44.0        NNW        WSW           4.0   \n",
       "2            WSW           46.0          W        WSW          19.0   \n",
       "3             NE           24.0         SE          E          11.0   \n",
       "4              W           41.0        ENE         NW           7.0   \n",
       "...          ...            ...        ...        ...           ...   \n",
       "8420           E           31.0         SE        ENE          13.0   \n",
       "8421         NNW           22.0         SE          N          13.0   \n",
       "8422           N           37.0         SE        WNW           9.0   \n",
       "8423          SE           28.0        SSE          N          13.0   \n",
       "8424         NaN            NaN        ESE        ESE          17.0   \n",
       "\n",
       "      WindSpeed3pm  Humidity9am  Humidity3pm  Pressure9am  Pressure3pm  \\\n",
       "0             24.0         71.0         22.0       1007.7       1007.1   \n",
       "1             22.0         44.0         25.0       1010.6       1007.8   \n",
       "2             26.0         38.0         30.0       1007.6       1008.7   \n",
       "3              9.0         45.0         16.0       1017.6       1012.8   \n",
       "4             20.0         82.0         33.0       1010.8       1006.0   \n",
       "...            ...          ...          ...          ...          ...   \n",
       "8420          11.0         51.0         24.0       1024.6       1020.3   \n",
       "8421           9.0         56.0         21.0       1023.5       1019.1   \n",
       "8422           9.0         53.0         24.0       1021.0       1016.8   \n",
       "8423           7.0         51.0         24.0       1019.4       1016.5   \n",
       "8424          17.0         62.0         36.0       1020.2       1017.9   \n",
       "\n",
       "      Cloud9am  Cloud3pm  Temp9am  Temp3pm RainToday RainTomorrow  \n",
       "0          8.0       NaN     16.9     21.8        No           No  \n",
       "1          NaN       NaN     17.2     24.3        No           No  \n",
       "2          NaN       2.0     21.0     23.2        No           No  \n",
       "3          NaN       NaN     18.1     26.5        No           No  \n",
       "4          7.0       8.0     17.8     29.7        No           No  \n",
       "...        ...       ...      ...      ...       ...          ...  \n",
       "8420       NaN       NaN     10.1     22.4        No           No  \n",
       "8421       NaN       NaN     10.9     24.5        No           No  \n",
       "8422       NaN       NaN     12.5     26.1        No           No  \n",
       "8423       3.0       2.0     15.1     26.0        No           No  \n",
       "8424       8.0       8.0     15.0     20.9        No          NaN  \n",
       "\n",
       "[8425 rows x 23 columns]"
      ]
     },
     "execution_count": 2,
     "metadata": {},
     "output_type": "execute_result"
    }
   ],
   "source": [
    "df=pd.read_csv(\"rainpred\")\n",
    "pd.set_option(\"display.max_columns\",500)\n",
    "df"
   ]
  },
  {
   "cell_type": "code",
   "execution_count": 3,
   "id": "b78bbbfb",
   "metadata": {},
   "outputs": [
    {
     "data": {
      "text/plain": [
       "No     6195\n",
       "Yes    1991\n",
       "Name: RainTomorrow, dtype: int64"
      ]
     },
     "execution_count": 3,
     "metadata": {},
     "output_type": "execute_result"
    }
   ],
   "source": [
    "df['RainTomorrow'].value_counts()"
   ]
  },
  {
   "cell_type": "code",
   "execution_count": 4,
   "id": "ed7331b0",
   "metadata": {},
   "outputs": [
    {
     "data": {
      "text/plain": [
       "Date              object\n",
       "Location          object\n",
       "MinTemp          float64\n",
       "MaxTemp          float64\n",
       "Rainfall         float64\n",
       "Evaporation      float64\n",
       "Sunshine         float64\n",
       "WindGustDir       object\n",
       "WindGustSpeed    float64\n",
       "WindDir9am        object\n",
       "WindDir3pm        object\n",
       "WindSpeed9am     float64\n",
       "WindSpeed3pm     float64\n",
       "Humidity9am      float64\n",
       "Humidity3pm      float64\n",
       "Pressure9am      float64\n",
       "Pressure3pm      float64\n",
       "Cloud9am         float64\n",
       "Cloud3pm         float64\n",
       "Temp9am          float64\n",
       "Temp3pm          float64\n",
       "RainToday         object\n",
       "RainTomorrow      object\n",
       "dtype: object"
      ]
     },
     "execution_count": 4,
     "metadata": {},
     "output_type": "execute_result"
    }
   ],
   "source": [
    "df.dtypes"
   ]
  },
  {
   "cell_type": "code",
   "execution_count": null,
   "id": "7170b1db",
   "metadata": {},
   "outputs": [],
   "source": []
  },
  {
   "cell_type": "code",
   "execution_count": 5,
   "id": "472d6a25",
   "metadata": {},
   "outputs": [
    {
     "data": {
      "text/plain": [
       "Date                0\n",
       "Location            0\n",
       "MinTemp            75\n",
       "MaxTemp            60\n",
       "Rainfall          240\n",
       "Evaporation      3512\n",
       "Sunshine         3994\n",
       "WindGustDir       991\n",
       "WindGustSpeed     991\n",
       "WindDir9am        829\n",
       "WindDir3pm        308\n",
       "WindSpeed9am       76\n",
       "WindSpeed3pm      107\n",
       "Humidity9am        59\n",
       "Humidity3pm       102\n",
       "Pressure9am      1309\n",
       "Pressure3pm      1312\n",
       "Cloud9am         2421\n",
       "Cloud3pm         2455\n",
       "Temp9am            56\n",
       "Temp3pm            96\n",
       "RainToday         240\n",
       "RainTomorrow      239\n",
       "dtype: int64"
      ]
     },
     "execution_count": 5,
     "metadata": {},
     "output_type": "execute_result"
    }
   ],
   "source": [
    "df.isnull().sum()"
   ]
  },
  {
   "cell_type": "markdown",
   "id": "4cfaa849",
   "metadata": {},
   "source": [
    "we can see that there are many columns which have missing values."
   ]
  },
  {
   "cell_type": "code",
   "execution_count": 6,
   "id": "59029ef4",
   "metadata": {},
   "outputs": [
    {
     "data": {
      "text/plain": [
       "<AxesSubplot:>"
      ]
     },
     "execution_count": 6,
     "metadata": {},
     "output_type": "execute_result"
    },
    {
     "data": {
      "image/png": "[encoded data removed]",
      "text/plain": [
       "<Figure size 1440x576 with 2 Axes>"
      ]
     },
     "metadata": {
      "needs_background": "light"
     },
     "output_type": "display_data"
    }
   ],
   "source": [
    "plt.figure(figsize=(20,8))\n",
    "sns.heatmap(df.isnull())"
   ]
  },
  {
   "cell_type": "markdown",
   "id": "c0710ce3",
   "metadata": {},
   "source": [
    "we can see that there are a lot of missing values in the datatset\n",
    "lets fix them"
   ]
  },
  {
   "cell_type": "markdown",
   "id": "7ee3597d",
   "metadata": {},
   "source": [
    "appling mean() function in numerical columns"
   ]
  },
  {
   "cell_type": "code",
   "execution_count": 7,
   "id": "19e7ad35",
   "metadata": {},
   "outputs": [],
   "source": [
    "df['MinTemp']=df['MinTemp'].replace(np.NAN,df['MinTemp'].mean())\n",
    "df['MaxTemp']=df['MaxTemp'].replace(np.NAN,df['MaxTemp'].mean())\n",
    "df['Rainfall']=df['Rainfall'].replace(np.NAN,df['Rainfall'].mean())\n",
    "df['Evaporation']=df['Evaporation'].replace(np.NAN,df['Evaporation'].mean())\n",
    "df['Sunshine']=df['Sunshine'].replace(np.NAN,df['Sunshine'].mean())\n",
    "df['WindGustSpeed']=df['WindGustSpeed'].replace(np.NAN,df['WindGustSpeed'].mean())\n",
    "df['WindSpeed9am']=df['WindSpeed9am'].replace(np.NAN,df['WindSpeed9am'].mean())\n",
    "df['WindSpeed3pm']=df['WindSpeed3pm'].replace(np.NAN,df['WindSpeed3pm'].mean())\n",
    "df['Humidity9am']=df['Humidity9am'].replace(np.NAN,df['Humidity9am'].mean())\n",
    "df['Humidity3pm']=df['Humidity3pm'].replace(np.NAN,df['Humidity3pm'].mean())\n",
    "df['Pressure9am']=df['Pressure9am'].replace(np.NAN,df['Pressure9am'].mean())\n",
    "df['Pressure3pm']=df['Pressure3pm'].replace(np.NAN,df['Pressure3pm'].mean())\n",
    "df['Cloud9am']=df['Cloud9am'].replace(np.NAN,df['Cloud9am'].mean())\n",
    "df['Cloud3pm']=df['Cloud3pm'].replace(np.NAN,df['Cloud3pm'].mean())\n",
    "df['Temp9am']=df['Temp9am'].replace(np.NAN,df['Temp9am'].mean())\n",
    "df['Temp3pm']=df['Temp3pm'].replace(np.NAN,df['Temp3pm'].mean())"
   ]
  },
  {
   "cell_type": "code",
   "execution_count": 8,
   "id": "b89435c0",
   "metadata": {},
   "outputs": [
    {
     "data": {
      "text/plain": [
       "Date               0\n",
       "Location           0\n",
       "MinTemp            0\n",
       "MaxTemp            0\n",
       "Rainfall           0\n",
       "Evaporation        0\n",
       "Sunshine           0\n",
       "WindGustDir      991\n",
       "WindGustSpeed      0\n",
       "WindDir9am       829\n",
       "WindDir3pm       308\n",
       "WindSpeed9am       0\n",
       "WindSpeed3pm       0\n",
       "Humidity9am        0\n",
       "Humidity3pm        0\n",
       "Pressure9am        0\n",
       "Pressure3pm        0\n",
       "Cloud9am           0\n",
       "Cloud3pm           0\n",
       "Temp9am            0\n",
       "Temp3pm            0\n",
       "RainToday        240\n",
       "RainTomorrow     239\n",
       "dtype: int64"
      ]
     },
     "execution_count": 8,
     "metadata": {},
     "output_type": "execute_result"
    }
   ],
   "source": [
    "df.isnull().sum()"
   ]
  },
  {
   "cell_type": "markdown",
   "id": "53b584eb",
   "metadata": {},
   "source": [
    "appling mode function in categorical features"
   ]
  },
  {
   "cell_type": "code",
   "execution_count": 9,
   "id": "23141c69",
   "metadata": {},
   "outputs": [],
   "source": [
    "df['WindGustDir']=df.fillna(df['WindGustDir'].mode())\n",
    "df['WindDir9am']=df.fillna(df['WindDir9am'].mode())\n",
    "df['WindDir3pm']=df.fillna(df['WindDir3pm'].mode())\n"
   ]
  },
  {
   "cell_type": "code",
   "execution_count": 10,
   "id": "46c0546b",
   "metadata": {},
   "outputs": [
    {
     "data": {
      "text/plain": [
       "Date               0\n",
       "Location           0\n",
       "MinTemp            0\n",
       "MaxTemp            0\n",
       "Rainfall           0\n",
       "Evaporation        0\n",
       "Sunshine           0\n",
       "WindGustDir        0\n",
       "WindGustSpeed      0\n",
       "WindDir9am         0\n",
       "WindDir3pm         0\n",
       "WindSpeed9am       0\n",
       "WindSpeed3pm       0\n",
       "Humidity9am        0\n",
       "Humidity3pm        0\n",
       "Pressure9am        0\n",
       "Pressure3pm        0\n",
       "Cloud9am           0\n",
       "Cloud3pm           0\n",
       "Temp9am            0\n",
       "Temp3pm            0\n",
       "RainToday        240\n",
       "RainTomorrow     239\n",
       "dtype: int64"
      ]
     },
     "execution_count": 10,
     "metadata": {},
     "output_type": "execute_result"
    }
   ],
   "source": [
    "df.isnull().sum()\n"
   ]
  },
  {
   "cell_type": "code",
   "execution_count": 11,
   "id": "21e3a001",
   "metadata": {},
   "outputs": [
    {
     "data": {
      "text/plain": [
       "<AxesSubplot:>"
      ]
     },
     "execution_count": 11,
     "metadata": {},
     "output_type": "execute_result"
    },
    {
     "data": {
      "image/png": "[encoded data removed]",
      "text/plain": [
       "<Figure size 432x288 with 2 Axes>"
      ]
     },
     "metadata": {
      "needs_background": "light"
     },
     "output_type": "display_data"
    }
   ],
   "source": [
    "sns.heatmap(df.isnull())"
   ]
  },
  {
   "cell_type": "code",
   "execution_count": 12,
   "id": "22e8b746",
   "metadata": {},
   "outputs": [],
   "source": [
    "df['Date']=pd.to_datetime(df['Date'])"
   ]
  },
  {
   "cell_type": "code",
   "execution_count": 13,
   "id": "347031d3",
   "metadata": {},
   "outputs": [
    {
     "data": {
      "text/plain": [
       "Date             datetime64[ns]\n",
       "Location                 object\n",
       "MinTemp                 float64\n",
       "MaxTemp                 float64\n",
       "Rainfall                float64\n",
       "Evaporation             float64\n",
       "Sunshine                float64\n",
       "WindGustDir              object\n",
       "WindGustSpeed           float64\n",
       "WindDir9am               object\n",
       "WindDir3pm               object\n",
       "WindSpeed9am            float64\n",
       "WindSpeed3pm            float64\n",
       "Humidity9am             float64\n",
       "Humidity3pm             float64\n",
       "Pressure9am             float64\n",
       "Pressure3pm             float64\n",
       "Cloud9am                float64\n",
       "Cloud3pm                float64\n",
       "Temp9am                 float64\n",
       "Temp3pm                 float64\n",
       "RainToday                object\n",
       "RainTomorrow             object\n",
       "dtype: object"
      ]
     },
     "execution_count": 13,
     "metadata": {},
     "output_type": "execute_result"
    }
   ],
   "source": [
    "df.dtypes"
   ]
  },
  {
   "cell_type": "code",
   "execution_count": 14,
   "id": "2ce278da",
   "metadata": {},
   "outputs": [],
   "source": [
    "df['Day']=df['Date'].dt.day\n",
    "df['Month']=df['Date'].dt.month\n",
    "df['Year']=df['Date'].dt.year"
   ]
  },
  {
   "cell_type": "code",
   "execution_count": 15,
   "id": "5abd834b",
   "metadata": {},
   "outputs": [
    {
     "data": {
      "text/html": [
       "<div>\n",
       "<style scoped>\n",
       "    .dataframe tbody tr th:only-of-type {\n",
       "        vertical-align: middle;\n",
       "    }\n",
       "\n",
       "    .dataframe tbody tr th {\n",
       "        vertical-align: top;\n",
       "    }\n",
       "\n",
       "    .dataframe thead th {\n",
       "        text-align: right;\n",
       "    }\n",
       "</style>\n",
       "<table border=\"1\" class=\"dataframe\">\n",
       "  <thead>\n",
       "    <tr style=\"text-align: right;\">\n",
       "      <th></th>\n",
       "      <th>Date</th>\n",
       "      <th>Location</th>\n",
       "      <th>MinTemp</th>\n",
       "      <th>MaxTemp</th>\n",
       "      <th>Rainfall</th>\n",
       "      <th>Evaporation</th>\n",
       "      <th>Sunshine</th>\n",
       "      <th>WindGustDir</th>\n",
       "      <th>WindGustSpeed</th>\n",
       "      <th>WindDir9am</th>\n",
       "      <th>WindDir3pm</th>\n",
       "      <th>WindSpeed9am</th>\n",
       "      <th>WindSpeed3pm</th>\n",
       "      <th>Humidity9am</th>\n",
       "      <th>Humidity3pm</th>\n",
       "      <th>Pressure9am</th>\n",
       "      <th>Pressure3pm</th>\n",
       "      <th>Cloud9am</th>\n",
       "      <th>Cloud3pm</th>\n",
       "      <th>Temp9am</th>\n",
       "      <th>Temp3pm</th>\n",
       "      <th>RainToday</th>\n",
       "      <th>RainTomorrow</th>\n",
       "      <th>Day</th>\n",
       "      <th>Month</th>\n",
       "      <th>Year</th>\n",
       "    </tr>\n",
       "  </thead>\n",
       "  <tbody>\n",
       "    <tr>\n",
       "      <th>0</th>\n",
       "      <td>2008-12-01</td>\n",
       "      <td>Albury</td>\n",
       "      <td>13.4</td>\n",
       "      <td>22.900000</td>\n",
       "      <td>0.6</td>\n",
       "      <td>5.389395</td>\n",
       "      <td>7.632205</td>\n",
       "      <td>2008-12-01</td>\n",
       "      <td>44.000000</td>\n",
       "      <td>2008-12-01</td>\n",
       "      <td>2008-12-01</td>\n",
       "      <td>20.0</td>\n",
       "      <td>24.0</td>\n",
       "      <td>71.0</td>\n",
       "      <td>22.0</td>\n",
       "      <td>1007.7</td>\n",
       "      <td>1007.1</td>\n",
       "      <td>8.000000</td>\n",
       "      <td>4.503183</td>\n",
       "      <td>16.9</td>\n",
       "      <td>21.8</td>\n",
       "      <td>No</td>\n",
       "      <td>No</td>\n",
       "      <td>1</td>\n",
       "      <td>12</td>\n",
       "      <td>2008</td>\n",
       "    </tr>\n",
       "    <tr>\n",
       "      <th>1</th>\n",
       "      <td>2008-12-02</td>\n",
       "      <td>Albury</td>\n",
       "      <td>7.4</td>\n",
       "      <td>25.100000</td>\n",
       "      <td>0.0</td>\n",
       "      <td>5.389395</td>\n",
       "      <td>7.632205</td>\n",
       "      <td>2008-12-02</td>\n",
       "      <td>44.000000</td>\n",
       "      <td>2008-12-02</td>\n",
       "      <td>2008-12-02</td>\n",
       "      <td>4.0</td>\n",
       "      <td>22.0</td>\n",
       "      <td>44.0</td>\n",
       "      <td>25.0</td>\n",
       "      <td>1010.6</td>\n",
       "      <td>1007.8</td>\n",
       "      <td>4.566622</td>\n",
       "      <td>4.503183</td>\n",
       "      <td>17.2</td>\n",
       "      <td>24.3</td>\n",
       "      <td>No</td>\n",
       "      <td>No</td>\n",
       "      <td>2</td>\n",
       "      <td>12</td>\n",
       "      <td>2008</td>\n",
       "    </tr>\n",
       "    <tr>\n",
       "      <th>2</th>\n",
       "      <td>2008-12-03</td>\n",
       "      <td>Albury</td>\n",
       "      <td>12.9</td>\n",
       "      <td>25.700000</td>\n",
       "      <td>0.0</td>\n",
       "      <td>5.389395</td>\n",
       "      <td>7.632205</td>\n",
       "      <td>2008-12-03</td>\n",
       "      <td>46.000000</td>\n",
       "      <td>2008-12-03</td>\n",
       "      <td>2008-12-03</td>\n",
       "      <td>19.0</td>\n",
       "      <td>26.0</td>\n",
       "      <td>38.0</td>\n",
       "      <td>30.0</td>\n",
       "      <td>1007.6</td>\n",
       "      <td>1008.7</td>\n",
       "      <td>4.566622</td>\n",
       "      <td>2.000000</td>\n",
       "      <td>21.0</td>\n",
       "      <td>23.2</td>\n",
       "      <td>No</td>\n",
       "      <td>No</td>\n",
       "      <td>3</td>\n",
       "      <td>12</td>\n",
       "      <td>2008</td>\n",
       "    </tr>\n",
       "    <tr>\n",
       "      <th>3</th>\n",
       "      <td>2008-12-04</td>\n",
       "      <td>Albury</td>\n",
       "      <td>9.2</td>\n",
       "      <td>28.000000</td>\n",
       "      <td>0.0</td>\n",
       "      <td>5.389395</td>\n",
       "      <td>7.632205</td>\n",
       "      <td>2008-12-04</td>\n",
       "      <td>24.000000</td>\n",
       "      <td>2008-12-04</td>\n",
       "      <td>2008-12-04</td>\n",
       "      <td>11.0</td>\n",
       "      <td>9.0</td>\n",
       "      <td>45.0</td>\n",
       "      <td>16.0</td>\n",
       "      <td>1017.6</td>\n",
       "      <td>1012.8</td>\n",
       "      <td>4.566622</td>\n",
       "      <td>4.503183</td>\n",
       "      <td>18.1</td>\n",
       "      <td>26.5</td>\n",
       "      <td>No</td>\n",
       "      <td>No</td>\n",
       "      <td>4</td>\n",
       "      <td>12</td>\n",
       "      <td>2008</td>\n",
       "    </tr>\n",
       "    <tr>\n",
       "      <th>4</th>\n",
       "      <td>2008-12-05</td>\n",
       "      <td>Albury</td>\n",
       "      <td>17.5</td>\n",
       "      <td>32.300000</td>\n",
       "      <td>1.0</td>\n",
       "      <td>5.389395</td>\n",
       "      <td>7.632205</td>\n",
       "      <td>2008-12-05</td>\n",
       "      <td>41.000000</td>\n",
       "      <td>2008-12-05</td>\n",
       "      <td>2008-12-05</td>\n",
       "      <td>7.0</td>\n",
       "      <td>20.0</td>\n",
       "      <td>82.0</td>\n",
       "      <td>33.0</td>\n",
       "      <td>1010.8</td>\n",
       "      <td>1006.0</td>\n",
       "      <td>7.000000</td>\n",
       "      <td>8.000000</td>\n",
       "      <td>17.8</td>\n",
       "      <td>29.7</td>\n",
       "      <td>No</td>\n",
       "      <td>No</td>\n",
       "      <td>5</td>\n",
       "      <td>12</td>\n",
       "      <td>2008</td>\n",
       "    </tr>\n",
       "    <tr>\n",
       "      <th>...</th>\n",
       "      <td>...</td>\n",
       "      <td>...</td>\n",
       "      <td>...</td>\n",
       "      <td>...</td>\n",
       "      <td>...</td>\n",
       "      <td>...</td>\n",
       "      <td>...</td>\n",
       "      <td>...</td>\n",
       "      <td>...</td>\n",
       "      <td>...</td>\n",
       "      <td>...</td>\n",
       "      <td>...</td>\n",
       "      <td>...</td>\n",
       "      <td>...</td>\n",
       "      <td>...</td>\n",
       "      <td>...</td>\n",
       "      <td>...</td>\n",
       "      <td>...</td>\n",
       "      <td>...</td>\n",
       "      <td>...</td>\n",
       "      <td>...</td>\n",
       "      <td>...</td>\n",
       "      <td>...</td>\n",
       "      <td>...</td>\n",
       "      <td>...</td>\n",
       "      <td>...</td>\n",
       "    </tr>\n",
       "    <tr>\n",
       "      <th>8420</th>\n",
       "      <td>2017-06-21</td>\n",
       "      <td>Uluru</td>\n",
       "      <td>2.8</td>\n",
       "      <td>23.400000</td>\n",
       "      <td>0.0</td>\n",
       "      <td>5.389395</td>\n",
       "      <td>7.632205</td>\n",
       "      <td>2017-06-21</td>\n",
       "      <td>31.000000</td>\n",
       "      <td>2017-06-21</td>\n",
       "      <td>2017-06-21</td>\n",
       "      <td>13.0</td>\n",
       "      <td>11.0</td>\n",
       "      <td>51.0</td>\n",
       "      <td>24.0</td>\n",
       "      <td>1024.6</td>\n",
       "      <td>1020.3</td>\n",
       "      <td>4.566622</td>\n",
       "      <td>4.503183</td>\n",
       "      <td>10.1</td>\n",
       "      <td>22.4</td>\n",
       "      <td>No</td>\n",
       "      <td>No</td>\n",
       "      <td>21</td>\n",
       "      <td>6</td>\n",
       "      <td>2017</td>\n",
       "    </tr>\n",
       "    <tr>\n",
       "      <th>8421</th>\n",
       "      <td>2017-06-22</td>\n",
       "      <td>Uluru</td>\n",
       "      <td>3.6</td>\n",
       "      <td>25.300000</td>\n",
       "      <td>0.0</td>\n",
       "      <td>5.389395</td>\n",
       "      <td>7.632205</td>\n",
       "      <td>2017-06-22</td>\n",
       "      <td>22.000000</td>\n",
       "      <td>2017-06-22</td>\n",
       "      <td>2017-06-22</td>\n",
       "      <td>13.0</td>\n",
       "      <td>9.0</td>\n",
       "      <td>56.0</td>\n",
       "      <td>21.0</td>\n",
       "      <td>1023.5</td>\n",
       "      <td>1019.1</td>\n",
       "      <td>4.566622</td>\n",
       "      <td>4.503183</td>\n",
       "      <td>10.9</td>\n",
       "      <td>24.5</td>\n",
       "      <td>No</td>\n",
       "      <td>No</td>\n",
       "      <td>22</td>\n",
       "      <td>6</td>\n",
       "      <td>2017</td>\n",
       "    </tr>\n",
       "    <tr>\n",
       "      <th>8422</th>\n",
       "      <td>2017-06-23</td>\n",
       "      <td>Uluru</td>\n",
       "      <td>5.4</td>\n",
       "      <td>26.900000</td>\n",
       "      <td>0.0</td>\n",
       "      <td>5.389395</td>\n",
       "      <td>7.632205</td>\n",
       "      <td>2017-06-23</td>\n",
       "      <td>37.000000</td>\n",
       "      <td>2017-06-23</td>\n",
       "      <td>2017-06-23</td>\n",
       "      <td>9.0</td>\n",
       "      <td>9.0</td>\n",
       "      <td>53.0</td>\n",
       "      <td>24.0</td>\n",
       "      <td>1021.0</td>\n",
       "      <td>1016.8</td>\n",
       "      <td>4.566622</td>\n",
       "      <td>4.503183</td>\n",
       "      <td>12.5</td>\n",
       "      <td>26.1</td>\n",
       "      <td>No</td>\n",
       "      <td>No</td>\n",
       "      <td>23</td>\n",
       "      <td>6</td>\n",
       "      <td>2017</td>\n",
       "    </tr>\n",
       "    <tr>\n",
       "      <th>8423</th>\n",
       "      <td>2017-06-24</td>\n",
       "      <td>Uluru</td>\n",
       "      <td>7.8</td>\n",
       "      <td>27.000000</td>\n",
       "      <td>0.0</td>\n",
       "      <td>5.389395</td>\n",
       "      <td>7.632205</td>\n",
       "      <td>2017-06-24</td>\n",
       "      <td>28.000000</td>\n",
       "      <td>2017-06-24</td>\n",
       "      <td>2017-06-24</td>\n",
       "      <td>13.0</td>\n",
       "      <td>7.0</td>\n",
       "      <td>51.0</td>\n",
       "      <td>24.0</td>\n",
       "      <td>1019.4</td>\n",
       "      <td>1016.5</td>\n",
       "      <td>3.000000</td>\n",
       "      <td>2.000000</td>\n",
       "      <td>15.1</td>\n",
       "      <td>26.0</td>\n",
       "      <td>No</td>\n",
       "      <td>No</td>\n",
       "      <td>24</td>\n",
       "      <td>6</td>\n",
       "      <td>2017</td>\n",
       "    </tr>\n",
       "    <tr>\n",
       "      <th>8424</th>\n",
       "      <td>2017-06-25</td>\n",
       "      <td>Uluru</td>\n",
       "      <td>14.9</td>\n",
       "      <td>23.859976</td>\n",
       "      <td>0.0</td>\n",
       "      <td>5.389395</td>\n",
       "      <td>7.632205</td>\n",
       "      <td>2017-06-25</td>\n",
       "      <td>40.174469</td>\n",
       "      <td>2017-06-25</td>\n",
       "      <td>2017-06-25</td>\n",
       "      <td>17.0</td>\n",
       "      <td>17.0</td>\n",
       "      <td>62.0</td>\n",
       "      <td>36.0</td>\n",
       "      <td>1020.2</td>\n",
       "      <td>1017.9</td>\n",
       "      <td>8.000000</td>\n",
       "      <td>8.000000</td>\n",
       "      <td>15.0</td>\n",
       "      <td>20.9</td>\n",
       "      <td>No</td>\n",
       "      <td>NaN</td>\n",
       "      <td>25</td>\n",
       "      <td>6</td>\n",
       "      <td>2017</td>\n",
       "    </tr>\n",
       "  </tbody>\n",
       "</table>\n",
       "<p>8425 rows × 26 columns</p>\n",
       "</div>"
      ],
      "text/plain": [
       "           Date Location  MinTemp    MaxTemp  Rainfall  Evaporation  Sunshine  \\\n",
       "0    2008-12-01   Albury     13.4  22.900000       0.6     5.389395  7.632205   \n",
       "1    2008-12-02   Albury      7.4  25.100000       0.0     5.389395  7.632205   \n",
       "2    2008-12-03   Albury     12.9  25.700000       0.0     5.389395  7.632205   \n",
       "3    2008-12-04   Albury      9.2  28.000000       0.0     5.389395  7.632205   \n",
       "4    2008-12-05   Albury     17.5  32.300000       1.0     5.389395  7.632205   \n",
       "...         ...      ...      ...        ...       ...          ...       ...   \n",
       "8420 2017-06-21    Uluru      2.8  23.400000       0.0     5.389395  7.632205   \n",
       "8421 2017-06-22    Uluru      3.6  25.300000       0.0     5.389395  7.632205   \n",
       "8422 2017-06-23    Uluru      5.4  26.900000       0.0     5.389395  7.632205   \n",
       "8423 2017-06-24    Uluru      7.8  27.000000       0.0     5.389395  7.632205   \n",
       "8424 2017-06-25    Uluru     14.9  23.859976       0.0     5.389395  7.632205   \n",
       "\n",
       "     WindGustDir  WindGustSpeed  WindDir9am  WindDir3pm  WindSpeed9am  \\\n",
       "0     2008-12-01      44.000000  2008-12-01  2008-12-01          20.0   \n",
       "1     2008-12-02      44.000000  2008-12-02  2008-12-02           4.0   \n",
       "2     2008-12-03      46.000000  2008-12-03  2008-12-03          19.0   \n",
       "3     2008-12-04      24.000000  2008-12-04  2008-12-04          11.0   \n",
       "4     2008-12-05      41.000000  2008-12-05  2008-12-05           7.0   \n",
       "...          ...            ...         ...         ...           ...   \n",
       "8420  2017-06-21      31.000000  2017-06-21  2017-06-21          13.0   \n",
       "8421  2017-06-22      22.000000  2017-06-22  2017-06-22          13.0   \n",
       "8422  2017-06-23      37.000000  2017-06-23  2017-06-23           9.0   \n",
       "8423  2017-06-24      28.000000  2017-06-24  2017-06-24          13.0   \n",
       "8424  2017-06-25      40.174469  2017-06-25  2017-06-25          17.0   \n",
       "\n",
       "      WindSpeed3pm  Humidity9am  Humidity3pm  Pressure9am  Pressure3pm  \\\n",
       "0             24.0         71.0         22.0       1007.7       1007.1   \n",
       "1             22.0         44.0         25.0       1010.6       1007.8   \n",
       "2             26.0         38.0         30.0       1007.6       1008.7   \n",
       "3              9.0         45.0         16.0       1017.6       1012.8   \n",
       "4             20.0         82.0         33.0       1010.8       1006.0   \n",
       "...            ...          ...          ...          ...          ...   \n",
       "8420          11.0         51.0         24.0       1024.6       1020.3   \n",
       "8421           9.0         56.0         21.0       1023.5       1019.1   \n",
       "8422           9.0         53.0         24.0       1021.0       1016.8   \n",
       "8423           7.0         51.0         24.0       1019.4       1016.5   \n",
       "8424          17.0         62.0         36.0       1020.2       1017.9   \n",
       "\n",
       "      Cloud9am  Cloud3pm  Temp9am  Temp3pm RainToday RainTomorrow  Day  Month  \\\n",
       "0     8.000000  4.503183     16.9     21.8        No           No    1     12   \n",
       "1     4.566622  4.503183     17.2     24.3        No           No    2     12   \n",
       "2     4.566622  2.000000     21.0     23.2        No           No    3     12   \n",
       "3     4.566622  4.503183     18.1     26.5        No           No    4     12   \n",
       "4     7.000000  8.000000     17.8     29.7        No           No    5     12   \n",
       "...        ...       ...      ...      ...       ...          ...  ...    ...   \n",
       "8420  4.566622  4.503183     10.1     22.4        No           No   21      6   \n",
       "8421  4.566622  4.503183     10.9     24.5        No           No   22      6   \n",
       "8422  4.566622  4.503183     12.5     26.1        No           No   23      6   \n",
       "8423  3.000000  2.000000     15.1     26.0        No           No   24      6   \n",
       "8424  8.000000  8.000000     15.0     20.9        No          NaN   25      6   \n",
       "\n",
       "      Year  \n",
       "0     2008  \n",
       "1     2008  \n",
       "2     2008  \n",
       "3     2008  \n",
       "4     2008  \n",
       "...    ...  \n",
       "8420  2017  \n",
       "8421  2017  \n",
       "8422  2017  \n",
       "8423  2017  \n",
       "8424  2017  \n",
       "\n",
       "[8425 rows x 26 columns]"
      ]
     },
     "execution_count": 15,
     "metadata": {},
     "output_type": "execute_result"
    }
   ],
   "source": [
    "df"
   ]
  },
  {
   "cell_type": "code",
   "execution_count": 16,
   "id": "bdf00c1c",
   "metadata": {},
   "outputs": [],
   "source": [
    "df.drop(\"Date\",axis=1,inplace=True)"
   ]
  },
  {
   "cell_type": "code",
   "execution_count": 17,
   "id": "1636b61f",
   "metadata": {},
   "outputs": [
    {
     "name": "stdout",
     "output_type": "stream",
     "text": [
      "Numerical features count19\n",
      "Discrete features count7\n",
      "Continious features count18\n",
      "Categorical features count6\n"
     ]
    }
   ],
   "source": [
    "numerical_feature=[feature for feature in df.columns if df[feature].dtypes !='O']\n",
    "discrete_feature=[feature for feature in df.columns if len(df[feature].unique())<25]\n",
    "continious_feature=[feature for feature in df.columns if feature not in discrete_feature]\n",
    "categorical_feature=[feature for feature in df.columns if feature not in numerical_feature]\n",
    "\n",
    "print(\"Numerical features count{}\".format(len(numerical_feature)))\n",
    "print(\"Discrete features count{}\".format(len(discrete_feature)))\n",
    "print(\"Continious features count{}\".format(len(continious_feature)))\n",
    "print(\"Categorical features count{}\".format(len(categorical_feature)))"
   ]
  },
  {
   "cell_type": "code",
   "execution_count": 18,
   "id": "c4053133",
   "metadata": {},
   "outputs": [
    {
     "data": {
      "text/plain": [
       "<AxesSubplot:xlabel='Location', ylabel='count'>"
      ]
     },
     "execution_count": 18,
     "metadata": {},
     "output_type": "execute_result"
    },
    {
     "data": {
      "image/png": "[encoded data removed]",
      "text/plain": [
       "<Figure size 1440x576 with 1 Axes>"
      ]
     },
     "metadata": {
      "needs_background": "light"
     },
     "output_type": "display_data"
    }
   ],
   "source": [
    "plt.figure(figsize=(20,8))\n",
    "sns.countplot(df['Location'])"
   ]
  },
  {
   "cell_type": "code",
   "execution_count": 19,
   "id": "be76b292",
   "metadata": {},
   "outputs": [
    {
     "data": {
      "text/plain": [
       "<AxesSubplot:xlabel='MinTemp', ylabel='Density'>"
      ]
     },
     "execution_count": 19,
     "metadata": {},
     "output_type": "execute_result"
    },
    {
     "data": {
      "image/png": "[encoded data removed]",
      "text/plain": [
       "<Figure size 432x288 with 1 Axes>"
      ]
     },
     "metadata": {
      "needs_background": "light"
     },
     "output_type": "display_data"
    }
   ],
   "source": [
    "sns.distplot(df['MinTemp'])"
   ]
  },
  {
   "cell_type": "code",
   "execution_count": 20,
   "id": "9c17fdb9",
   "metadata": {},
   "outputs": [
    {
     "data": {
      "text/plain": [
       "<AxesSubplot:xlabel='MaxTemp', ylabel='Density'>"
      ]
     },
     "execution_count": 20,
     "metadata": {},
     "output_type": "execute_result"
    },
    {
     "data": {
      "image/png": "[encoded data removed]",
      "text/plain": [
       "<Figure size 432x288 with 1 Axes>"
      ]
     },
     "metadata": {
      "needs_background": "light"
     },
     "output_type": "display_data"
    }
   ],
   "source": [
    "sns.distplot(df['MaxTemp'])"
   ]
  },
  {
   "cell_type": "code",
   "execution_count": 21,
   "id": "34dc1999",
   "metadata": {},
   "outputs": [
    {
     "data": {
      "text/plain": [
       "<AxesSubplot:xlabel='WindGustSpeed', ylabel='Density'>"
      ]
     },
     "execution_count": 21,
     "metadata": {},
     "output_type": "execute_result"
    },
    {
     "data": {
      "image/png": "[encoded data removed]",
      "text/plain": [
       "<Figure size 432x288 with 1 Axes>"
      ]
     },
     "metadata": {
      "needs_background": "light"
     },
     "output_type": "display_data"
    }
   ],
   "source": [
    "sns.distplot(df['WindGustSpeed'])"
   ]
  },
  {
   "cell_type": "code",
   "execution_count": null,
   "id": "eeab6f2c",
   "metadata": {},
   "outputs": [],
   "source": []
  },
  {
   "cell_type": "markdown",
   "id": "1ffb3a52",
   "metadata": {},
   "source": [
    "now lets change my categorical features into numerical features"
   ]
  },
  {
   "cell_type": "code",
   "execution_count": 22,
   "id": "c4b336bb",
   "metadata": {},
   "outputs": [
    {
     "data": {
      "text/plain": [
       "Location          object\n",
       "MinTemp          float64\n",
       "MaxTemp          float64\n",
       "Rainfall         float64\n",
       "Evaporation      float64\n",
       "Sunshine         float64\n",
       "WindGustDir       object\n",
       "WindGustSpeed    float64\n",
       "WindDir9am        object\n",
       "WindDir3pm        object\n",
       "WindSpeed9am     float64\n",
       "WindSpeed3pm     float64\n",
       "Humidity9am      float64\n",
       "Humidity3pm      float64\n",
       "Pressure9am      float64\n",
       "Pressure3pm      float64\n",
       "Cloud9am         float64\n",
       "Cloud3pm         float64\n",
       "Temp9am          float64\n",
       "Temp3pm          float64\n",
       "RainToday         object\n",
       "RainTomorrow      object\n",
       "Day                int64\n",
       "Month              int64\n",
       "Year               int64\n",
       "dtype: object"
      ]
     },
     "execution_count": 22,
     "metadata": {},
     "output_type": "execute_result"
    }
   ],
   "source": [
    "df.dtypes"
   ]
  },
  {
   "cell_type": "code",
   "execution_count": 23,
   "id": "c572ff2f",
   "metadata": {},
   "outputs": [],
   "source": [
    "from sklearn.preprocessing import LabelEncoder\n",
    "le=LabelEncoder()\n",
    "list1=['Location','WindGustDir','WindDir9am','WindDir3pm','RainToday','RainTomorrow']\n",
    "for val in list1:\n",
    "    df[val]=le.fit_transform(df[val])"
   ]
  },
  {
   "cell_type": "code",
   "execution_count": 24,
   "id": "57d447bb",
   "metadata": {},
   "outputs": [
    {
     "data": {
      "text/plain": [
       "Location           int32\n",
       "MinTemp          float64\n",
       "MaxTemp          float64\n",
       "Rainfall         float64\n",
       "Evaporation      float64\n",
       "Sunshine         float64\n",
       "WindGustDir        int32\n",
       "WindGustSpeed    float64\n",
       "WindDir9am         int32\n",
       "WindDir3pm         int32\n",
       "WindSpeed9am     float64\n",
       "WindSpeed3pm     float64\n",
       "Humidity9am      float64\n",
       "Humidity3pm      float64\n",
       "Pressure9am      float64\n",
       "Pressure3pm      float64\n",
       "Cloud9am         float64\n",
       "Cloud3pm         float64\n",
       "Temp9am          float64\n",
       "Temp3pm          float64\n",
       "RainToday          int32\n",
       "RainTomorrow       int32\n",
       "Day                int64\n",
       "Month              int64\n",
       "Year               int64\n",
       "dtype: object"
      ]
     },
     "execution_count": 24,
     "metadata": {},
     "output_type": "execute_result"
    }
   ],
   "source": [
    "df.dtypes"
   ]
  },
  {
   "cell_type": "code",
   "execution_count": 25,
   "id": "ffd8240a",
   "metadata": {},
   "outputs": [
    {
     "data": {
      "image/png": "[encoded data removed]",
      "text/plain": [
       "<Figure size 432x288 with 1 Axes>"
      ]
     },
     "metadata": {
      "needs_background": "light"
     },
     "output_type": "display_data"
    },
    {
     "data": {
      "image/png": "[encoded data removed]",
      "text/plain": [
       "<Figure size 720x576 with 1 Axes>"
      ]
     },
     "metadata": {
      "needs_background": "light"
     },
     "output_type": "display_data"
    },
    {
     "data": {
      "image/png": "[encoded data removed]",
      "text/plain": [
       "<Figure size 720x576 with 1 Axes>"
      ]
     },
     "metadata": {
      "needs_background": "light"
     },
     "output_type": "display_data"
    },
    {
     "data": {
      "image/png": "[encoded data removed]",
      "text/plain": [
       "<Figure size 720x576 with 1 Axes>"
      ]
     },
     "metadata": {
      "needs_background": "light"
     },
     "output_type": "display_data"
    },
    {
     "data": {
      "image/png": "[encoded data removed]",
      "text/plain": [
       "<Figure size 720x576 with 1 Axes>"
      ]
     },
     "metadata": {
      "needs_background": "light"
     },
     "output_type": "display_data"
    },
    {
     "data": {
      "image/png": "[encoded data removed]",
      "text/plain": [
       "<Figure size 720x576 with 1 Axes>"
      ]
     },
     "metadata": {
      "needs_background": "light"
     },
     "output_type": "display_data"
    },
    {
     "data": {
      "image/png": "[encoded data removed]",
      "text/plain": [
       "<Figure size 720x576 with 1 Axes>"
      ]
     },
     "metadata": {
      "needs_background": "light"
     },
     "output_type": "display_data"
    },
    {
     "data": {
      "image/png": "[encoded data removed]",
      "text/plain": [
       "<Figure size 720x576 with 1 Axes>"
      ]
     },
     "metadata": {
      "needs_background": "light"
     },
     "output_type": "display_data"
    },
    {
     "data": {
      "image/png": "[encoded data removed]",
      "text/plain": [
       "<Figure size 720x576 with 1 Axes>"
      ]
     },
     "metadata": {
      "needs_background": "light"
     },
     "output_type": "display_data"
    },
    {
     "data": {
      "image/png": "[encoded data removed]",
      "text/plain": [
       "<Figure size 720x576 with 1 Axes>"
      ]
     },
     "metadata": {
      "needs_background": "light"
     },
     "output_type": "display_data"
    },
    {
     "data": {
      "image/png": "[encoded data removed]",
      "text/plain": [
       "<Figure size 720x576 with 1 Axes>"
      ]
     },
     "metadata": {
      "needs_background": "light"
     },
     "output_type": "display_data"
    },
    {
     "data": {
      "image/png": "[encoded data removed]",
      "text/plain": [
       "<Figure size 720x576 with 1 Axes>"
      ]
     },
     "metadata": {
      "needs_background": "light"
     },
     "output_type": "display_data"
    },
    {
     "data": {
      "image/png": "[encoded data removed]",
      "text/plain": [
       "<Figure size 720x576 with 1 Axes>"
      ]
     },
     "metadata": {
      "needs_background": "light"
     },
     "output_type": "display_data"
    },
    {
     "data": {
      "image/png": "[encoded data removed]",
      "text/plain": [
       "<Figure size 720x576 with 1 Axes>"
      ]
     },
     "metadata": {
      "needs_background": "light"
     },
     "output_type": "display_data"
    },
    {
     "data": {
      "image/png": "[encoded data removed]",
      "text/plain": [
       "<Figure size 720x576 with 1 Axes>"
      ]
     },
     "metadata": {
      "needs_background": "light"
     },
     "output_type": "display_data"
    },
    {
     "data": {
      "image/png": "[encoded data removed]",
      "text/plain": [
       "<Figure size 720x576 with 1 Axes>"
      ]
     },
     "metadata": {
      "needs_background": "light"
     },
     "output_type": "display_data"
    },
    {
     "data": {
      "image/png": "[encoded data removed]",
      "text/plain": [
       "<Figure size 720x576 with 1 Axes>"
      ]
     },
     "metadata": {
      "needs_background": "light"
     },
     "output_type": "display_data"
    },
    {
     "data": {
      "image/png": "[encoded data removed]",
      "text/plain": [
       "<Figure size 720x576 with 1 Axes>"
      ]
     },
     "metadata": {
      "needs_background": "light"
     },
     "output_type": "display_data"
    },
    {
     "data": {
      "text/plain": [
       "<Figure size 720x576 with 0 Axes>"
      ]
     },
     "metadata": {},
     "output_type": "display_data"
    }
   ],
   "source": [
    "for feature in continious_feature:\n",
    "    data=df.copy()\n",
    "    sns.boxplot(data[feature])\n",
    "    plt.title(feature)\n",
    "    plt.figure(figsize=(10,8))"
   ]
  },
  {
   "cell_type": "markdown",
   "id": "e4452f1c",
   "metadata": {},
   "source": [
    "we can see that there are outliers present in various columns:"
   ]
  },
  {
   "cell_type": "code",
   "execution_count": 26,
   "id": "e6cc06c1",
   "metadata": {},
   "outputs": [],
   "source": [
    "from scipy.stats import zscore"
   ]
  },
  {
   "cell_type": "code",
   "execution_count": 27,
   "id": "7e12c060",
   "metadata": {},
   "outputs": [
    {
     "data": {
      "text/plain": [
       "(8425, 25)"
      ]
     },
     "execution_count": 27,
     "metadata": {},
     "output_type": "execute_result"
    }
   ],
   "source": [
    "z=np.abs(zscore(df))\n",
    "z.shape"
   ]
  },
  {
   "cell_type": "code",
   "execution_count": 28,
   "id": "09cb84e9",
   "metadata": {},
   "outputs": [
    {
     "name": "stdout",
     "output_type": "stream",
     "text": [
      "(array([  12,   12,   14, ..., 8145, 8185, 8424], dtype=int64), array([14, 15, 21, ...,  7,  3, 21], dtype=int64))\n"
     ]
    }
   ],
   "source": [
    "threshold=3\n",
    "print(np.where(z>3))"
   ]
  },
  {
   "cell_type": "code",
   "execution_count": 29,
   "id": "a95cd6e6",
   "metadata": {},
   "outputs": [
    {
     "name": "stdout",
     "output_type": "stream",
     "text": [
      "(8425, 25)\n",
      "(7658, 25)\n"
     ]
    }
   ],
   "source": [
    "new_df=df[(z<3).all(axis=1)]\n",
    "print(df.shape)\n",
    "print(new_df.shape)"
   ]
  },
  {
   "cell_type": "code",
   "execution_count": 30,
   "id": "1af57c5b",
   "metadata": {},
   "outputs": [],
   "source": [
    "data_loss=((8425-7658)/8425*100)"
   ]
  },
  {
   "cell_type": "code",
   "execution_count": 31,
   "id": "a5941076",
   "metadata": {},
   "outputs": [
    {
     "data": {
      "text/plain": [
       "9.103857566765578"
      ]
     },
     "execution_count": 31,
     "metadata": {},
     "output_type": "execute_result"
    }
   ],
   "source": [
    "data_loss"
   ]
  },
  {
   "cell_type": "markdown",
   "id": "3b6010b1",
   "metadata": {},
   "source": [
    "we can clearly see that our data is not normally distributed and needs scaling, so"
   ]
  },
  {
   "cell_type": "code",
   "execution_count": 32,
   "id": "a425c475",
   "metadata": {},
   "outputs": [],
   "source": [
    "from sklearn.preprocessing import StandardScaler\n",
    "sc=StandardScaler()\n",
    "x=new_df.drop('RainTomorrow',axis=1)\n",
    "y=new_df['RainTomorrow']\n",
    "\n"
   ]
  },
  {
   "cell_type": "code",
   "execution_count": 33,
   "id": "7d48bb97",
   "metadata": {},
   "outputs": [
    {
     "data": {
      "text/plain": [
       "array([[-1.49692106,  0.06441346, -0.14720602, ..., -1.67100804,\n",
       "         1.66884377, -1.65177083],\n",
       "       [-1.49692106, -1.04370293,  0.21979071, ..., -1.55745446,\n",
       "         1.66884377, -1.65177083],\n",
       "       [-1.49692106, -0.02792958,  0.31988073, ..., -1.44390089,\n",
       "         1.66884377, -1.65177083],\n",
       "       ...,\n",
       "       [ 1.03265834, -1.74550997,  0.25315405, ...,  0.71361705,\n",
       "        -0.10648577,  2.00949337],\n",
       "       [ 1.03265834, -1.41307505,  0.52006076, ...,  0.82717063,\n",
       "        -0.10648577,  2.00949337],\n",
       "       [ 1.03265834, -0.9698285 ,  0.53674243, ...,  0.9407242 ,\n",
       "        -0.10648577,  2.00949337]])"
      ]
     },
     "execution_count": 33,
     "metadata": {},
     "output_type": "execute_result"
    }
   ],
   "source": [
    "x=sc.fit_transform(x)\n",
    "x\n"
   ]
  },
  {
   "cell_type": "code",
   "execution_count": 34,
   "id": "3f5ef77f",
   "metadata": {},
   "outputs": [
    {
     "data": {
      "text/plain": [
       "Location        -0.041110\n",
       "MinTemp         -0.068917\n",
       "MaxTemp          0.317440\n",
       "Rainfall         3.468158\n",
       "Evaporation      0.848727\n",
       "Sunshine        -0.722731\n",
       "WindGustDir      0.396035\n",
       "WindGustSpeed    0.526676\n",
       "WindDir9am       0.396035\n",
       "WindDir3pm       0.396035\n",
       "WindSpeed9am     0.719269\n",
       "WindSpeed3pm     0.308636\n",
       "Humidity9am     -0.227933\n",
       "Humidity3pm      0.127369\n",
       "Pressure9am      0.028434\n",
       "Pressure3pm      0.057399\n",
       "Cloud9am        -0.339408\n",
       "Cloud3pm        -0.257479\n",
       "Temp9am         -0.037216\n",
       "Temp3pm          0.331819\n",
       "RainToday        1.261972\n",
       "RainTomorrow     1.287230\n",
       "Day             -0.000241\n",
       "Month            0.068113\n",
       "Year             0.433557\n",
       "dtype: float64"
      ]
     },
     "execution_count": 34,
     "metadata": {},
     "output_type": "execute_result"
    }
   ],
   "source": [
    "new_df.skew()"
   ]
  },
  {
   "cell_type": "markdown",
   "id": "a02cc1c5",
   "metadata": {},
   "source": [
    "we can see that skewness as well as outliers both have been removed from the data. Now lets take the data to training purpose"
   ]
  },
  {
   "cell_type": "code",
   "execution_count": 35,
   "id": "2f236bbb",
   "metadata": {},
   "outputs": [
    {
     "data": {
      "text/html": [
       "<div>\n",
       "<style scoped>\n",
       "    .dataframe tbody tr th:only-of-type {\n",
       "        vertical-align: middle;\n",
       "    }\n",
       "\n",
       "    .dataframe tbody tr th {\n",
       "        vertical-align: top;\n",
       "    }\n",
       "\n",
       "    .dataframe thead th {\n",
       "        text-align: right;\n",
       "    }\n",
       "</style>\n",
       "<table border=\"1\" class=\"dataframe\">\n",
       "  <thead>\n",
       "    <tr style=\"text-align: right;\">\n",
       "      <th></th>\n",
       "      <th>Location</th>\n",
       "      <th>MinTemp</th>\n",
       "      <th>MaxTemp</th>\n",
       "      <th>Rainfall</th>\n",
       "      <th>Evaporation</th>\n",
       "      <th>Sunshine</th>\n",
       "      <th>WindGustDir</th>\n",
       "      <th>WindGustSpeed</th>\n",
       "      <th>WindDir9am</th>\n",
       "      <th>WindDir3pm</th>\n",
       "      <th>WindSpeed9am</th>\n",
       "      <th>WindSpeed3pm</th>\n",
       "      <th>Humidity9am</th>\n",
       "      <th>Humidity3pm</th>\n",
       "      <th>Pressure9am</th>\n",
       "      <th>Pressure3pm</th>\n",
       "      <th>Cloud9am</th>\n",
       "      <th>Cloud3pm</th>\n",
       "      <th>Temp9am</th>\n",
       "      <th>Temp3pm</th>\n",
       "      <th>RainToday</th>\n",
       "      <th>RainTomorrow</th>\n",
       "      <th>Day</th>\n",
       "      <th>Month</th>\n",
       "      <th>Year</th>\n",
       "    </tr>\n",
       "  </thead>\n",
       "  <tbody>\n",
       "    <tr>\n",
       "      <th>0</th>\n",
       "      <td>1</td>\n",
       "      <td>13.4</td>\n",
       "      <td>22.9</td>\n",
       "      <td>0.6</td>\n",
       "      <td>5.389395</td>\n",
       "      <td>7.632205</td>\n",
       "      <td>0</td>\n",
       "      <td>44.0</td>\n",
       "      <td>0</td>\n",
       "      <td>0</td>\n",
       "      <td>20.0</td>\n",
       "      <td>24.0</td>\n",
       "      <td>71.0</td>\n",
       "      <td>22.0</td>\n",
       "      <td>1007.7</td>\n",
       "      <td>1007.1</td>\n",
       "      <td>8.000000</td>\n",
       "      <td>4.503183</td>\n",
       "      <td>16.9</td>\n",
       "      <td>21.8</td>\n",
       "      <td>0</td>\n",
       "      <td>0</td>\n",
       "      <td>1</td>\n",
       "      <td>12</td>\n",
       "      <td>2008</td>\n",
       "    </tr>\n",
       "    <tr>\n",
       "      <th>1</th>\n",
       "      <td>1</td>\n",
       "      <td>7.4</td>\n",
       "      <td>25.1</td>\n",
       "      <td>0.0</td>\n",
       "      <td>5.389395</td>\n",
       "      <td>7.632205</td>\n",
       "      <td>1</td>\n",
       "      <td>44.0</td>\n",
       "      <td>1</td>\n",
       "      <td>1</td>\n",
       "      <td>4.0</td>\n",
       "      <td>22.0</td>\n",
       "      <td>44.0</td>\n",
       "      <td>25.0</td>\n",
       "      <td>1010.6</td>\n",
       "      <td>1007.8</td>\n",
       "      <td>4.566622</td>\n",
       "      <td>4.503183</td>\n",
       "      <td>17.2</td>\n",
       "      <td>24.3</td>\n",
       "      <td>0</td>\n",
       "      <td>0</td>\n",
       "      <td>2</td>\n",
       "      <td>12</td>\n",
       "      <td>2008</td>\n",
       "    </tr>\n",
       "    <tr>\n",
       "      <th>2</th>\n",
       "      <td>1</td>\n",
       "      <td>12.9</td>\n",
       "      <td>25.7</td>\n",
       "      <td>0.0</td>\n",
       "      <td>5.389395</td>\n",
       "      <td>7.632205</td>\n",
       "      <td>2</td>\n",
       "      <td>46.0</td>\n",
       "      <td>2</td>\n",
       "      <td>2</td>\n",
       "      <td>19.0</td>\n",
       "      <td>26.0</td>\n",
       "      <td>38.0</td>\n",
       "      <td>30.0</td>\n",
       "      <td>1007.6</td>\n",
       "      <td>1008.7</td>\n",
       "      <td>4.566622</td>\n",
       "      <td>2.000000</td>\n",
       "      <td>21.0</td>\n",
       "      <td>23.2</td>\n",
       "      <td>0</td>\n",
       "      <td>0</td>\n",
       "      <td>3</td>\n",
       "      <td>12</td>\n",
       "      <td>2008</td>\n",
       "    </tr>\n",
       "    <tr>\n",
       "      <th>3</th>\n",
       "      <td>1</td>\n",
       "      <td>9.2</td>\n",
       "      <td>28.0</td>\n",
       "      <td>0.0</td>\n",
       "      <td>5.389395</td>\n",
       "      <td>7.632205</td>\n",
       "      <td>3</td>\n",
       "      <td>24.0</td>\n",
       "      <td>3</td>\n",
       "      <td>3</td>\n",
       "      <td>11.0</td>\n",
       "      <td>9.0</td>\n",
       "      <td>45.0</td>\n",
       "      <td>16.0</td>\n",
       "      <td>1017.6</td>\n",
       "      <td>1012.8</td>\n",
       "      <td>4.566622</td>\n",
       "      <td>4.503183</td>\n",
       "      <td>18.1</td>\n",
       "      <td>26.5</td>\n",
       "      <td>0</td>\n",
       "      <td>0</td>\n",
       "      <td>4</td>\n",
       "      <td>12</td>\n",
       "      <td>2008</td>\n",
       "    </tr>\n",
       "    <tr>\n",
       "      <th>4</th>\n",
       "      <td>1</td>\n",
       "      <td>17.5</td>\n",
       "      <td>32.3</td>\n",
       "      <td>1.0</td>\n",
       "      <td>5.389395</td>\n",
       "      <td>7.632205</td>\n",
       "      <td>4</td>\n",
       "      <td>41.0</td>\n",
       "      <td>4</td>\n",
       "      <td>4</td>\n",
       "      <td>7.0</td>\n",
       "      <td>20.0</td>\n",
       "      <td>82.0</td>\n",
       "      <td>33.0</td>\n",
       "      <td>1010.8</td>\n",
       "      <td>1006.0</td>\n",
       "      <td>7.000000</td>\n",
       "      <td>8.000000</td>\n",
       "      <td>17.8</td>\n",
       "      <td>29.7</td>\n",
       "      <td>0</td>\n",
       "      <td>0</td>\n",
       "      <td>5</td>\n",
       "      <td>12</td>\n",
       "      <td>2008</td>\n",
       "    </tr>\n",
       "    <tr>\n",
       "      <th>...</th>\n",
       "      <td>...</td>\n",
       "      <td>...</td>\n",
       "      <td>...</td>\n",
       "      <td>...</td>\n",
       "      <td>...</td>\n",
       "      <td>...</td>\n",
       "      <td>...</td>\n",
       "      <td>...</td>\n",
       "      <td>...</td>\n",
       "      <td>...</td>\n",
       "      <td>...</td>\n",
       "      <td>...</td>\n",
       "      <td>...</td>\n",
       "      <td>...</td>\n",
       "      <td>...</td>\n",
       "      <td>...</td>\n",
       "      <td>...</td>\n",
       "      <td>...</td>\n",
       "      <td>...</td>\n",
       "      <td>...</td>\n",
       "      <td>...</td>\n",
       "      <td>...</td>\n",
       "      <td>...</td>\n",
       "      <td>...</td>\n",
       "      <td>...</td>\n",
       "    </tr>\n",
       "    <tr>\n",
       "      <th>8419</th>\n",
       "      <td>9</td>\n",
       "      <td>3.5</td>\n",
       "      <td>21.8</td>\n",
       "      <td>0.0</td>\n",
       "      <td>5.389395</td>\n",
       "      <td>7.632205</td>\n",
       "      <td>2998</td>\n",
       "      <td>31.0</td>\n",
       "      <td>2998</td>\n",
       "      <td>2998</td>\n",
       "      <td>15.0</td>\n",
       "      <td>13.0</td>\n",
       "      <td>59.0</td>\n",
       "      <td>27.0</td>\n",
       "      <td>1024.7</td>\n",
       "      <td>1021.2</td>\n",
       "      <td>4.566622</td>\n",
       "      <td>4.503183</td>\n",
       "      <td>9.4</td>\n",
       "      <td>20.9</td>\n",
       "      <td>0</td>\n",
       "      <td>0</td>\n",
       "      <td>20</td>\n",
       "      <td>6</td>\n",
       "      <td>2017</td>\n",
       "    </tr>\n",
       "    <tr>\n",
       "      <th>8420</th>\n",
       "      <td>9</td>\n",
       "      <td>2.8</td>\n",
       "      <td>23.4</td>\n",
       "      <td>0.0</td>\n",
       "      <td>5.389395</td>\n",
       "      <td>7.632205</td>\n",
       "      <td>2999</td>\n",
       "      <td>31.0</td>\n",
       "      <td>2999</td>\n",
       "      <td>2999</td>\n",
       "      <td>13.0</td>\n",
       "      <td>11.0</td>\n",
       "      <td>51.0</td>\n",
       "      <td>24.0</td>\n",
       "      <td>1024.6</td>\n",
       "      <td>1020.3</td>\n",
       "      <td>4.566622</td>\n",
       "      <td>4.503183</td>\n",
       "      <td>10.1</td>\n",
       "      <td>22.4</td>\n",
       "      <td>0</td>\n",
       "      <td>0</td>\n",
       "      <td>21</td>\n",
       "      <td>6</td>\n",
       "      <td>2017</td>\n",
       "    </tr>\n",
       "    <tr>\n",
       "      <th>8421</th>\n",
       "      <td>9</td>\n",
       "      <td>3.6</td>\n",
       "      <td>25.3</td>\n",
       "      <td>0.0</td>\n",
       "      <td>5.389395</td>\n",
       "      <td>7.632205</td>\n",
       "      <td>3000</td>\n",
       "      <td>22.0</td>\n",
       "      <td>3000</td>\n",
       "      <td>3000</td>\n",
       "      <td>13.0</td>\n",
       "      <td>9.0</td>\n",
       "      <td>56.0</td>\n",
       "      <td>21.0</td>\n",
       "      <td>1023.5</td>\n",
       "      <td>1019.1</td>\n",
       "      <td>4.566622</td>\n",
       "      <td>4.503183</td>\n",
       "      <td>10.9</td>\n",
       "      <td>24.5</td>\n",
       "      <td>0</td>\n",
       "      <td>0</td>\n",
       "      <td>22</td>\n",
       "      <td>6</td>\n",
       "      <td>2017</td>\n",
       "    </tr>\n",
       "    <tr>\n",
       "      <th>8422</th>\n",
       "      <td>9</td>\n",
       "      <td>5.4</td>\n",
       "      <td>26.9</td>\n",
       "      <td>0.0</td>\n",
       "      <td>5.389395</td>\n",
       "      <td>7.632205</td>\n",
       "      <td>3001</td>\n",
       "      <td>37.0</td>\n",
       "      <td>3001</td>\n",
       "      <td>3001</td>\n",
       "      <td>9.0</td>\n",
       "      <td>9.0</td>\n",
       "      <td>53.0</td>\n",
       "      <td>24.0</td>\n",
       "      <td>1021.0</td>\n",
       "      <td>1016.8</td>\n",
       "      <td>4.566622</td>\n",
       "      <td>4.503183</td>\n",
       "      <td>12.5</td>\n",
       "      <td>26.1</td>\n",
       "      <td>0</td>\n",
       "      <td>0</td>\n",
       "      <td>23</td>\n",
       "      <td>6</td>\n",
       "      <td>2017</td>\n",
       "    </tr>\n",
       "    <tr>\n",
       "      <th>8423</th>\n",
       "      <td>9</td>\n",
       "      <td>7.8</td>\n",
       "      <td>27.0</td>\n",
       "      <td>0.0</td>\n",
       "      <td>5.389395</td>\n",
       "      <td>7.632205</td>\n",
       "      <td>3002</td>\n",
       "      <td>28.0</td>\n",
       "      <td>3002</td>\n",
       "      <td>3002</td>\n",
       "      <td>13.0</td>\n",
       "      <td>7.0</td>\n",
       "      <td>51.0</td>\n",
       "      <td>24.0</td>\n",
       "      <td>1019.4</td>\n",
       "      <td>1016.5</td>\n",
       "      <td>3.000000</td>\n",
       "      <td>2.000000</td>\n",
       "      <td>15.1</td>\n",
       "      <td>26.0</td>\n",
       "      <td>0</td>\n",
       "      <td>0</td>\n",
       "      <td>24</td>\n",
       "      <td>6</td>\n",
       "      <td>2017</td>\n",
       "    </tr>\n",
       "  </tbody>\n",
       "</table>\n",
       "<p>7658 rows × 25 columns</p>\n",
       "</div>"
      ],
      "text/plain": [
       "      Location  MinTemp  MaxTemp  Rainfall  Evaporation  Sunshine  \\\n",
       "0            1     13.4     22.9       0.6     5.389395  7.632205   \n",
       "1            1      7.4     25.1       0.0     5.389395  7.632205   \n",
       "2            1     12.9     25.7       0.0     5.389395  7.632205   \n",
       "3            1      9.2     28.0       0.0     5.389395  7.632205   \n",
       "4            1     17.5     32.3       1.0     5.389395  7.632205   \n",
       "...        ...      ...      ...       ...          ...       ...   \n",
       "8419         9      3.5     21.8       0.0     5.389395  7.632205   \n",
       "8420         9      2.8     23.4       0.0     5.389395  7.632205   \n",
       "8421         9      3.6     25.3       0.0     5.389395  7.632205   \n",
       "8422         9      5.4     26.9       0.0     5.389395  7.632205   \n",
       "8423         9      7.8     27.0       0.0     5.389395  7.632205   \n",
       "\n",
       "      WindGustDir  WindGustSpeed  WindDir9am  WindDir3pm  WindSpeed9am  \\\n",
       "0               0           44.0           0           0          20.0   \n",
       "1               1           44.0           1           1           4.0   \n",
       "2               2           46.0           2           2          19.0   \n",
       "3               3           24.0           3           3          11.0   \n",
       "4               4           41.0           4           4           7.0   \n",
       "...           ...            ...         ...         ...           ...   \n",
       "8419         2998           31.0        2998        2998          15.0   \n",
       "8420         2999           31.0        2999        2999          13.0   \n",
       "8421         3000           22.0        3000        3000          13.0   \n",
       "8422         3001           37.0        3001        3001           9.0   \n",
       "8423         3002           28.0        3002        3002          13.0   \n",
       "\n",
       "      WindSpeed3pm  Humidity9am  Humidity3pm  Pressure9am  Pressure3pm  \\\n",
       "0             24.0         71.0         22.0       1007.7       1007.1   \n",
       "1             22.0         44.0         25.0       1010.6       1007.8   \n",
       "2             26.0         38.0         30.0       1007.6       1008.7   \n",
       "3              9.0         45.0         16.0       1017.6       1012.8   \n",
       "4             20.0         82.0         33.0       1010.8       1006.0   \n",
       "...            ...          ...          ...          ...          ...   \n",
       "8419          13.0         59.0         27.0       1024.7       1021.2   \n",
       "8420          11.0         51.0         24.0       1024.6       1020.3   \n",
       "8421           9.0         56.0         21.0       1023.5       1019.1   \n",
       "8422           9.0         53.0         24.0       1021.0       1016.8   \n",
       "8423           7.0         51.0         24.0       1019.4       1016.5   \n",
       "\n",
       "      Cloud9am  Cloud3pm  Temp9am  Temp3pm  RainToday  RainTomorrow  Day  \\\n",
       "0     8.000000  4.503183     16.9     21.8          0             0    1   \n",
       "1     4.566622  4.503183     17.2     24.3          0             0    2   \n",
       "2     4.566622  2.000000     21.0     23.2          0             0    3   \n",
       "3     4.566622  4.503183     18.1     26.5          0             0    4   \n",
       "4     7.000000  8.000000     17.8     29.7          0             0    5   \n",
       "...        ...       ...      ...      ...        ...           ...  ...   \n",
       "8419  4.566622  4.503183      9.4     20.9          0             0   20   \n",
       "8420  4.566622  4.503183     10.1     22.4          0             0   21   \n",
       "8421  4.566622  4.503183     10.9     24.5          0             0   22   \n",
       "8422  4.566622  4.503183     12.5     26.1          0             0   23   \n",
       "8423  3.000000  2.000000     15.1     26.0          0             0   24   \n",
       "\n",
       "      Month  Year  \n",
       "0        12  2008  \n",
       "1        12  2008  \n",
       "2        12  2008  \n",
       "3        12  2008  \n",
       "4        12  2008  \n",
       "...     ...   ...  \n",
       "8419      6  2017  \n",
       "8420      6  2017  \n",
       "8421      6  2017  \n",
       "8422      6  2017  \n",
       "8423      6  2017  \n",
       "\n",
       "[7658 rows x 25 columns]"
      ]
     },
     "execution_count": 35,
     "metadata": {},
     "output_type": "execute_result"
    }
   ],
   "source": [
    "new_df"
   ]
  },
  {
   "cell_type": "code",
   "execution_count": 36,
   "id": "c0f1f108",
   "metadata": {},
   "outputs": [
    {
     "data": {
      "text/plain": [
       "0    5872\n",
       "1    1786\n",
       "Name: RainToday, dtype: int64"
      ]
     },
     "execution_count": 36,
     "metadata": {},
     "output_type": "execute_result"
    }
   ],
   "source": [
    "new_df['RainToday'].value_counts()"
   ]
  },
  {
   "cell_type": "code",
   "execution_count": 37,
   "id": "a22cebe5",
   "metadata": {},
   "outputs": [
    {
     "data": {
      "text/plain": [
       "0    5901\n",
       "1    1757\n",
       "Name: RainTomorrow, dtype: int64"
      ]
     },
     "execution_count": 37,
     "metadata": {},
     "output_type": "execute_result"
    }
   ],
   "source": [
    "new_df['RainTomorrow'].value_counts()"
   ]
  },
  {
   "cell_type": "code",
   "execution_count": 38,
   "id": "ebb1f13e",
   "metadata": {},
   "outputs": [],
   "source": [
    "from sklearn.model_selection import train_test_split\n",
    "from sklearn.linear_model import LogisticRegression\n",
    "from sklearn.metrics import classification_report,confusion_matrix,accuracy_score"
   ]
  },
  {
   "cell_type": "code",
   "execution_count": 39,
   "id": "74af6653",
   "metadata": {},
   "outputs": [],
   "source": [
    "x_train,x_test,y_train,y_test=train_test_split(x,y,test_size=0.25,random_state=100)"
   ]
  },
  {
   "cell_type": "code",
   "execution_count": 40,
   "id": "9062ad3b",
   "metadata": {},
   "outputs": [
    {
     "name": "stdout",
     "output_type": "stream",
     "text": [
      "0.827154046997389\n",
      "[[1351  104]\n",
      " [ 227  233]]\n",
      "              precision    recall  f1-score   support\n",
      "\n",
      "           0       0.86      0.93      0.89      1455\n",
      "           1       0.69      0.51      0.58       460\n",
      "\n",
      "    accuracy                           0.83      1915\n",
      "   macro avg       0.77      0.72      0.74      1915\n",
      "weighted avg       0.82      0.83      0.82      1915\n",
      "\n"
     ]
    }
   ],
   "source": [
    "lr=LogisticRegression()\n",
    "lr.fit(x_train,y_train)\n",
    "lr.score(x_train,y_train)\n",
    "predlr=lr.predict(x_test)\n",
    "print(accuracy_score(y_test,predlr))\n",
    "print(confusion_matrix(y_test,predlr))\n",
    "print(classification_report(y_test,predlr))"
   ]
  },
  {
   "cell_type": "markdown",
   "id": "6b7ead34",
   "metadata": {},
   "source": [
    "we can see that the precision,recall,f1-score is low for 1 and good for 0. It is because the data is imbalanced. lets balance it usiNg SMOTE"
   ]
  },
  {
   "cell_type": "code",
   "execution_count": 41,
   "id": "443a0599",
   "metadata": {},
   "outputs": [
    {
     "data": {
      "text/plain": [
       "<AxesSubplot:xlabel='RainTomorrow', ylabel='count'>"
      ]
     },
     "execution_count": 41,
     "metadata": {},
     "output_type": "execute_result"
    },
    {
     "data": {
      "image/png": "[encoded data removed]",
      "text/plain": [
       "<Figure size 432x288 with 1 Axes>"
      ]
     },
     "metadata": {
      "needs_background": "light"
     },
     "output_type": "display_data"
    }
   ],
   "source": [
    "sns.countplot(new_df['RainTomorrow'])"
   ]
  },
  {
   "cell_type": "code",
   "execution_count": 42,
   "id": "088395ee",
   "metadata": {},
   "outputs": [],
   "source": [
    "from imblearn.over_sampling import SMOTE"
   ]
  },
  {
   "cell_type": "code",
   "execution_count": 43,
   "id": "b636d253",
   "metadata": {},
   "outputs": [],
   "source": [
    "smt=SMOTE()\n",
    "trainx,trainy=smt.fit_resample(x_train,y_train)"
   ]
  },
  {
   "cell_type": "code",
   "execution_count": 44,
   "id": "718c168c",
   "metadata": {},
   "outputs": [
    {
     "data": {
      "text/plain": [
       "0    4446\n",
       "1    4446\n",
       "Name: RainTomorrow, dtype: int64"
      ]
     },
     "execution_count": 44,
     "metadata": {},
     "output_type": "execute_result"
    }
   ],
   "source": [
    "trainy.value_counts()"
   ]
  },
  {
   "cell_type": "code",
   "execution_count": 45,
   "id": "8ab409d4",
   "metadata": {},
   "outputs": [
    {
     "data": {
      "text/plain": [
       "<AxesSubplot:xlabel='RainTomorrow', ylabel='count'>"
      ]
     },
     "execution_count": 45,
     "metadata": {},
     "output_type": "execute_result"
    },
    {
     "data": {
      "image/png": "[encoded data removed]",
      "text/plain": [
       "<Figure size 432x288 with 1 Axes>"
      ]
     },
     "metadata": {
      "needs_background": "light"
     },
     "output_type": "display_data"
    }
   ],
   "source": [
    "sns.countplot(trainy)"
   ]
  },
  {
   "cell_type": "code",
   "execution_count": 46,
   "id": "d3ffa22e",
   "metadata": {},
   "outputs": [],
   "source": [
    "x_train,x_test,y_train,y_test=train_test_split(trainx,trainy,test_size=0.25,random_state=100)"
   ]
  },
  {
   "cell_type": "code",
   "execution_count": 47,
   "id": "15906db1",
   "metadata": {},
   "outputs": [
    {
     "name": "stdout",
     "output_type": "stream",
     "text": [
      "0.7921727395411606\n",
      "[[881 212]\n",
      " [250 880]]\n",
      "              precision    recall  f1-score   support\n",
      "\n",
      "           0       0.78      0.81      0.79      1093\n",
      "           1       0.81      0.78      0.79      1130\n",
      "\n",
      "    accuracy                           0.79      2223\n",
      "   macro avg       0.79      0.79      0.79      2223\n",
      "weighted avg       0.79      0.79      0.79      2223\n",
      "\n"
     ]
    }
   ],
   "source": [
    "lr=LogisticRegression()\n",
    "lr.fit(trainx,trainy)\n",
    "lr.score(trainx,trainy)\n",
    "predlr=lr.predict(x_test)\n",
    "print(accuracy_score(y_test,predlr))\n",
    "print(confusion_matrix(y_test,predlr))\n",
    "print(classification_report(y_test,predlr))"
   ]
  },
  {
   "cell_type": "markdown",
   "id": "3309f9bd",
   "metadata": {},
   "source": [
    "we can see that now the precision,recallas well as fi score have imporved for 1. lets try other algorithms"
   ]
  },
  {
   "cell_type": "code",
   "execution_count": 48,
   "id": "21608aff",
   "metadata": {},
   "outputs": [
    {
     "name": "stdout",
     "output_type": "stream",
     "text": [
      "0.8911381016644174\n",
      "[[ 958  135]\n",
      " [ 107 1023]]\n",
      "              precision    recall  f1-score   support\n",
      "\n",
      "           0       0.90      0.88      0.89      1093\n",
      "           1       0.88      0.91      0.89      1130\n",
      "\n",
      "    accuracy                           0.89      2223\n",
      "   macro avg       0.89      0.89      0.89      2223\n",
      "weighted avg       0.89      0.89      0.89      2223\n",
      "\n"
     ]
    }
   ],
   "source": [
    "from sklearn.svm import SVC\n",
    "svc=SVC()\n",
    "svc.fit(trainx,trainy)\n",
    "svc.score(trainx,trainy)\n",
    "predsvc=svc.predict(x_test)\n",
    "print(accuracy_score(y_test,predsvc))\n",
    "print(confusion_matrix(y_test,predsvc))\n",
    "print(classification_report(y_test,predsvc))"
   ]
  },
  {
   "cell_type": "code",
   "execution_count": 49,
   "id": "0c2e1d9a",
   "metadata": {},
   "outputs": [
    {
     "name": "stdout",
     "output_type": "stream",
     "text": [
      "1.0\n",
      "[[1093    0]\n",
      " [   0 1130]]\n",
      "              precision    recall  f1-score   support\n",
      "\n",
      "           0       1.00      1.00      1.00      1093\n",
      "           1       1.00      1.00      1.00      1130\n",
      "\n",
      "    accuracy                           1.00      2223\n",
      "   macro avg       1.00      1.00      1.00      2223\n",
      "weighted avg       1.00      1.00      1.00      2223\n",
      "\n"
     ]
    }
   ],
   "source": [
    "from sklearn.tree import DecisionTreeClassifier\n",
    "dtc=DecisionTreeClassifier()\n",
    "dtc.fit(trainx,trainy)\n",
    "dtc.score(trainx,trainy)\n",
    "preddtc=dtc.predict(x_test)\n",
    "print(accuracy_score(y_test,preddtc))\n",
    "print(confusion_matrix(y_test,preddtc))\n",
    "print(classification_report(y_test,preddtc))"
   ]
  },
  {
   "cell_type": "code",
   "execution_count": 50,
   "id": "719ba6cb",
   "metadata": {},
   "outputs": [
    {
     "name": "stdout",
     "output_type": "stream",
     "text": [
      "0.918578497525866\n",
      "[[ 920  173]\n",
      " [   8 1122]]\n",
      "              precision    recall  f1-score   support\n",
      "\n",
      "           0       0.99      0.84      0.91      1093\n",
      "           1       0.87      0.99      0.93      1130\n",
      "\n",
      "    accuracy                           0.92      2223\n",
      "   macro avg       0.93      0.92      0.92      2223\n",
      "weighted avg       0.93      0.92      0.92      2223\n",
      "\n"
     ]
    }
   ],
   "source": [
    "from sklearn.neighbors import KNeighborsClassifier\n",
    "knc=KNeighborsClassifier()\n",
    "knc.fit(trainx,trainy)\n",
    "knc.score(trainx,trainy)\n",
    "predknc=knc.predict(x_test)\n",
    "print(accuracy_score(y_test,predknc))\n",
    "print(confusion_matrix(y_test,predknc))\n",
    "print(classification_report(y_test,predknc))"
   ]
  },
  {
   "cell_type": "code",
   "execution_count": 51,
   "id": "a3d114fc",
   "metadata": {},
   "outputs": [
    {
     "name": "stdout",
     "output_type": "stream",
     "text": [
      "1.0\n",
      "[[1093    0]\n",
      " [   0 1130]]\n",
      "              precision    recall  f1-score   support\n",
      "\n",
      "           0       1.00      1.00      1.00      1093\n",
      "           1       1.00      1.00      1.00      1130\n",
      "\n",
      "    accuracy                           1.00      2223\n",
      "   macro avg       1.00      1.00      1.00      2223\n",
      "weighted avg       1.00      1.00      1.00      2223\n",
      "\n"
     ]
    }
   ],
   "source": [
    "from sklearn.ensemble import RandomForestClassifier\n",
    "rf=RandomForestClassifier()\n",
    "rf.fit(trainx,trainy)\n",
    "rf.score(trainx,trainy)\n",
    "predrf=rf.predict(x_test)\n",
    "print(accuracy_score(y_test,predrf))\n",
    "print(confusion_matrix(y_test,predrf))\n",
    "print(classification_report(y_test,predrf))"
   ]
  },
  {
   "cell_type": "markdown",
   "id": "0a53bec6",
   "metadata": {},
   "source": [
    "now lets check the cross validation for the above with good accuracy"
   ]
  },
  {
   "cell_type": "code",
   "execution_count": 52,
   "id": "07af2005",
   "metadata": {},
   "outputs": [],
   "source": [
    "from sklearn.model_selection import cross_val_score\n",
    "\n"
   ]
  },
  {
   "cell_type": "code",
   "execution_count": 53,
   "id": "44f7b7eb",
   "metadata": {},
   "outputs": [
    {
     "name": "stdout",
     "output_type": "stream",
     "text": [
      "at cv: 2\n",
      "cross val score is: 82.79352226720648\n",
      "accuracy score is: 100.0\n",
      "/n\n",
      "at cv: 3\n",
      "cross val score is: 84.27800269905534\n",
      "accuracy score is: 100.0\n",
      "/n\n",
      "at cv: 4\n",
      "cross val score is: 85.38011695906434\n",
      "accuracy score is: 100.0\n",
      "/n\n",
      "at cv: 5\n",
      "cross val score is: 85.51553526298251\n",
      "accuracy score is: 100.0\n",
      "/n\n",
      "at cv: 6\n",
      "cross val score is: 86.2910481331534\n",
      "accuracy score is: 100.0\n",
      "/n\n",
      "at cv: 7\n",
      "cross val score is: 86.86559833049981\n",
      "accuracy score is: 100.0\n",
      "/n\n",
      "at cv: 8\n",
      "cross val score is: 86.53903047678868\n",
      "accuracy score is: 100.0\n",
      "/n\n",
      "at cv: 9\n",
      "cross val score is: 86.75213675213675\n",
      "accuracy score is: 100.0\n",
      "/n\n"
     ]
    }
   ],
   "source": [
    "pred_dtc=dtc.predict(x_test)\n",
    "from sklearn.model_selection import cross_val_score\n",
    "lss=accuracy_score(y_test,preddtc)\n",
    "for j in range(2,10):\n",
    "    lsscore=cross_val_score(dtc,trainx,trainy,cv=j)\n",
    "    lsc=lsscore.mean()\n",
    "    print('at cv:',j)\n",
    "    print(\"cross val score is:\",lsc*100)\n",
    "    print(\"accuracy score is:\",lss*100)\n",
    "    print(\"/n\")"
   ]
  },
  {
   "cell_type": "code",
   "execution_count": 54,
   "id": "c808fbda",
   "metadata": {},
   "outputs": [
    {
     "name": "stdout",
     "output_type": "stream",
     "text": [
      "at cv: 2\n",
      "cross val score is: 83.89563652721547\n",
      "accuracy score is: 91.85784975258659\n",
      "/n\n",
      "at cv: 3\n",
      "cross val score is: 85.38011695906432\n",
      "accuracy score is: 91.85784975258659\n",
      "/n\n",
      "at cv: 4\n",
      "cross val score is: 86.1898335582546\n",
      "accuracy score is: 91.85784975258659\n",
      "/n\n",
      "at cv: 5\n",
      "cross val score is: 86.41491061509386\n",
      "accuracy score is: 91.85784975258659\n",
      "/n\n",
      "at cv: 6\n",
      "cross val score is: 86.75213675213675\n",
      "accuracy score is: 91.85784975258659\n",
      "/n\n",
      "at cv: 7\n",
      "cross val score is: 86.85370367256414\n",
      "accuracy score is: 91.85784975258659\n",
      "/n\n",
      "at cv: 8\n",
      "cross val score is: 86.90976111999689\n",
      "accuracy score is: 91.85784975258659\n",
      "/n\n",
      "at cv: 9\n",
      "cross val score is: 86.77462887989203\n",
      "accuracy score is: 91.85784975258659\n",
      "/n\n"
     ]
    }
   ],
   "source": [
    "predknc=knc.predict(x_test)\n",
    "from sklearn.model_selection import cross_val_score\n",
    "lss=accuracy_score(y_test,predknc)\n",
    "for j in range(2,10):\n",
    "    lsscore=cross_val_score(knc,trainx,trainy,cv=j)\n",
    "    lsc=lsscore.mean()\n",
    "    print('at cv:',j)\n",
    "    print(\"cross val score is:\",lsc*100)\n",
    "    print(\"accuracy score is:\",lss*100)\n",
    "    print(\"/n\")"
   ]
  },
  {
   "cell_type": "code",
   "execution_count": 55,
   "id": "6c646b23",
   "metadata": {},
   "outputs": [
    {
     "name": "stdout",
     "output_type": "stream",
     "text": [
      "at cv: 2\n",
      "cross val score is: 82.93972109761583\n",
      "accuracy score is: 100.0\n",
      "/n\n",
      "at cv: 3\n",
      "cross val score is: 84.57040035987404\n",
      "accuracy score is: 100.0\n",
      "/n\n",
      "at cv: 4\n",
      "cross val score is: 85.32388663967612\n",
      "accuracy score is: 100.0\n",
      "/n\n",
      "at cv: 5\n",
      "cross val score is: 85.35811817789218\n",
      "accuracy score is: 100.0\n",
      "/n\n",
      "at cv: 6\n",
      "cross val score is: 86.45973909131803\n",
      "accuracy score is: 100.0\n",
      "/n\n",
      "at cv: 7\n",
      "cross val score is: 86.49449208306082\n",
      "accuracy score is: 100.0\n",
      "/n\n",
      "at cv: 8\n",
      "cross val score is: 86.71900800691581\n",
      "accuracy score is: 100.0\n",
      "/n\n",
      "at cv: 9\n",
      "cross val score is: 86.49347728295098\n",
      "accuracy score is: 100.0\n",
      "/n\n"
     ]
    }
   ],
   "source": [
    "pred=dtc.predict(x_test)\n",
    "from sklearn.model_selection import cross_val_score\n",
    "lss=accuracy_score(y_test,pred_dtc)\n",
    "for j in range(2,10):\n",
    "    lsscore=cross_val_score(dtc,trainx,trainy,cv=j)\n",
    "    lsc=lsscore.mean()\n",
    "    print('at cv:',j)\n",
    "    print(\"cross val score is:\",lsc*100)\n",
    "    print(\"accuracy score is:\",lss*100)\n",
    "    print(\"/n\")"
   ]
  },
  {
   "cell_type": "code",
   "execution_count": 56,
   "id": "d592b2cf",
   "metadata": {},
   "outputs": [],
   "source": [
    "from sklearn.model_selection import GridSearchCV\n"
   ]
  },
  {
   "cell_type": "code",
   "execution_count": 57,
   "id": "b2ddb2bf",
   "metadata": {},
   "outputs": [],
   "source": [
    "n_neighbors=[1,2,3,4,5]\n",
    "weights=['uniform','distance']\n",
    "algorithm=['auto','ball-tree','kd_tree']\n",
    "leaf_size=[10,20,30,40,50]\n"
   ]
  },
  {
   "cell_type": "code",
   "execution_count": 58,
   "id": "5e4d2556",
   "metadata": {},
   "outputs": [],
   "source": [
    "grid_param={'n_neighbors': n_neighbors,\n",
    "           'weights': weights,\n",
    "           'algorithm': algorithm,\n",
    "           'leaf_size': leaf_size}"
   ]
  },
  {
   "cell_type": "code",
   "execution_count": 59,
   "id": "11b37dc7",
   "metadata": {},
   "outputs": [
    {
     "name": "stdout",
     "output_type": "stream",
     "text": [
      "{'n_neighbors': [1, 2, 3, 4, 5], 'weights': ['uniform', 'distance'], 'algorithm': ['auto', 'ball-tree', 'kd_tree'], 'leaf_size': [10, 20, 30, 40, 50]}\n"
     ]
    }
   ],
   "source": [
    "print(grid_param)"
   ]
  },
  {
   "cell_type": "code",
   "execution_count": 60,
   "id": "cd8b0a65",
   "metadata": {},
   "outputs": [],
   "source": [
    "knc=KNeighborsClassifier()\n",
    "knc_grid=GridSearchCV(estimator=knc,param_grid=grid_param)"
   ]
  },
  {
   "cell_type": "code",
   "execution_count": 61,
   "id": "25719df4",
   "metadata": {},
   "outputs": [
    {
     "data": {
      "text/plain": [
       "GridSearchCV(estimator=KNeighborsClassifier(),\n",
       "             param_grid={'algorithm': ['auto', 'ball-tree', 'kd_tree'],\n",
       "                         'leaf_size': [10, 20, 30, 40, 50],\n",
       "                         'n_neighbors': [1, 2, 3, 4, 5],\n",
       "                         'weights': ['uniform', 'distance']})"
      ]
     },
     "execution_count": 61,
     "metadata": {},
     "output_type": "execute_result"
    }
   ],
   "source": [
    "knc_grid.fit(trainx,trainy)"
   ]
  },
  {
   "cell_type": "code",
   "execution_count": 62,
   "id": "9797b91b",
   "metadata": {},
   "outputs": [
    {
     "name": "stdout",
     "output_type": "stream",
     "text": [
      "{'algorithm': 'auto', 'leaf_size': 10, 'n_neighbors': 2, 'weights': 'uniform'}\n"
     ]
    }
   ],
   "source": [
    "print(knc_grid.best_params_)"
   ]
  },
  {
   "cell_type": "code",
   "execution_count": 63,
   "id": "4b417104",
   "metadata": {},
   "outputs": [
    {
     "name": "stdout",
     "output_type": "stream",
     "text": [
      "0.918578497525866\n",
      "[[ 920  173]\n",
      " [   8 1122]]\n",
      "              precision    recall  f1-score   support\n",
      "\n",
      "           0       0.99      0.84      0.91      1093\n",
      "           1       0.87      0.99      0.93      1130\n",
      "\n",
      "    accuracy                           0.92      2223\n",
      "   macro avg       0.93      0.92      0.92      2223\n",
      "weighted avg       0.93      0.92      0.92      2223\n",
      "\n"
     ]
    }
   ],
   "source": [
    "kn=KNeighborsClassifier(algorithm='auto',leaf_size=10,n_neighbors=2,weights='uniform')\n",
    "kn=KNeighborsClassifier()\n",
    "kn.fit(trainx,trainy)\n",
    "kn.score(trainx,trainy)\n",
    "predkn=kn.predict(x_test)\n",
    "print(accuracy_score(y_test,predkn))\n",
    "print(confusion_matrix(y_test,predkn))\n",
    "print(classification_report(y_test,predkn))"
   ]
  },
  {
   "cell_type": "code",
   "execution_count": 64,
   "id": "ecd6e49f",
   "metadata": {},
   "outputs": [
    {
     "data": {
      "image/png": "[encoded data removed]",
      "text/plain": [
       "<Figure size 432x288 with 1 Axes>"
      ]
     },
     "metadata": {
      "needs_background": "light"
     },
     "output_type": "display_data"
    }
   ],
   "source": [
    "from sklearn.metrics import roc_curve,auc\n",
    "fpr,tpr,thresholds=roc_curve(predkn,y_test)\n",
    "roc_auc=auc(fpr,tpr)\n",
    "\n",
    "plt.figure()\n",
    "plt.plot(fpr,tpr,color='darkorange',lw=10,label='roc curve(area=%0.2f)'%roc_auc)\n",
    "plt.plot([0,1],[0,1],color='navy',lw=10,linestyle='--')\n",
    "plt.xlim([0.0,1.0])\n",
    "plt.ylim([0.0,1.05])\n",
    "plt.xlabel(\"false positive rate\")\n",
    "plt.ylabel(\"true positive rate\")\n",
    "plt.title(\"reciever operating characterstics\")\n",
    "plt.legend(loc='lower right')\n",
    "plt.show()"
   ]
  },
  {
   "cell_type": "code",
   "execution_count": 65,
   "id": "f24d688a",
   "metadata": {},
   "outputs": [],
   "source": [
    "import pickle\n",
    "filename=\"rain_prediction.pkl\"\n",
    "pickle.dump(kn,open(filename,'wb'))"
   ]
  },
  {
   "cell_type": "code",
   "execution_count": null,
   "id": "5d117592",
   "metadata": {},
   "outputs": [],
   "source": []
  },
  {
   "cell_type": "markdown",
   "id": "a1fad7a1",
   "metadata": {},
   "source": [
    "# now lets check the regression part about how much thee rainfall could occur"
   ]
  },
  {
   "cell_type": "code",
   "execution_count": 66,
   "id": "12581a08",
   "metadata": {},
   "outputs": [],
   "source": [
    "from sklearn.preprocessing import StandardScaler\n",
    "sc=StandardScaler()"
   ]
  },
  {
   "cell_type": "code",
   "execution_count": 67,
   "id": "a5df734e",
   "metadata": {},
   "outputs": [],
   "source": [
    "x1=new_df.drop('Rainfall',axis=1)\n",
    "y1=new_df['Rainfall']"
   ]
  },
  {
   "cell_type": "code",
   "execution_count": 68,
   "id": "a3dd8d78",
   "metadata": {},
   "outputs": [
    {
     "data": {
      "text/html": [
       "<div>\n",
       "<style scoped>\n",
       "    .dataframe tbody tr th:only-of-type {\n",
       "        vertical-align: middle;\n",
       "    }\n",
       "\n",
       "    .dataframe tbody tr th {\n",
       "        vertical-align: top;\n",
       "    }\n",
       "\n",
       "    .dataframe thead th {\n",
       "        text-align: right;\n",
       "    }\n",
       "</style>\n",
       "<table border=\"1\" class=\"dataframe\">\n",
       "  <thead>\n",
       "    <tr style=\"text-align: right;\">\n",
       "      <th></th>\n",
       "      <th>Location</th>\n",
       "      <th>MinTemp</th>\n",
       "      <th>MaxTemp</th>\n",
       "      <th>Evaporation</th>\n",
       "      <th>Sunshine</th>\n",
       "      <th>WindGustDir</th>\n",
       "      <th>WindGustSpeed</th>\n",
       "      <th>WindDir9am</th>\n",
       "      <th>WindDir3pm</th>\n",
       "      <th>WindSpeed9am</th>\n",
       "      <th>WindSpeed3pm</th>\n",
       "      <th>Humidity9am</th>\n",
       "      <th>Humidity3pm</th>\n",
       "      <th>Pressure9am</th>\n",
       "      <th>Pressure3pm</th>\n",
       "      <th>Cloud9am</th>\n",
       "      <th>Cloud3pm</th>\n",
       "      <th>Temp9am</th>\n",
       "      <th>Temp3pm</th>\n",
       "      <th>RainToday</th>\n",
       "      <th>RainTomorrow</th>\n",
       "      <th>Day</th>\n",
       "      <th>Month</th>\n",
       "      <th>Year</th>\n",
       "    </tr>\n",
       "  </thead>\n",
       "  <tbody>\n",
       "    <tr>\n",
       "      <th>0</th>\n",
       "      <td>1</td>\n",
       "      <td>13.4</td>\n",
       "      <td>22.9</td>\n",
       "      <td>5.389395</td>\n",
       "      <td>7.632205</td>\n",
       "      <td>0</td>\n",
       "      <td>44.0</td>\n",
       "      <td>0</td>\n",
       "      <td>0</td>\n",
       "      <td>20.0</td>\n",
       "      <td>24.0</td>\n",
       "      <td>71.0</td>\n",
       "      <td>22.0</td>\n",
       "      <td>1007.7</td>\n",
       "      <td>1007.1</td>\n",
       "      <td>8.000000</td>\n",
       "      <td>4.503183</td>\n",
       "      <td>16.9</td>\n",
       "      <td>21.8</td>\n",
       "      <td>0</td>\n",
       "      <td>0</td>\n",
       "      <td>1</td>\n",
       "      <td>12</td>\n",
       "      <td>2008</td>\n",
       "    </tr>\n",
       "    <tr>\n",
       "      <th>1</th>\n",
       "      <td>1</td>\n",
       "      <td>7.4</td>\n",
       "      <td>25.1</td>\n",
       "      <td>5.389395</td>\n",
       "      <td>7.632205</td>\n",
       "      <td>1</td>\n",
       "      <td>44.0</td>\n",
       "      <td>1</td>\n",
       "      <td>1</td>\n",
       "      <td>4.0</td>\n",
       "      <td>22.0</td>\n",
       "      <td>44.0</td>\n",
       "      <td>25.0</td>\n",
       "      <td>1010.6</td>\n",
       "      <td>1007.8</td>\n",
       "      <td>4.566622</td>\n",
       "      <td>4.503183</td>\n",
       "      <td>17.2</td>\n",
       "      <td>24.3</td>\n",
       "      <td>0</td>\n",
       "      <td>0</td>\n",
       "      <td>2</td>\n",
       "      <td>12</td>\n",
       "      <td>2008</td>\n",
       "    </tr>\n",
       "    <tr>\n",
       "      <th>2</th>\n",
       "      <td>1</td>\n",
       "      <td>12.9</td>\n",
       "      <td>25.7</td>\n",
       "      <td>5.389395</td>\n",
       "      <td>7.632205</td>\n",
       "      <td>2</td>\n",
       "      <td>46.0</td>\n",
       "      <td>2</td>\n",
       "      <td>2</td>\n",
       "      <td>19.0</td>\n",
       "      <td>26.0</td>\n",
       "      <td>38.0</td>\n",
       "      <td>30.0</td>\n",
       "      <td>1007.6</td>\n",
       "      <td>1008.7</td>\n",
       "      <td>4.566622</td>\n",
       "      <td>2.000000</td>\n",
       "      <td>21.0</td>\n",
       "      <td>23.2</td>\n",
       "      <td>0</td>\n",
       "      <td>0</td>\n",
       "      <td>3</td>\n",
       "      <td>12</td>\n",
       "      <td>2008</td>\n",
       "    </tr>\n",
       "    <tr>\n",
       "      <th>3</th>\n",
       "      <td>1</td>\n",
       "      <td>9.2</td>\n",
       "      <td>28.0</td>\n",
       "      <td>5.389395</td>\n",
       "      <td>7.632205</td>\n",
       "      <td>3</td>\n",
       "      <td>24.0</td>\n",
       "      <td>3</td>\n",
       "      <td>3</td>\n",
       "      <td>11.0</td>\n",
       "      <td>9.0</td>\n",
       "      <td>45.0</td>\n",
       "      <td>16.0</td>\n",
       "      <td>1017.6</td>\n",
       "      <td>1012.8</td>\n",
       "      <td>4.566622</td>\n",
       "      <td>4.503183</td>\n",
       "      <td>18.1</td>\n",
       "      <td>26.5</td>\n",
       "      <td>0</td>\n",
       "      <td>0</td>\n",
       "      <td>4</td>\n",
       "      <td>12</td>\n",
       "      <td>2008</td>\n",
       "    </tr>\n",
       "    <tr>\n",
       "      <th>4</th>\n",
       "      <td>1</td>\n",
       "      <td>17.5</td>\n",
       "      <td>32.3</td>\n",
       "      <td>5.389395</td>\n",
       "      <td>7.632205</td>\n",
       "      <td>4</td>\n",
       "      <td>41.0</td>\n",
       "      <td>4</td>\n",
       "      <td>4</td>\n",
       "      <td>7.0</td>\n",
       "      <td>20.0</td>\n",
       "      <td>82.0</td>\n",
       "      <td>33.0</td>\n",
       "      <td>1010.8</td>\n",
       "      <td>1006.0</td>\n",
       "      <td>7.000000</td>\n",
       "      <td>8.000000</td>\n",
       "      <td>17.8</td>\n",
       "      <td>29.7</td>\n",
       "      <td>0</td>\n",
       "      <td>0</td>\n",
       "      <td>5</td>\n",
       "      <td>12</td>\n",
       "      <td>2008</td>\n",
       "    </tr>\n",
       "    <tr>\n",
       "      <th>...</th>\n",
       "      <td>...</td>\n",
       "      <td>...</td>\n",
       "      <td>...</td>\n",
       "      <td>...</td>\n",
       "      <td>...</td>\n",
       "      <td>...</td>\n",
       "      <td>...</td>\n",
       "      <td>...</td>\n",
       "      <td>...</td>\n",
       "      <td>...</td>\n",
       "      <td>...</td>\n",
       "      <td>...</td>\n",
       "      <td>...</td>\n",
       "      <td>...</td>\n",
       "      <td>...</td>\n",
       "      <td>...</td>\n",
       "      <td>...</td>\n",
       "      <td>...</td>\n",
       "      <td>...</td>\n",
       "      <td>...</td>\n",
       "      <td>...</td>\n",
       "      <td>...</td>\n",
       "      <td>...</td>\n",
       "      <td>...</td>\n",
       "    </tr>\n",
       "    <tr>\n",
       "      <th>8419</th>\n",
       "      <td>9</td>\n",
       "      <td>3.5</td>\n",
       "      <td>21.8</td>\n",
       "      <td>5.389395</td>\n",
       "      <td>7.632205</td>\n",
       "      <td>2998</td>\n",
       "      <td>31.0</td>\n",
       "      <td>2998</td>\n",
       "      <td>2998</td>\n",
       "      <td>15.0</td>\n",
       "      <td>13.0</td>\n",
       "      <td>59.0</td>\n",
       "      <td>27.0</td>\n",
       "      <td>1024.7</td>\n",
       "      <td>1021.2</td>\n",
       "      <td>4.566622</td>\n",
       "      <td>4.503183</td>\n",
       "      <td>9.4</td>\n",
       "      <td>20.9</td>\n",
       "      <td>0</td>\n",
       "      <td>0</td>\n",
       "      <td>20</td>\n",
       "      <td>6</td>\n",
       "      <td>2017</td>\n",
       "    </tr>\n",
       "    <tr>\n",
       "      <th>8420</th>\n",
       "      <td>9</td>\n",
       "      <td>2.8</td>\n",
       "      <td>23.4</td>\n",
       "      <td>5.389395</td>\n",
       "      <td>7.632205</td>\n",
       "      <td>2999</td>\n",
       "      <td>31.0</td>\n",
       "      <td>2999</td>\n",
       "      <td>2999</td>\n",
       "      <td>13.0</td>\n",
       "      <td>11.0</td>\n",
       "      <td>51.0</td>\n",
       "      <td>24.0</td>\n",
       "      <td>1024.6</td>\n",
       "      <td>1020.3</td>\n",
       "      <td>4.566622</td>\n",
       "      <td>4.503183</td>\n",
       "      <td>10.1</td>\n",
       "      <td>22.4</td>\n",
       "      <td>0</td>\n",
       "      <td>0</td>\n",
       "      <td>21</td>\n",
       "      <td>6</td>\n",
       "      <td>2017</td>\n",
       "    </tr>\n",
       "    <tr>\n",
       "      <th>8421</th>\n",
       "      <td>9</td>\n",
       "      <td>3.6</td>\n",
       "      <td>25.3</td>\n",
       "      <td>5.389395</td>\n",
       "      <td>7.632205</td>\n",
       "      <td>3000</td>\n",
       "      <td>22.0</td>\n",
       "      <td>3000</td>\n",
       "      <td>3000</td>\n",
       "      <td>13.0</td>\n",
       "      <td>9.0</td>\n",
       "      <td>56.0</td>\n",
       "      <td>21.0</td>\n",
       "      <td>1023.5</td>\n",
       "      <td>1019.1</td>\n",
       "      <td>4.566622</td>\n",
       "      <td>4.503183</td>\n",
       "      <td>10.9</td>\n",
       "      <td>24.5</td>\n",
       "      <td>0</td>\n",
       "      <td>0</td>\n",
       "      <td>22</td>\n",
       "      <td>6</td>\n",
       "      <td>2017</td>\n",
       "    </tr>\n",
       "    <tr>\n",
       "      <th>8422</th>\n",
       "      <td>9</td>\n",
       "      <td>5.4</td>\n",
       "      <td>26.9</td>\n",
       "      <td>5.389395</td>\n",
       "      <td>7.632205</td>\n",
       "      <td>3001</td>\n",
       "      <td>37.0</td>\n",
       "      <td>3001</td>\n",
       "      <td>3001</td>\n",
       "      <td>9.0</td>\n",
       "      <td>9.0</td>\n",
       "      <td>53.0</td>\n",
       "      <td>24.0</td>\n",
       "      <td>1021.0</td>\n",
       "      <td>1016.8</td>\n",
       "      <td>4.566622</td>\n",
       "      <td>4.503183</td>\n",
       "      <td>12.5</td>\n",
       "      <td>26.1</td>\n",
       "      <td>0</td>\n",
       "      <td>0</td>\n",
       "      <td>23</td>\n",
       "      <td>6</td>\n",
       "      <td>2017</td>\n",
       "    </tr>\n",
       "    <tr>\n",
       "      <th>8423</th>\n",
       "      <td>9</td>\n",
       "      <td>7.8</td>\n",
       "      <td>27.0</td>\n",
       "      <td>5.389395</td>\n",
       "      <td>7.632205</td>\n",
       "      <td>3002</td>\n",
       "      <td>28.0</td>\n",
       "      <td>3002</td>\n",
       "      <td>3002</td>\n",
       "      <td>13.0</td>\n",
       "      <td>7.0</td>\n",
       "      <td>51.0</td>\n",
       "      <td>24.0</td>\n",
       "      <td>1019.4</td>\n",
       "      <td>1016.5</td>\n",
       "      <td>3.000000</td>\n",
       "      <td>2.000000</td>\n",
       "      <td>15.1</td>\n",
       "      <td>26.0</td>\n",
       "      <td>0</td>\n",
       "      <td>0</td>\n",
       "      <td>24</td>\n",
       "      <td>6</td>\n",
       "      <td>2017</td>\n",
       "    </tr>\n",
       "  </tbody>\n",
       "</table>\n",
       "<p>7658 rows × 24 columns</p>\n",
       "</div>"
      ],
      "text/plain": [
       "      Location  MinTemp  MaxTemp  Evaporation  Sunshine  WindGustDir  \\\n",
       "0            1     13.4     22.9     5.389395  7.632205            0   \n",
       "1            1      7.4     25.1     5.389395  7.632205            1   \n",
       "2            1     12.9     25.7     5.389395  7.632205            2   \n",
       "3            1      9.2     28.0     5.389395  7.632205            3   \n",
       "4            1     17.5     32.3     5.389395  7.632205            4   \n",
       "...        ...      ...      ...          ...       ...          ...   \n",
       "8419         9      3.5     21.8     5.389395  7.632205         2998   \n",
       "8420         9      2.8     23.4     5.389395  7.632205         2999   \n",
       "8421         9      3.6     25.3     5.389395  7.632205         3000   \n",
       "8422         9      5.4     26.9     5.389395  7.632205         3001   \n",
       "8423         9      7.8     27.0     5.389395  7.632205         3002   \n",
       "\n",
       "      WindGustSpeed  WindDir9am  WindDir3pm  WindSpeed9am  WindSpeed3pm  \\\n",
       "0              44.0           0           0          20.0          24.0   \n",
       "1              44.0           1           1           4.0          22.0   \n",
       "2              46.0           2           2          19.0          26.0   \n",
       "3              24.0           3           3          11.0           9.0   \n",
       "4              41.0           4           4           7.0          20.0   \n",
       "...             ...         ...         ...           ...           ...   \n",
       "8419           31.0        2998        2998          15.0          13.0   \n",
       "8420           31.0        2999        2999          13.0          11.0   \n",
       "8421           22.0        3000        3000          13.0           9.0   \n",
       "8422           37.0        3001        3001           9.0           9.0   \n",
       "8423           28.0        3002        3002          13.0           7.0   \n",
       "\n",
       "      Humidity9am  Humidity3pm  Pressure9am  Pressure3pm  Cloud9am  Cloud3pm  \\\n",
       "0            71.0         22.0       1007.7       1007.1  8.000000  4.503183   \n",
       "1            44.0         25.0       1010.6       1007.8  4.566622  4.503183   \n",
       "2            38.0         30.0       1007.6       1008.7  4.566622  2.000000   \n",
       "3            45.0         16.0       1017.6       1012.8  4.566622  4.503183   \n",
       "4            82.0         33.0       1010.8       1006.0  7.000000  8.000000   \n",
       "...           ...          ...          ...          ...       ...       ...   \n",
       "8419         59.0         27.0       1024.7       1021.2  4.566622  4.503183   \n",
       "8420         51.0         24.0       1024.6       1020.3  4.566622  4.503183   \n",
       "8421         56.0         21.0       1023.5       1019.1  4.566622  4.503183   \n",
       "8422         53.0         24.0       1021.0       1016.8  4.566622  4.503183   \n",
       "8423         51.0         24.0       1019.4       1016.5  3.000000  2.000000   \n",
       "\n",
       "      Temp9am  Temp3pm  RainToday  RainTomorrow  Day  Month  Year  \n",
       "0        16.9     21.8          0             0    1     12  2008  \n",
       "1        17.2     24.3          0             0    2     12  2008  \n",
       "2        21.0     23.2          0             0    3     12  2008  \n",
       "3        18.1     26.5          0             0    4     12  2008  \n",
       "4        17.8     29.7          0             0    5     12  2008  \n",
       "...       ...      ...        ...           ...  ...    ...   ...  \n",
       "8419      9.4     20.9          0             0   20      6  2017  \n",
       "8420     10.1     22.4          0             0   21      6  2017  \n",
       "8421     10.9     24.5          0             0   22      6  2017  \n",
       "8422     12.5     26.1          0             0   23      6  2017  \n",
       "8423     15.1     26.0          0             0   24      6  2017  \n",
       "\n",
       "[7658 rows x 24 columns]"
      ]
     },
     "execution_count": 68,
     "metadata": {},
     "output_type": "execute_result"
    }
   ],
   "source": [
    "x1"
   ]
  },
  {
   "cell_type": "code",
   "execution_count": 69,
   "id": "90c601e4",
   "metadata": {},
   "outputs": [
    {
     "data": {
      "text/plain": [
       "0       0.6\n",
       "1       0.0\n",
       "2       0.0\n",
       "3       0.0\n",
       "4       1.0\n",
       "       ... \n",
       "8419    0.0\n",
       "8420    0.0\n",
       "8421    0.0\n",
       "8422    0.0\n",
       "8423    0.0\n",
       "Name: Rainfall, Length: 7658, dtype: float64"
      ]
     },
     "execution_count": 69,
     "metadata": {},
     "output_type": "execute_result"
    }
   ],
   "source": [
    "y1"
   ]
  },
  {
   "cell_type": "code",
   "execution_count": 70,
   "id": "022ae20c",
   "metadata": {},
   "outputs": [],
   "source": [
    "x1=sc.fit_transform(x1)"
   ]
  },
  {
   "cell_type": "code",
   "execution_count": 71,
   "id": "72334f24",
   "metadata": {},
   "outputs": [
    {
     "data": {
      "text/plain": [
       "array([[-1.49692106,  0.06441346, -0.14720602, ..., -1.67100804,\n",
       "         1.66884377, -1.65177083],\n",
       "       [-1.49692106, -1.04370293,  0.21979071, ..., -1.55745446,\n",
       "         1.66884377, -1.65177083],\n",
       "       [-1.49692106, -0.02792958,  0.31988073, ..., -1.44390089,\n",
       "         1.66884377, -1.65177083],\n",
       "       ...,\n",
       "       [ 1.03265834, -1.74550997,  0.25315405, ...,  0.71361705,\n",
       "        -0.10648577,  2.00949337],\n",
       "       [ 1.03265834, -1.41307505,  0.52006076, ...,  0.82717063,\n",
       "        -0.10648577,  2.00949337],\n",
       "       [ 1.03265834, -0.9698285 ,  0.53674243, ...,  0.9407242 ,\n",
       "        -0.10648577,  2.00949337]])"
      ]
     },
     "execution_count": 71,
     "metadata": {},
     "output_type": "execute_result"
    }
   ],
   "source": [
    "x1"
   ]
  },
  {
   "cell_type": "code",
   "execution_count": 72,
   "id": "2e45a414",
   "metadata": {},
   "outputs": [
    {
     "data": {
      "text/plain": [
       "Location        -0.041110\n",
       "MinTemp         -0.068917\n",
       "MaxTemp          0.317440\n",
       "Rainfall         3.468158\n",
       "Evaporation      0.848727\n",
       "Sunshine        -0.722731\n",
       "WindGustDir      0.396035\n",
       "WindGustSpeed    0.526676\n",
       "WindDir9am       0.396035\n",
       "WindDir3pm       0.396035\n",
       "WindSpeed9am     0.719269\n",
       "WindSpeed3pm     0.308636\n",
       "Humidity9am     -0.227933\n",
       "Humidity3pm      0.127369\n",
       "Pressure9am      0.028434\n",
       "Pressure3pm      0.057399\n",
       "Cloud9am        -0.339408\n",
       "Cloud3pm        -0.257479\n",
       "Temp9am         -0.037216\n",
       "Temp3pm          0.331819\n",
       "RainToday        1.261972\n",
       "RainTomorrow     1.287230\n",
       "Day             -0.000241\n",
       "Month            0.068113\n",
       "Year             0.433557\n",
       "dtype: float64"
      ]
     },
     "execution_count": 72,
     "metadata": {},
     "output_type": "execute_result"
    }
   ],
   "source": [
    "new_df.skew()"
   ]
  },
  {
   "cell_type": "code",
   "execution_count": 73,
   "id": "9047fd39",
   "metadata": {},
   "outputs": [
    {
     "data": {
      "image/png": "[encoded data removed]",
      "text/plain": [
       "<Figure size 432x288 with 1 Axes>"
      ]
     },
     "metadata": {
      "needs_background": "light"
     },
     "output_type": "display_data"
    },
    {
     "data": {
      "image/png": "[encoded data removed]",
      "text/plain": [
       "<Figure size 1080x1080 with 1 Axes>"
      ]
     },
     "metadata": {
      "needs_background": "light"
     },
     "output_type": "display_data"
    },
    {
     "data": {
      "image/png": "[encoded data removed]",
      "text/plain": [
       "<Figure size 1080x1080 with 1 Axes>"
      ]
     },
     "metadata": {
      "needs_background": "light"
     },
     "output_type": "display_data"
    },
    {
     "data": {
      "image/png": "[encoded data removed]",
      "text/plain": [
       "<Figure size 1080x1080 with 1 Axes>"
      ]
     },
     "metadata": {
      "needs_background": "light"
     },
     "output_type": "display_data"
    },
    {
     "data": {
      "image/png": "[encoded data removed]",
      "text/plain": [
       "<Figure size 1080x1080 with 1 Axes>"
      ]
     },
     "metadata": {
      "needs_background": "light"
     },
     "output_type": "display_data"
    },
    {
     "data": {
      "image/png": "[encoded data removed]",
      "text/plain": [
       "<Figure size 1080x1080 with 1 Axes>"
      ]
     },
     "metadata": {
      "needs_background": "light"
     },
     "output_type": "display_data"
    },
    {
     "data": {
      "image/png": "[encoded data removed]",
      "text/plain": [
       "<Figure size 1080x1080 with 1 Axes>"
      ]
     },
     "metadata": {
      "needs_background": "light"
     },
     "output_type": "display_data"
    },
    {
     "data": {
      "image/png": "[encoded data removed]",
      "text/plain": [
       "<Figure size 1080x1080 with 1 Axes>"
      ]
     },
     "metadata": {
      "needs_background": "light"
     },
     "output_type": "display_data"
    },
    {
     "data": {
      "image/png": "[encoded data removed]",
      "text/plain": [
       "<Figure size 1080x1080 with 1 Axes>"
      ]
     },
     "metadata": {
      "needs_background": "light"
     },
     "output_type": "display_data"
    },
    {
     "data": {
      "image/png": "[encoded data removed]",
      "text/plain": [
       "<Figure size 1080x1080 with 1 Axes>"
      ]
     },
     "metadata": {
      "needs_background": "light"
     },
     "output_type": "display_data"
    },
    {
     "data": {
      "image/png": "[encoded data removed]",
      "text/plain": [
       "<Figure size 1080x1080 with 1 Axes>"
      ]
     },
     "metadata": {
      "needs_background": "light"
     },
     "output_type": "display_data"
    },
    {
     "data": {
      "image/png": "[encoded data removed]",
      "text/plain": [
       "<Figure size 1080x1080 with 1 Axes>"
      ]
     },
     "metadata": {
      "needs_background": "light"
     },
     "output_type": "display_data"
    },
    {
     "data": {
      "image/png": "[encoded data removed]",
      "text/plain": [
       "<Figure size 1080x1080 with 1 Axes>"
      ]
     },
     "metadata": {
      "needs_background": "light"
     },
     "output_type": "display_data"
    },
    {
     "data": {
      "image/png": "[encoded data removed]",
      "text/plain": [
       "<Figure size 1080x1080 with 1 Axes>"
      ]
     },
     "metadata": {
      "needs_background": "light"
     },
     "output_type": "display_data"
    },
    {
     "data": {
      "image/png": "[encoded data removed]",
      "text/plain": [
       "<Figure size 1080x1080 with 1 Axes>"
      ]
     },
     "metadata": {
      "needs_background": "light"
     },
     "output_type": "display_data"
    },
    {
     "data": {
      "image/png": "[encoded data removed]",
      "text/plain": [
       "<Figure size 1080x1080 with 1 Axes>"
      ]
     },
     "metadata": {
      "needs_background": "light"
     },
     "output_type": "display_data"
    },
    {
     "data": {
      "image/png": "[encoded data removed]",
      "text/plain": [
       "<Figure size 1080x1080 with 1 Axes>"
      ]
     },
     "metadata": {
      "needs_background": "light"
     },
     "output_type": "display_data"
    },
    {
     "data": {
      "image/png": "[encoded data removed]",
      "text/plain": [
       "<Figure size 1080x1080 with 1 Axes>"
      ]
     },
     "metadata": {
      "needs_background": "light"
     },
     "output_type": "display_data"
    },
    {
     "data": {
      "text/plain": [
       "<Figure size 1080x1080 with 0 Axes>"
      ]
     },
     "metadata": {},
     "output_type": "display_data"
    }
   ],
   "source": [
    "for feature in continious_feature:\n",
    "    data=new_df.copy()\n",
    "    sns.boxplot(data[feature])\n",
    "    plt.title(feature)\n",
    "    plt.figure(figsize=(15,15))"
   ]
  },
  {
   "cell_type": "markdown",
   "id": "63979790",
   "metadata": {},
   "source": [
    "we can see that there are various outliers present in the dataset. lets fix it using quantile function "
   ]
  },
  {
   "cell_type": "code",
   "execution_count": 74,
   "id": "e552d1c2",
   "metadata": {},
   "outputs": [
    {
     "name": "stdout",
     "output_type": "stream",
     "text": [
      "-3.049999999999999 29.349999999999998\n"
     ]
    }
   ],
   "source": [
    "IQR=new_df.MinTemp.quantile(0.75)-new_df.MinTemp.quantile(0.25)\n",
    "lower_bridge=new_df.MinTemp.quantile(0.25)-(IQR*1.5)\n",
    "upper_bridge=new_df.MinTemp.quantile(0.75)+(IQR*1.5)\n",
    "print(lower_bridge, upper_bridge)"
   ]
  },
  {
   "cell_type": "code",
   "execution_count": 75,
   "id": "b86cb1dd",
   "metadata": {},
   "outputs": [],
   "source": [
    "new_df.loc[df['MinTemp']>=29.3,'MinTemp']=29.3\n",
    "df.loc[df['MinTemp']<=-3.04,'MinTemp']=-3.04"
   ]
  },
  {
   "cell_type": "code",
   "execution_count": 76,
   "id": "ac0eb002",
   "metadata": {},
   "outputs": [
    {
     "name": "stdout",
     "output_type": "stream",
     "text": [
      "6.400000000000004 40.8\n"
     ]
    }
   ],
   "source": [
    "IQR=new_df.MaxTemp.quantile(0.75)-new_df.MaxTemp.quantile(0.25)\n",
    "lower_bridge=new_df.MaxTemp.quantile(0.25)-(IQR*1.5)\n",
    "upper_bridge=new_df.MaxTemp.quantile(0.75)+(IQR*1.5)\n",
    "print(lower_bridge, upper_bridge)"
   ]
  },
  {
   "cell_type": "code",
   "execution_count": 77,
   "id": "fa3b0a5d",
   "metadata": {},
   "outputs": [],
   "source": [
    "new_df.loc[df['MaxTemp']>=41.05,'MaxTemp']=40.8\n",
    "new_df.loc[df['MaxTemp']<=6.40,'MaxTemp']=6.40"
   ]
  },
  {
   "cell_type": "code",
   "execution_count": 78,
   "id": "8cbfaac6",
   "metadata": {},
   "outputs": [
    {
     "name": "stdout",
     "output_type": "stream",
     "text": [
      "-1.2000000000000002 2.0\n"
     ]
    }
   ],
   "source": [
    "IQR=new_df.Rainfall.quantile(0.75)-new_df.Rainfall.quantile(0.25)\n",
    "lower_bridge=new_df.Rainfall.quantile(0.25)-(IQR*1.5)\n",
    "upper_bridge=new_df.Rainfall.quantile(0.75)+(IQR*1.5)\n",
    "print(lower_bridge, upper_bridge)"
   ]
  },
  {
   "cell_type": "code",
   "execution_count": 79,
   "id": "d0024aa6",
   "metadata": {},
   "outputs": [],
   "source": [
    "new_df.loc[df['Rainfall']>=2.0,'Rainfall']=2.0\n",
    "new_df.loc[df['Rainfall']<=-1.20,'Rainfall']=-1.20"
   ]
  },
  {
   "cell_type": "code",
   "execution_count": 80,
   "id": "a7d3e1ea",
   "metadata": {},
   "outputs": [
    {
     "name": "stdout",
     "output_type": "stream",
     "text": [
      "1.9159067779360868 7.473488703439855\n"
     ]
    }
   ],
   "source": [
    "IQR=new_df.Evaporation.quantile(0.75)-new_df.Evaporation.quantile(0.25)\n",
    "lower_bridge=new_df.Evaporation.quantile(0.25)-(IQR*1.5)\n",
    "upper_bridge=new_df.Evaporation.quantile(0.75)+(IQR*1.5)\n",
    "print(lower_bridge, upper_bridge)"
   ]
  },
  {
   "cell_type": "code",
   "execution_count": 81,
   "id": "0505d8a6",
   "metadata": {},
   "outputs": [],
   "source": [
    "new_df.loc[df['Evaporation']>=7.48,'Evaporation']=7.48\n",
    "new_df.loc[df['Evaporation']<=1.91,'Evaporation']=1.91"
   ]
  },
  {
   "cell_type": "code",
   "execution_count": 82,
   "id": "2b8b0b30",
   "metadata": {},
   "outputs": [
    {
     "name": "stdout",
     "output_type": "stream",
     "text": [
      "5.580512299706632 11.051692620176022\n"
     ]
    }
   ],
   "source": [
    "IQR=new_df.Sunshine.quantile(0.75)-new_df.Sunshine.quantile(0.25)\n",
    "lower_bridge=new_df.Sunshine.quantile(0.25)-(IQR*1.5)\n",
    "upper_bridge=new_df.Sunshine.quantile(0.75)+(IQR*1.5)\n",
    "print(lower_bridge, upper_bridge)"
   ]
  },
  {
   "cell_type": "code",
   "execution_count": 83,
   "id": "72bd743c",
   "metadata": {},
   "outputs": [],
   "source": [
    "new_df.loc[df['Sunshine']>=11.05,'Sunshine']=11.05\n",
    "new_df.loc[df['Sunshine']<=5.58,'Sunshine']=5.58"
   ]
  },
  {
   "cell_type": "code",
   "execution_count": 84,
   "id": "0dfa16af",
   "metadata": {},
   "outputs": [
    {
     "name": "stdout",
     "output_type": "stream",
     "text": [
      "-1555.0 4117.0\n"
     ]
    }
   ],
   "source": [
    "IQR=new_df.WindGustDir.quantile(0.75)-new_df.WindGustDir.quantile(0.25)\n",
    "lower_bridge=new_df.WindGustDir.quantile(0.25)-(IQR*1.5)\n",
    "upper_bridge=new_df.WindGustDir.quantile(0.75)+(IQR*1.5)\n",
    "print(lower_bridge, upper_bridge)"
   ]
  },
  {
   "cell_type": "code",
   "execution_count": 85,
   "id": "eec75999",
   "metadata": {},
   "outputs": [],
   "source": [
    "new_df.loc[df['WindGustDir']>=4117.0,'WindGustDir']=4117.0\n",
    "new_df.loc[df['WindGustDir']<=-1555.0,'WindGustDir']=-1555.0"
   ]
  },
  {
   "cell_type": "code",
   "execution_count": 86,
   "id": "ee49778b",
   "metadata": {},
   "outputs": [
    {
     "name": "stdout",
     "output_type": "stream",
     "text": [
      "6.0 70.0\n"
     ]
    }
   ],
   "source": [
    "IQR=new_df.WindGustSpeed.quantile(0.75)-new_df.WindGustSpeed.quantile(0.25)\n",
    "lower_bridge=new_df.WindGustSpeed.quantile(0.25)-(IQR*1.5)\n",
    "upper_bridge=new_df.WindGustSpeed.quantile(0.75)+(IQR*1.5)\n",
    "print(lower_bridge, upper_bridge)"
   ]
  },
  {
   "cell_type": "code",
   "execution_count": 87,
   "id": "7d5887bd",
   "metadata": {},
   "outputs": [],
   "source": [
    "new_df.loc[df['WindGustSpeed']>=70.0,'WindGustSpeed']=70.0\n",
    "new_df.loc[df['WindGustSpeed']<=6.0,'WindGustSpeed']=6.0"
   ]
  },
  {
   "cell_type": "code",
   "execution_count": 88,
   "id": "ebabd0d6",
   "metadata": {},
   "outputs": [
    {
     "name": "stdout",
     "output_type": "stream",
     "text": [
      "6.199999999999999 38.2\n"
     ]
    }
   ],
   "source": [
    "IQR=new_df.Temp3pm.quantile(0.75)-new_df.Temp3pm.quantile(0.25)\n",
    "lower_bridge=new_df.Temp3pm.quantile(0.25)-(IQR*1.5)\n",
    "upper_bridge=new_df.Temp3pm.quantile(0.75)+(IQR*1.5)\n",
    "print(lower_bridge, upper_bridge)"
   ]
  },
  {
   "cell_type": "code",
   "execution_count": 89,
   "id": "746642e7",
   "metadata": {},
   "outputs": [],
   "source": [
    "new_df.loc[df['Temp3pm']>=38.2,'Temp3pm']=38.2\n",
    "new_df.loc[df['Temp3pm']<=6.19,'Temp3pm']=6.19"
   ]
  },
  {
   "cell_type": "code",
   "execution_count": 90,
   "id": "393f60b6",
   "metadata": {},
   "outputs": [
    {
     "name": "stdout",
     "output_type": "stream",
     "text": [
      "1003.6499999999999 1032.05\n"
     ]
    }
   ],
   "source": [
    "IQR=new_df.Pressure9am.quantile(0.75)-new_df.Pressure9am.quantile(0.25)\n",
    "lower_bridge=new_df.Pressure9am.quantile(0.25)-(IQR*1.5)\n",
    "upper_bridge=new_df.Pressure9am.quantile(0.75)+(IQR*1.5)\n",
    "print(lower_bridge, upper_bridge)"
   ]
  },
  {
   "cell_type": "code",
   "execution_count": 91,
   "id": "cec4c5ea",
   "metadata": {},
   "outputs": [],
   "source": [
    "new_df.loc[df['Pressure9am']>=1032.05,'Pressure9am']=1032.05\n",
    "new_df.loc[df['Pressure9am']<=1003.64,'Pressure9am']=1003.64"
   ]
  },
  {
   "cell_type": "code",
   "execution_count": 92,
   "id": "96250c9f",
   "metadata": {},
   "outputs": [
    {
     "name": "stdout",
     "output_type": "stream",
     "text": [
      "1001.1499999999999 1029.55\n"
     ]
    }
   ],
   "source": [
    "IQR=new_df.Pressure3pm.quantile(0.75)-new_df.Pressure3pm.quantile(0.25)\n",
    "lower_bridge=new_df.Pressure3pm.quantile(0.25)-(IQR*1.5)\n",
    "upper_bridge=new_df.Pressure3pm.quantile(0.75)+(IQR*1.5)\n",
    "print(lower_bridge, upper_bridge)"
   ]
  },
  {
   "cell_type": "code",
   "execution_count": 93,
   "id": "999f8843",
   "metadata": {},
   "outputs": [],
   "source": [
    "new_df.loc[df['Pressure3pm']>=1029.55,'Pressure3pm']=1029.55\n",
    "new_df.loc[df['Pressure3pm']<=1001.14,'Pressure3pm']=1001.14"
   ]
  },
  {
   "cell_type": "markdown",
   "id": "11a7f108",
   "metadata": {},
   "source": [
    "now lets check again the outliers"
   ]
  },
  {
   "cell_type": "code",
   "execution_count": 94,
   "id": "9a5a53de",
   "metadata": {},
   "outputs": [
    {
     "data": {
      "image/png": "[encoded data removed]",
      "text/plain": [
       "<Figure size 432x288 with 1 Axes>"
      ]
     },
     "metadata": {
      "needs_background": "light"
     },
     "output_type": "display_data"
    },
    {
     "data": {
      "image/png": "[encoded data removed]",
      "text/plain": [
       "<Figure size 1080x1080 with 1 Axes>"
      ]
     },
     "metadata": {
      "needs_background": "light"
     },
     "output_type": "display_data"
    },
    {
     "data": {
      "image/png": "[encoded data removed]",
      "text/plain": [
       "<Figure size 1080x1080 with 1 Axes>"
      ]
     },
     "metadata": {
      "needs_background": "light"
     },
     "output_type": "display_data"
    },
    {
     "data": {
      "image/png": "[encoded data removed]",
      "text/plain": [
       "<Figure size 1080x1080 with 1 Axes>"
      ]
     },
     "metadata": {
      "needs_background": "light"
     },
     "output_type": "display_data"
    },
    {
     "data": {
      "image/png": "[encoded data removed]",
      "text/plain": [
       "<Figure size 1080x1080 with 1 Axes>"
      ]
     },
     "metadata": {
      "needs_background": "light"
     },
     "output_type": "display_data"
    },
    {
     "data": {
      "image/png": "[encoded data removed]",
      "text/plain": [
       "<Figure size 1080x1080 with 1 Axes>"
      ]
     },
     "metadata": {
      "needs_background": "light"
     },
     "output_type": "display_data"
    },
    {
     "data": {
      "image/png": "[encoded data removed]",
      "text/plain": [
       "<Figure size 1080x1080 with 1 Axes>"
      ]
     },
     "metadata": {
      "needs_background": "light"
     },
     "output_type": "display_data"
    },
    {
     "data": {
      "image/png": "[encoded data removed]",
      "text/plain": [
       "<Figure size 1080x1080 with 1 Axes>"
      ]
     },
     "metadata": {
      "needs_background": "light"
     },
     "output_type": "display_data"
    },
    {
     "data": {
      "image/png": "[encoded data removed]",
      "text/plain": [
       "<Figure size 1080x1080 with 1 Axes>"
      ]
     },
     "metadata": {
      "needs_background": "light"
     },
     "output_type": "display_data"
    },
    {
     "data": {
      "image/png": "[encoded data removed]",
      "text/plain": [
       "<Figure size 1080x1080 with 1 Axes>"
      ]
     },
     "metadata": {
      "needs_background": "light"
     },
     "output_type": "display_data"
    },
    {
     "data": {
      "image/png": "[encoded data removed]",
      "text/plain": [
       "<Figure size 1080x1080 with 1 Axes>"
      ]
     },
     "metadata": {
      "needs_background": "light"
     },
     "output_type": "display_data"
    },
    {
     "data": {
      "image/png": "[encoded data removed]",
      "text/plain": [
       "<Figure size 1080x1080 with 1 Axes>"
      ]
     },
     "metadata": {
      "needs_background": "light"
     },
     "output_type": "display_data"
    },
    {
     "data": {
      "image/png": "[encoded data removed]",
      "text/plain": [
       "<Figure size 1080x1080 with 1 Axes>"
      ]
     },
     "metadata": {
      "needs_background": "light"
     },
     "output_type": "display_data"
    },
    {
     "data": {
      "image/png": "[encoded data removed]",
      "text/plain": [
       "<Figure size 1080x1080 with 1 Axes>"
      ]
     },
     "metadata": {
      "needs_background": "light"
     },
     "output_type": "display_data"
    },
    {
     "data": {
      "image/png": "[encoded data removed]",
      "text/plain": [
       "<Figure size 1080x1080 with 1 Axes>"
      ]
     },
     "metadata": {
      "needs_background": "light"
     },
     "output_type": "display_data"
    },
    {
     "data": {
      "image/png": "[encoded data removed]",
      "text/plain": [
       "<Figure size 1080x1080 with 1 Axes>"
      ]
     },
     "metadata": {
      "needs_background": "light"
     },
     "output_type": "display_data"
    },
    {
     "data": {
      "image/png": "[encoded data removed]",
      "text/plain": [
       "<Figure size 1080x1080 with 1 Axes>"
      ]
     },
     "metadata": {
      "needs_background": "light"
     },
     "output_type": "display_data"
    },
    {
     "data": {
      "image/png": "[encoded data removed]",
      "text/plain": [
       "<Figure size 1080x1080 with 1 Axes>"
      ]
     },
     "metadata": {
      "needs_background": "light"
     },
     "output_type": "display_data"
    },
    {
     "data": {
      "text/plain": [
       "<Figure size 1080x1080 with 0 Axes>"
      ]
     },
     "metadata": {},
     "output_type": "display_data"
    }
   ],
   "source": [
    "for feature in continious_feature:\n",
    "    data=new_df.copy()\n",
    "    sns.boxplot(data[feature])\n",
    "    plt.title(feature)\n",
    "    plt.figure(figsize=(15,15))"
   ]
  },
  {
   "cell_type": "markdown",
   "id": "ce8fa342",
   "metadata": {},
   "source": [
    "now lets move ahead for training the model"
   ]
  },
  {
   "cell_type": "code",
   "execution_count": 116,
   "id": "596c9e7a",
   "metadata": {},
   "outputs": [],
   "source": [
    "trainx1,testx1,trainy1,testy1=train_test_split(x1,y1,test_size=0.25,random_state=100)"
   ]
  },
  {
   "cell_type": "code",
   "execution_count": 117,
   "id": "7470b2fe",
   "metadata": {},
   "outputs": [],
   "source": [
    "from sklearn.linear_model import LinearRegression\n",
    "from sklearn.metrics import mean_squared_error,mean_absolute_error\n",
    "from sklearn.metrics import r2_score"
   ]
  },
  {
   "cell_type": "code",
   "execution_count": 119,
   "id": "ce8090bd",
   "metadata": {},
   "outputs": [
    {
     "data": {
      "text/plain": [
       "0.9503440090095795"
      ]
     },
     "execution_count": 119,
     "metadata": {},
     "output_type": "execute_result"
    }
   ],
   "source": [
    "lr=LinearRegression()\n",
    "lr.fit(trainx1,trainy1)\n",
    "lr.score(trainx1,trainy1)"
   ]
  },
  {
   "cell_type": "code",
   "execution_count": 120,
   "id": "b75699be",
   "metadata": {},
   "outputs": [],
   "source": [
    "y_predlr=lr.predict(testx1)"
   ]
  },
  {
   "cell_type": "code",
   "execution_count": 121,
   "id": "ad4bb91c",
   "metadata": {},
   "outputs": [
    {
     "name": "stdout",
     "output_type": "stream",
     "text": [
      "r2score: 0.9523472113308654\n",
      "mse: 0.031092558757027718\n",
      "mae 0.10563349565116692\n"
     ]
    }
   ],
   "source": [
    "score=r2_score(testy1,y_predlr)\n",
    "mse=mean_squared_error(testy1,y_predlr)\n",
    "mae=mean_absolute_error(testy1,y_predlr)\n",
    "\n",
    "print('r2score:',score)\n",
    "print('mse:', mse)\n",
    "print('mae',mae)"
   ]
  },
  {
   "cell_type": "code",
   "execution_count": 122,
   "id": "97fdf07c",
   "metadata": {},
   "outputs": [
    {
     "data": {
      "text/plain": [
       "1.0"
      ]
     },
     "execution_count": 122,
     "metadata": {},
     "output_type": "execute_result"
    }
   ],
   "source": [
    "from sklearn.tree import DecisionTreeRegressor\n",
    "dtr=DecisionTreeRegressor()\n",
    "dtr.fit(trainx1,trainy1)\n",
    "dtr.score(trainx1,trainy1)\n"
   ]
  },
  {
   "cell_type": "code",
   "execution_count": 123,
   "id": "57c29349",
   "metadata": {},
   "outputs": [],
   "source": [
    "y_preddtr=dtr.predict(testx1)"
   ]
  },
  {
   "cell_type": "code",
   "execution_count": 126,
   "id": "16ccac3e",
   "metadata": {},
   "outputs": [
    {
     "name": "stdout",
     "output_type": "stream",
     "text": [
      "r2score: 0.9218728679493774\n",
      "mse: 0.05097650130548303\n",
      "mae 0.08469973890339424\n"
     ]
    }
   ],
   "source": [
    "score=r2_score(testy1,y_preddtr)\n",
    "mse=mean_squared_error(testy1,y_preddtr)\n",
    "mae=mean_absolute_error(testy1,y_preddtr)\n",
    "\n",
    "print('r2score:',score)\n",
    "print('mse:', mse)\n",
    "print('mae',mae)\n"
   ]
  },
  {
   "cell_type": "code",
   "execution_count": 127,
   "id": "76c61a3d",
   "metadata": {},
   "outputs": [
    {
     "data": {
      "text/plain": [
       "0.9631720110869072"
      ]
     },
     "execution_count": 127,
     "metadata": {},
     "output_type": "execute_result"
    }
   ],
   "source": [
    "from sklearn.svm import SVR\n",
    "svr=SVR()\n",
    "svr.fit(trainx1,trainy1)\n",
    "svr.score(trainx1,trainy1)"
   ]
  },
  {
   "cell_type": "code",
   "execution_count": 128,
   "id": "871e3d76",
   "metadata": {},
   "outputs": [],
   "source": [
    "predsvr=svr.predict(x_test)"
   ]
  },
  {
   "cell_type": "code",
   "execution_count": 129,
   "id": "301da4b4",
   "metadata": {},
   "outputs": [],
   "source": [
    "from sklearn.neighbors import KNeighborsRegressor"
   ]
  },
  {
   "cell_type": "code",
   "execution_count": 130,
   "id": "2c0f2617",
   "metadata": {},
   "outputs": [
    {
     "data": {
      "text/plain": [
       "0.9387328310077717"
      ]
     },
     "execution_count": 130,
     "metadata": {},
     "output_type": "execute_result"
    }
   ],
   "source": [
    "knr=KNeighborsRegressor()\n",
    "knr.fit(trainx1,trainy1)\n",
    "knr.score(trainx1,trainy1)"
   ]
  },
  {
   "cell_type": "markdown",
   "id": "a8ea5398",
   "metadata": {},
   "source": [
    "now lets check for the cross validation of the models"
   ]
  },
  {
   "cell_type": "code",
   "execution_count": 131,
   "id": "53fbaf3e",
   "metadata": {},
   "outputs": [],
   "source": [
    "from sklearn.model_selection import cross_val_score\n",
    "pred_test=knr.predict(testx1)\n",
    "pred_train=knr.predict(trainx1)\n"
   ]
  },
  {
   "cell_type": "code",
   "execution_count": 132,
   "id": "02fbc0b6",
   "metadata": {},
   "outputs": [
    {
     "name": "stdout",
     "output_type": "stream",
     "text": [
      "0.9093085013084315\n"
     ]
    }
   ],
   "source": [
    "print(r2_score(testy1,pred_test))"
   ]
  },
  {
   "cell_type": "code",
   "execution_count": 133,
   "id": "278a7f77",
   "metadata": {},
   "outputs": [],
   "source": [
    "train_accuracy=r2_score(trainy1,pred_train)\n",
    "test_accuracy=r2_score(testy1,pred_test)"
   ]
  },
  {
   "cell_type": "code",
   "execution_count": 134,
   "id": "18d35b86",
   "metadata": {},
   "outputs": [
    {
     "name": "stdout",
     "output_type": "stream",
     "text": [
      "at cross fold 2 the cv score is 0.8925549705431413 and accuracy_score for training is 0.9387328310077717 and accuracy score for testing is 0.9093085013084315\n",
      "/n\n",
      "at cross fold 3 the cv score is 0.9124389087847004 and accuracy_score for training is 0.9387328310077717 and accuracy score for testing is 0.9093085013084315\n",
      "/n\n",
      "at cross fold 4 the cv score is 0.8992000879100224 and accuracy_score for training is 0.9387328310077717 and accuracy score for testing is 0.9093085013084315\n",
      "/n\n",
      "at cross fold 5 the cv score is 0.9081539290810768 and accuracy_score for training is 0.9387328310077717 and accuracy score for testing is 0.9093085013084315\n",
      "/n\n",
      "at cross fold 6 the cv score is 0.9117836099192473 and accuracy_score for training is 0.9387328310077717 and accuracy score for testing is 0.9093085013084315\n",
      "/n\n",
      "at cross fold 7 the cv score is 0.9105115023683447 and accuracy_score for training is 0.9387328310077717 and accuracy score for testing is 0.9093085013084315\n",
      "/n\n",
      "at cross fold 8 the cv score is 0.9101883265519866 and accuracy_score for training is 0.9387328310077717 and accuracy score for testing is 0.9093085013084315\n",
      "/n\n",
      "at cross fold 9 the cv score is 0.9103310255942701 and accuracy_score for training is 0.9387328310077717 and accuracy score for testing is 0.9093085013084315\n",
      "/n\n"
     ]
    }
   ],
   "source": [
    "from sklearn.model_selection import cross_val_score\n",
    "for j in range(2,10):\n",
    "    cv_score=cross_val_score(knr,x1,y1,cv=j)\n",
    "    cv_mean=cv_score.mean()\n",
    "    print(f\"at cross fold {j} the cv score is {cv_mean} and accuracy_score for training is {train_accuracy} and accuracy score for testing is {test_accuracy}\")\n",
    "    print(\"/n\")\n"
   ]
  },
  {
   "cell_type": "code",
   "execution_count": 136,
   "id": "6f11e198",
   "metadata": {},
   "outputs": [],
   "source": [
    "from sklearn.model_selection import GridSearchCV"
   ]
  },
  {
   "cell_type": "code",
   "execution_count": 138,
   "id": "5a5eb590",
   "metadata": {},
   "outputs": [],
   "source": [
    "n_neighbors=[1,2,3,4,5]\n",
    "weights=['uniform','distance']\n",
    "algorithm=['auto','ball-tree','kd_tree']\n",
    "leaf_size=[10,20,30,40,50]"
   ]
  },
  {
   "cell_type": "code",
   "execution_count": 139,
   "id": "4c1d26c9",
   "metadata": {},
   "outputs": [],
   "source": [
    "grid_param={'n_neighbors': n_neighbors,\n",
    "           'weights': weights,\n",
    "           'algorithm': algorithm,\n",
    "           'leaf_size': leaf_size}"
   ]
  },
  {
   "cell_type": "code",
   "execution_count": 140,
   "id": "d5548d99",
   "metadata": {},
   "outputs": [
    {
     "name": "stdout",
     "output_type": "stream",
     "text": [
      "{'n_neighbors': [1, 2, 3, 4, 5], 'weights': ['uniform', 'distance'], 'algorithm': ['auto', 'ball-tree', 'kd_tree'], 'leaf_size': [10, 20, 30, 40, 50]}\n"
     ]
    }
   ],
   "source": [
    "print(grid_param)"
   ]
  },
  {
   "cell_type": "code",
   "execution_count": 143,
   "id": "af2a9405",
   "metadata": {},
   "outputs": [],
   "source": [
    "knr=KNeighborsRegressor()\n",
    "knr_grid=GridSearchCV(estimator=knr,param_grid=grid_param)"
   ]
  },
  {
   "cell_type": "code",
   "execution_count": 144,
   "id": "df1de448",
   "metadata": {},
   "outputs": [
    {
     "data": {
      "text/plain": [
       "GridSearchCV(estimator=KNeighborsRegressor(),\n",
       "             param_grid={'algorithm': ['auto', 'ball-tree', 'kd_tree'],\n",
       "                         'leaf_size': [10, 20, 30, 40, 50],\n",
       "                         'n_neighbors': [1, 2, 3, 4, 5],\n",
       "                         'weights': ['uniform', 'distance']})"
      ]
     },
     "execution_count": 144,
     "metadata": {},
     "output_type": "execute_result"
    }
   ],
   "source": [
    "knr_grid.fit(trainx1,trainy1)"
   ]
  },
  {
   "cell_type": "code",
   "execution_count": 145,
   "id": "6c743caa",
   "metadata": {},
   "outputs": [
    {
     "name": "stdout",
     "output_type": "stream",
     "text": [
      "{'algorithm': 'kd_tree', 'leaf_size': 10, 'n_neighbors': 5, 'weights': 'distance'}\n"
     ]
    }
   ],
   "source": [
    "print(knr_grid.best_params_)"
   ]
  },
  {
   "cell_type": "code",
   "execution_count": 146,
   "id": "f719d737",
   "metadata": {},
   "outputs": [
    {
     "data": {
      "text/plain": [
       "KNeighborsRegressor()"
      ]
     },
     "execution_count": 146,
     "metadata": {},
     "output_type": "execute_result"
    }
   ],
   "source": [
    "knr=KNeighborsRegressor(algorithm='kd_tree',leaf_size=10,n_neighbors=5,weights='distance')\n",
    "knr=KNeighborsRegressor()\n",
    "knr.fit(trainx1,trainy1)"
   ]
  },
  {
   "cell_type": "code",
   "execution_count": 147,
   "id": "a4e99a89",
   "metadata": {},
   "outputs": [
    {
     "data": {
      "text/plain": [
       "0.9387328310077717"
      ]
     },
     "execution_count": 147,
     "metadata": {},
     "output_type": "execute_result"
    }
   ],
   "source": [
    "knr.score(trainx1,trainy1)"
   ]
  },
  {
   "cell_type": "code",
   "execution_count": 156,
   "id": "f2a1dfb8",
   "metadata": {},
   "outputs": [],
   "source": [
    "import pickle\n",
    "filename=\"rainpred.pkl\"\n",
    "pickle.dump(knr,open(filename,\"wb\"))"
   ]
  },
  {
   "cell_type": "code",
   "execution_count": null,
   "id": "d067e087",
   "metadata": {},
   "outputs": [],
   "source": []
  },
  {
   "cell_type": "code",
   "execution_count": null,
   "id": "f1742c48",
   "metadata": {},
   "outputs": [],
   "source": []
  }
 ],
 "metadata": {
  "kernelspec": {
   "display_name": "Python 3",
   "language": "python",
   "name": "python3"
  },
  "language_info": {
   "codemirror_mode": {
    "name": "ipython",
    "version": 3
   },
   "file_extension": ".py",
   "mimetype": "text/x-python",
   "name": "python",
   "nbconvert_exporter": "python",
   "pygments_lexer": "ipython3",
   "version": "3.8.8"
  }
 },
 "nbformat": 4,
 "nbformat_minor": 5
}
