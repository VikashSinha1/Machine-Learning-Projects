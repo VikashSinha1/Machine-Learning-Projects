{
 "cells": [
  {
   "cell_type": "code",
   "execution_count": 53,
   "id": "4889592b",
   "metadata": {},
   "outputs": [],
   "source": [
    "import pandas as pd\n",
    "import matplotlib.pyplot as plt\n",
    "import warnings\n",
    "warnings.filterwarnings(\"ignore\")\n",
    "import seaborn as sns\n",
    "from sklearn.preprocessing import LabelEncoder\n",
    "from sklearn.model_selection import train_test_split\n",
    "from sklearn.linear_model import LinearRegression\n",
    "from sklearn.metrics import accuracy_score,classification_report\n",
    "from sklearn.metrics import confusion_matrix\n",
    "from sklearn.metrics import r2_score\n",
    "import numpy as np"
   ]
  },
  {
   "cell_type": "code",
   "execution_count": 54,
   "id": "d7d5cb5b",
   "metadata": {},
   "outputs": [],
   "source": [
    "df=pd.read_csv(\"salaries.csv\")"
   ]
  },
  {
   "cell_type": "code",
   "execution_count": 55,
   "id": "01d9807a",
   "metadata": {},
   "outputs": [
    {
     "data": {
      "text/html": [
       "<div>\n",
       "<style scoped>\n",
       "    .dataframe tbody tr th:only-of-type {\n",
       "        vertical-align: middle;\n",
       "    }\n",
       "\n",
       "    .dataframe tbody tr th {\n",
       "        vertical-align: top;\n",
       "    }\n",
       "\n",
       "    .dataframe thead th {\n",
       "        text-align: right;\n",
       "    }\n",
       "</style>\n",
       "<table border=\"1\" class=\"dataframe\">\n",
       "  <thead>\n",
       "    <tr style=\"text-align: right;\">\n",
       "      <th></th>\n",
       "      <th>rank</th>\n",
       "      <th>discipline</th>\n",
       "      <th>yrs.since.phd</th>\n",
       "      <th>yrs.service</th>\n",
       "      <th>sex</th>\n",
       "      <th>salary</th>\n",
       "    </tr>\n",
       "  </thead>\n",
       "  <tbody>\n",
       "    <tr>\n",
       "      <th>0</th>\n",
       "      <td>Prof</td>\n",
       "      <td>B</td>\n",
       "      <td>19</td>\n",
       "      <td>18</td>\n",
       "      <td>Male</td>\n",
       "      <td>139750</td>\n",
       "    </tr>\n",
       "    <tr>\n",
       "      <th>1</th>\n",
       "      <td>Prof</td>\n",
       "      <td>B</td>\n",
       "      <td>20</td>\n",
       "      <td>16</td>\n",
       "      <td>Male</td>\n",
       "      <td>173200</td>\n",
       "    </tr>\n",
       "    <tr>\n",
       "      <th>2</th>\n",
       "      <td>AsstProf</td>\n",
       "      <td>B</td>\n",
       "      <td>4</td>\n",
       "      <td>3</td>\n",
       "      <td>Male</td>\n",
       "      <td>79750</td>\n",
       "    </tr>\n",
       "    <tr>\n",
       "      <th>3</th>\n",
       "      <td>Prof</td>\n",
       "      <td>B</td>\n",
       "      <td>45</td>\n",
       "      <td>39</td>\n",
       "      <td>Male</td>\n",
       "      <td>115000</td>\n",
       "    </tr>\n",
       "    <tr>\n",
       "      <th>4</th>\n",
       "      <td>Prof</td>\n",
       "      <td>B</td>\n",
       "      <td>40</td>\n",
       "      <td>41</td>\n",
       "      <td>Male</td>\n",
       "      <td>141500</td>\n",
       "    </tr>\n",
       "    <tr>\n",
       "      <th>...</th>\n",
       "      <td>...</td>\n",
       "      <td>...</td>\n",
       "      <td>...</td>\n",
       "      <td>...</td>\n",
       "      <td>...</td>\n",
       "      <td>...</td>\n",
       "    </tr>\n",
       "    <tr>\n",
       "      <th>392</th>\n",
       "      <td>Prof</td>\n",
       "      <td>A</td>\n",
       "      <td>33</td>\n",
       "      <td>30</td>\n",
       "      <td>Male</td>\n",
       "      <td>103106</td>\n",
       "    </tr>\n",
       "    <tr>\n",
       "      <th>393</th>\n",
       "      <td>Prof</td>\n",
       "      <td>A</td>\n",
       "      <td>31</td>\n",
       "      <td>19</td>\n",
       "      <td>Male</td>\n",
       "      <td>150564</td>\n",
       "    </tr>\n",
       "    <tr>\n",
       "      <th>394</th>\n",
       "      <td>Prof</td>\n",
       "      <td>A</td>\n",
       "      <td>42</td>\n",
       "      <td>25</td>\n",
       "      <td>Male</td>\n",
       "      <td>101738</td>\n",
       "    </tr>\n",
       "    <tr>\n",
       "      <th>395</th>\n",
       "      <td>Prof</td>\n",
       "      <td>A</td>\n",
       "      <td>25</td>\n",
       "      <td>15</td>\n",
       "      <td>Male</td>\n",
       "      <td>95329</td>\n",
       "    </tr>\n",
       "    <tr>\n",
       "      <th>396</th>\n",
       "      <td>AsstProf</td>\n",
       "      <td>A</td>\n",
       "      <td>8</td>\n",
       "      <td>4</td>\n",
       "      <td>Male</td>\n",
       "      <td>81035</td>\n",
       "    </tr>\n",
       "  </tbody>\n",
       "</table>\n",
       "<p>397 rows × 6 columns</p>\n",
       "</div>"
      ],
      "text/plain": [
       "         rank discipline  yrs.since.phd  yrs.service   sex  salary\n",
       "0        Prof          B             19           18  Male  139750\n",
       "1        Prof          B             20           16  Male  173200\n",
       "2    AsstProf          B              4            3  Male   79750\n",
       "3        Prof          B             45           39  Male  115000\n",
       "4        Prof          B             40           41  Male  141500\n",
       "..        ...        ...            ...          ...   ...     ...\n",
       "392      Prof          A             33           30  Male  103106\n",
       "393      Prof          A             31           19  Male  150564\n",
       "394      Prof          A             42           25  Male  101738\n",
       "395      Prof          A             25           15  Male   95329\n",
       "396  AsstProf          A              8            4  Male   81035\n",
       "\n",
       "[397 rows x 6 columns]"
      ]
     },
     "execution_count": 55,
     "metadata": {},
     "output_type": "execute_result"
    }
   ],
   "source": [
    "df"
   ]
  },
  {
   "cell_type": "code",
   "execution_count": 56,
   "id": "e21cfc65",
   "metadata": {},
   "outputs": [
    {
     "data": {
      "text/plain": [
       "Index(['rank', 'discipline', 'yrs.since.phd', 'yrs.service', 'sex', 'salary'], dtype='object')"
      ]
     },
     "execution_count": 56,
     "metadata": {},
     "output_type": "execute_result"
    }
   ],
   "source": [
    "df.columns"
   ]
  },
  {
   "cell_type": "code",
   "execution_count": 57,
   "id": "e85ee6bc",
   "metadata": {},
   "outputs": [
    {
     "data": {
      "text/plain": [
       "rank             0\n",
       "discipline       0\n",
       "yrs.since.phd    0\n",
       "yrs.service      0\n",
       "sex              0\n",
       "salary           0\n",
       "dtype: int64"
      ]
     },
     "execution_count": 57,
     "metadata": {},
     "output_type": "execute_result"
    }
   ],
   "source": [
    "df.isnull().sum()"
   ]
  },
  {
   "cell_type": "code",
   "execution_count": 58,
   "id": "b1f13f22",
   "metadata": {},
   "outputs": [
    {
     "data": {
      "text/plain": [
       "<AxesSubplot:xlabel='rank', ylabel='salary'>"
      ]
     },
     "execution_count": 58,
     "metadata": {},
     "output_type": "execute_result"
    },
    {
     "data": {
      "image/png": "[encoded data removed]",
      "text/plain": [
       "<Figure size 432x288 with 1 Axes>"
      ]
     },
     "metadata": {
      "needs_background": "light"
     },
     "output_type": "display_data"
    }
   ],
   "source": [
    "sns.scatterplot(x='rank',y='salary',data=df)"
   ]
  },
  {
   "cell_type": "code",
   "execution_count": 59,
   "id": "f124b0eb",
   "metadata": {},
   "outputs": [
    {
     "data": {
      "text/plain": [
       "<AxesSubplot:xlabel='discipline', ylabel='salary'>"
      ]
     },
     "execution_count": 59,
     "metadata": {},
     "output_type": "execute_result"
    },
    {
     "data": {
      "image/png": "[encoded data removed]",
      "text/plain": [
       "<Figure size 432x288 with 1 Axes>"
      ]
     },
     "metadata": {
      "needs_background": "light"
     },
     "output_type": "display_data"
    }
   ],
   "source": [
    "sns.scatterplot(x='discipline',y='salary',data=df)\n"
   ]
  },
  {
   "cell_type": "code",
   "execution_count": 60,
   "id": "d25a879b",
   "metadata": {},
   "outputs": [
    {
     "data": {
      "text/plain": [
       "<AxesSubplot:xlabel='yrs.since.phd', ylabel='salary'>"
      ]
     },
     "execution_count": 60,
     "metadata": {},
     "output_type": "execute_result"
    },
    {
     "data": {
      "image/png": "[encoded data removed]",
      "text/plain": [
       "<Figure size 432x288 with 1 Axes>"
      ]
     },
     "metadata": {
      "needs_background": "light"
     },
     "output_type": "display_data"
    }
   ],
   "source": [
    "sns.scatterplot(x='yrs.since.phd',y='salary',data=df)"
   ]
  },
  {
   "cell_type": "code",
   "execution_count": 61,
   "id": "d42a8cac",
   "metadata": {},
   "outputs": [
    {
     "data": {
      "text/plain": [
       "<AxesSubplot:xlabel='yrs.service', ylabel='salary'>"
      ]
     },
     "execution_count": 61,
     "metadata": {},
     "output_type": "execute_result"
    },
    {
     "data": {
      "image/png": "[encoded data removed]",
      "text/plain": [
       "<Figure size 432x288 with 1 Axes>"
      ]
     },
     "metadata": {
      "needs_background": "light"
     },
     "output_type": "display_data"
    }
   ],
   "source": [
    "sns.scatterplot(x='yrs.service',y='salary',data=df)"
   ]
  },
  {
   "cell_type": "code",
   "execution_count": 62,
   "id": "2e587d64",
   "metadata": {},
   "outputs": [
    {
     "data": {
      "text/html": [
       "<div>\n",
       "<style scoped>\n",
       "    .dataframe tbody tr th:only-of-type {\n",
       "        vertical-align: middle;\n",
       "    }\n",
       "\n",
       "    .dataframe tbody tr th {\n",
       "        vertical-align: top;\n",
       "    }\n",
       "\n",
       "    .dataframe thead th {\n",
       "        text-align: right;\n",
       "    }\n",
       "</style>\n",
       "<table border=\"1\" class=\"dataframe\">\n",
       "  <thead>\n",
       "    <tr style=\"text-align: right;\">\n",
       "      <th></th>\n",
       "      <th>rank</th>\n",
       "      <th>discipline</th>\n",
       "      <th>yrs.since.phd</th>\n",
       "      <th>yrs.service</th>\n",
       "      <th>sex</th>\n",
       "      <th>salary</th>\n",
       "    </tr>\n",
       "  </thead>\n",
       "  <tbody>\n",
       "    <tr>\n",
       "      <th>0</th>\n",
       "      <td>2</td>\n",
       "      <td>1</td>\n",
       "      <td>19</td>\n",
       "      <td>18</td>\n",
       "      <td>1</td>\n",
       "      <td>139750</td>\n",
       "    </tr>\n",
       "    <tr>\n",
       "      <th>1</th>\n",
       "      <td>2</td>\n",
       "      <td>1</td>\n",
       "      <td>20</td>\n",
       "      <td>16</td>\n",
       "      <td>1</td>\n",
       "      <td>173200</td>\n",
       "    </tr>\n",
       "    <tr>\n",
       "      <th>2</th>\n",
       "      <td>1</td>\n",
       "      <td>1</td>\n",
       "      <td>4</td>\n",
       "      <td>3</td>\n",
       "      <td>1</td>\n",
       "      <td>79750</td>\n",
       "    </tr>\n",
       "    <tr>\n",
       "      <th>3</th>\n",
       "      <td>2</td>\n",
       "      <td>1</td>\n",
       "      <td>45</td>\n",
       "      <td>39</td>\n",
       "      <td>1</td>\n",
       "      <td>115000</td>\n",
       "    </tr>\n",
       "    <tr>\n",
       "      <th>4</th>\n",
       "      <td>2</td>\n",
       "      <td>1</td>\n",
       "      <td>40</td>\n",
       "      <td>41</td>\n",
       "      <td>1</td>\n",
       "      <td>141500</td>\n",
       "    </tr>\n",
       "    <tr>\n",
       "      <th>...</th>\n",
       "      <td>...</td>\n",
       "      <td>...</td>\n",
       "      <td>...</td>\n",
       "      <td>...</td>\n",
       "      <td>...</td>\n",
       "      <td>...</td>\n",
       "    </tr>\n",
       "    <tr>\n",
       "      <th>392</th>\n",
       "      <td>2</td>\n",
       "      <td>0</td>\n",
       "      <td>33</td>\n",
       "      <td>30</td>\n",
       "      <td>1</td>\n",
       "      <td>103106</td>\n",
       "    </tr>\n",
       "    <tr>\n",
       "      <th>393</th>\n",
       "      <td>2</td>\n",
       "      <td>0</td>\n",
       "      <td>31</td>\n",
       "      <td>19</td>\n",
       "      <td>1</td>\n",
       "      <td>150564</td>\n",
       "    </tr>\n",
       "    <tr>\n",
       "      <th>394</th>\n",
       "      <td>2</td>\n",
       "      <td>0</td>\n",
       "      <td>42</td>\n",
       "      <td>25</td>\n",
       "      <td>1</td>\n",
       "      <td>101738</td>\n",
       "    </tr>\n",
       "    <tr>\n",
       "      <th>395</th>\n",
       "      <td>2</td>\n",
       "      <td>0</td>\n",
       "      <td>25</td>\n",
       "      <td>15</td>\n",
       "      <td>1</td>\n",
       "      <td>95329</td>\n",
       "    </tr>\n",
       "    <tr>\n",
       "      <th>396</th>\n",
       "      <td>1</td>\n",
       "      <td>0</td>\n",
       "      <td>8</td>\n",
       "      <td>4</td>\n",
       "      <td>1</td>\n",
       "      <td>81035</td>\n",
       "    </tr>\n",
       "  </tbody>\n",
       "</table>\n",
       "<p>397 rows × 6 columns</p>\n",
       "</div>"
      ],
      "text/plain": [
       "     rank  discipline  yrs.since.phd  yrs.service  sex  salary\n",
       "0       2           1             19           18    1  139750\n",
       "1       2           1             20           16    1  173200\n",
       "2       1           1              4            3    1   79750\n",
       "3       2           1             45           39    1  115000\n",
       "4       2           1             40           41    1  141500\n",
       "..    ...         ...            ...          ...  ...     ...\n",
       "392     2           0             33           30    1  103106\n",
       "393     2           0             31           19    1  150564\n",
       "394     2           0             42           25    1  101738\n",
       "395     2           0             25           15    1   95329\n",
       "396     1           0              8            4    1   81035\n",
       "\n",
       "[397 rows x 6 columns]"
      ]
     },
     "execution_count": 62,
     "metadata": {},
     "output_type": "execute_result"
    }
   ],
   "source": [
    "le=LabelEncoder()\n",
    "list1=['rank','sex','discipline']\n",
    "for val in list1:\n",
    "    df[val]=le.fit_transform(df[val])\n",
    "df"
   ]
  },
  {
   "cell_type": "code",
   "execution_count": 63,
   "id": "79f846f6",
   "metadata": {},
   "outputs": [
    {
     "data": {
      "text/html": [
       "<div>\n",
       "<style scoped>\n",
       "    .dataframe tbody tr th:only-of-type {\n",
       "        vertical-align: middle;\n",
       "    }\n",
       "\n",
       "    .dataframe tbody tr th {\n",
       "        vertical-align: top;\n",
       "    }\n",
       "\n",
       "    .dataframe thead th {\n",
       "        text-align: right;\n",
       "    }\n",
       "</style>\n",
       "<table border=\"1\" class=\"dataframe\">\n",
       "  <thead>\n",
       "    <tr style=\"text-align: right;\">\n",
       "      <th></th>\n",
       "      <th>rank</th>\n",
       "      <th>discipline</th>\n",
       "      <th>yrs.since.phd</th>\n",
       "      <th>yrs.service</th>\n",
       "      <th>sex</th>\n",
       "      <th>salary</th>\n",
       "    </tr>\n",
       "  </thead>\n",
       "  <tbody>\n",
       "    <tr>\n",
       "      <th>rank</th>\n",
       "      <td>1.000000</td>\n",
       "      <td>-0.086266</td>\n",
       "      <td>0.525500</td>\n",
       "      <td>0.447499</td>\n",
       "      <td>0.132492</td>\n",
       "      <td>0.522207</td>\n",
       "    </tr>\n",
       "    <tr>\n",
       "      <th>discipline</th>\n",
       "      <td>-0.086266</td>\n",
       "      <td>1.000000</td>\n",
       "      <td>-0.218087</td>\n",
       "      <td>-0.164599</td>\n",
       "      <td>0.003724</td>\n",
       "      <td>0.156084</td>\n",
       "    </tr>\n",
       "    <tr>\n",
       "      <th>yrs.since.phd</th>\n",
       "      <td>0.525500</td>\n",
       "      <td>-0.218087</td>\n",
       "      <td>1.000000</td>\n",
       "      <td>0.909649</td>\n",
       "      <td>0.148788</td>\n",
       "      <td>0.419231</td>\n",
       "    </tr>\n",
       "    <tr>\n",
       "      <th>yrs.service</th>\n",
       "      <td>0.447499</td>\n",
       "      <td>-0.164599</td>\n",
       "      <td>0.909649</td>\n",
       "      <td>1.000000</td>\n",
       "      <td>0.153740</td>\n",
       "      <td>0.334745</td>\n",
       "    </tr>\n",
       "    <tr>\n",
       "      <th>sex</th>\n",
       "      <td>0.132492</td>\n",
       "      <td>0.003724</td>\n",
       "      <td>0.148788</td>\n",
       "      <td>0.153740</td>\n",
       "      <td>1.000000</td>\n",
       "      <td>0.138610</td>\n",
       "    </tr>\n",
       "    <tr>\n",
       "      <th>salary</th>\n",
       "      <td>0.522207</td>\n",
       "      <td>0.156084</td>\n",
       "      <td>0.419231</td>\n",
       "      <td>0.334745</td>\n",
       "      <td>0.138610</td>\n",
       "      <td>1.000000</td>\n",
       "    </tr>\n",
       "  </tbody>\n",
       "</table>\n",
       "</div>"
      ],
      "text/plain": [
       "                   rank  discipline  yrs.since.phd  yrs.service       sex  \\\n",
       "rank           1.000000   -0.086266       0.525500     0.447499  0.132492   \n",
       "discipline    -0.086266    1.000000      -0.218087    -0.164599  0.003724   \n",
       "yrs.since.phd  0.525500   -0.218087       1.000000     0.909649  0.148788   \n",
       "yrs.service    0.447499   -0.164599       0.909649     1.000000  0.153740   \n",
       "sex            0.132492    0.003724       0.148788     0.153740  1.000000   \n",
       "salary         0.522207    0.156084       0.419231     0.334745  0.138610   \n",
       "\n",
       "                 salary  \n",
       "rank           0.522207  \n",
       "discipline     0.156084  \n",
       "yrs.since.phd  0.419231  \n",
       "yrs.service    0.334745  \n",
       "sex            0.138610  \n",
       "salary         1.000000  "
      ]
     },
     "execution_count": 63,
     "metadata": {},
     "output_type": "execute_result"
    }
   ],
   "source": [
    "df.corr()"
   ]
  },
  {
   "cell_type": "code",
   "execution_count": 64,
   "id": "ef8d9708",
   "metadata": {},
   "outputs": [
    {
     "data": {
      "text/plain": [
       "<AxesSubplot:>"
      ]
     },
     "execution_count": 64,
     "metadata": {},
     "output_type": "execute_result"
    },
    {
     "data": {
      "image/png": "[encoded data removed]",
      "text/plain": [
       "<Figure size 432x288 with 2 Axes>"
      ]
     },
     "metadata": {
      "needs_background": "light"
     },
     "output_type": "display_data"
    }
   ],
   "source": [
    "sns.heatmap(df.corr(),annot=True)"
   ]
  },
  {
   "cell_type": "code",
   "execution_count": 65,
   "id": "1c2461ec",
   "metadata": {},
   "outputs": [
    {
     "data": {
      "text/html": [
       "<div>\n",
       "<style scoped>\n",
       "    .dataframe tbody tr th:only-of-type {\n",
       "        vertical-align: middle;\n",
       "    }\n",
       "\n",
       "    .dataframe tbody tr th {\n",
       "        vertical-align: top;\n",
       "    }\n",
       "\n",
       "    .dataframe thead th {\n",
       "        text-align: right;\n",
       "    }\n",
       "</style>\n",
       "<table border=\"1\" class=\"dataframe\">\n",
       "  <thead>\n",
       "    <tr style=\"text-align: right;\">\n",
       "      <th></th>\n",
       "      <th>rank</th>\n",
       "      <th>discipline</th>\n",
       "      <th>yrs.since.phd</th>\n",
       "      <th>yrs.service</th>\n",
       "      <th>sex</th>\n",
       "      <th>salary</th>\n",
       "    </tr>\n",
       "  </thead>\n",
       "  <tbody>\n",
       "    <tr>\n",
       "      <th>count</th>\n",
       "      <td>397.000000</td>\n",
       "      <td>397.000000</td>\n",
       "      <td>397.000000</td>\n",
       "      <td>397.000000</td>\n",
       "      <td>397.000000</td>\n",
       "      <td>397.000000</td>\n",
       "    </tr>\n",
       "    <tr>\n",
       "      <th>mean</th>\n",
       "      <td>1.508816</td>\n",
       "      <td>0.544081</td>\n",
       "      <td>22.314861</td>\n",
       "      <td>17.614610</td>\n",
       "      <td>0.901763</td>\n",
       "      <td>113706.458438</td>\n",
       "    </tr>\n",
       "    <tr>\n",
       "      <th>std</th>\n",
       "      <td>0.757486</td>\n",
       "      <td>0.498682</td>\n",
       "      <td>12.887003</td>\n",
       "      <td>13.006024</td>\n",
       "      <td>0.298010</td>\n",
       "      <td>30289.038695</td>\n",
       "    </tr>\n",
       "    <tr>\n",
       "      <th>min</th>\n",
       "      <td>0.000000</td>\n",
       "      <td>0.000000</td>\n",
       "      <td>1.000000</td>\n",
       "      <td>0.000000</td>\n",
       "      <td>0.000000</td>\n",
       "      <td>57800.000000</td>\n",
       "    </tr>\n",
       "    <tr>\n",
       "      <th>25%</th>\n",
       "      <td>1.000000</td>\n",
       "      <td>0.000000</td>\n",
       "      <td>12.000000</td>\n",
       "      <td>7.000000</td>\n",
       "      <td>1.000000</td>\n",
       "      <td>91000.000000</td>\n",
       "    </tr>\n",
       "    <tr>\n",
       "      <th>50%</th>\n",
       "      <td>2.000000</td>\n",
       "      <td>1.000000</td>\n",
       "      <td>21.000000</td>\n",
       "      <td>16.000000</td>\n",
       "      <td>1.000000</td>\n",
       "      <td>107300.000000</td>\n",
       "    </tr>\n",
       "    <tr>\n",
       "      <th>75%</th>\n",
       "      <td>2.000000</td>\n",
       "      <td>1.000000</td>\n",
       "      <td>32.000000</td>\n",
       "      <td>27.000000</td>\n",
       "      <td>1.000000</td>\n",
       "      <td>134185.000000</td>\n",
       "    </tr>\n",
       "    <tr>\n",
       "      <th>max</th>\n",
       "      <td>2.000000</td>\n",
       "      <td>1.000000</td>\n",
       "      <td>56.000000</td>\n",
       "      <td>60.000000</td>\n",
       "      <td>1.000000</td>\n",
       "      <td>231545.000000</td>\n",
       "    </tr>\n",
       "  </tbody>\n",
       "</table>\n",
       "</div>"
      ],
      "text/plain": [
       "             rank  discipline  yrs.since.phd  yrs.service         sex  \\\n",
       "count  397.000000  397.000000     397.000000   397.000000  397.000000   \n",
       "mean     1.508816    0.544081      22.314861    17.614610    0.901763   \n",
       "std      0.757486    0.498682      12.887003    13.006024    0.298010   \n",
       "min      0.000000    0.000000       1.000000     0.000000    0.000000   \n",
       "25%      1.000000    0.000000      12.000000     7.000000    1.000000   \n",
       "50%      2.000000    1.000000      21.000000    16.000000    1.000000   \n",
       "75%      2.000000    1.000000      32.000000    27.000000    1.000000   \n",
       "max      2.000000    1.000000      56.000000    60.000000    1.000000   \n",
       "\n",
       "              salary  \n",
       "count     397.000000  \n",
       "mean   113706.458438  \n",
       "std     30289.038695  \n",
       "min     57800.000000  \n",
       "25%     91000.000000  \n",
       "50%    107300.000000  \n",
       "75%    134185.000000  \n",
       "max    231545.000000  "
      ]
     },
     "execution_count": 65,
     "metadata": {},
     "output_type": "execute_result"
    }
   ],
   "source": [
    "df.describe()"
   ]
  },
  {
   "cell_type": "code",
   "execution_count": 66,
   "id": "660757ef",
   "metadata": {},
   "outputs": [
    {
     "name": "stdout",
     "output_type": "stream",
     "text": [
      "<class 'pandas.core.frame.DataFrame'>\n",
      "RangeIndex: 397 entries, 0 to 396\n",
      "Data columns (total 6 columns):\n",
      " #   Column         Non-Null Count  Dtype\n",
      "---  ------         --------------  -----\n",
      " 0   rank           397 non-null    int32\n",
      " 1   discipline     397 non-null    int32\n",
      " 2   yrs.since.phd  397 non-null    int64\n",
      " 3   yrs.service    397 non-null    int64\n",
      " 4   sex            397 non-null    int32\n",
      " 5   salary         397 non-null    int64\n",
      "dtypes: int32(3), int64(3)\n",
      "memory usage: 14.1 KB\n"
     ]
    }
   ],
   "source": [
    "df.info()"
   ]
  },
  {
   "cell_type": "code",
   "execution_count": 67,
   "id": "66325285",
   "metadata": {},
   "outputs": [
    {
     "data": {
      "text/plain": [
       "<AxesSubplot:>"
      ]
     },
     "execution_count": 67,
     "metadata": {},
     "output_type": "execute_result"
    },
    {
     "data": {
      "image/png": "[encoded data removed]",
      "text/plain": [
       "<Figure size 432x288 with 1 Axes>"
      ]
     },
     "metadata": {
      "needs_background": "light"
     },
     "output_type": "display_data"
    }
   ],
   "source": [
    "df['yrs.since.phd'].plot.box()"
   ]
  },
  {
   "cell_type": "code",
   "execution_count": 68,
   "id": "3d6bda6f",
   "metadata": {},
   "outputs": [
    {
     "data": {
      "text/plain": [
       "<AxesSubplot:>"
      ]
     },
     "execution_count": 68,
     "metadata": {},
     "output_type": "execute_result"
    },
    {
     "data": {
      "image/png": "[encoded data removed]",
      "text/plain": [
       "<Figure size 432x288 with 1 Axes>"
      ]
     },
     "metadata": {
      "needs_background": "light"
     },
     "output_type": "display_data"
    }
   ],
   "source": [
    "df['yrs.service'].plot.box()"
   ]
  },
  {
   "cell_type": "code",
   "execution_count": 69,
   "id": "3dd7ab15",
   "metadata": {},
   "outputs": [
    {
     "data": {
      "text/plain": [
       "rank            -1.151164\n",
       "discipline      -0.177684\n",
       "yrs.since.phd    0.300880\n",
       "yrs.service      0.650569\n",
       "sex             -2.709958\n",
       "salary           0.714568\n",
       "dtype: float64"
      ]
     },
     "execution_count": 69,
     "metadata": {},
     "output_type": "execute_result"
    }
   ],
   "source": [
    "df.skew()"
   ]
  },
  {
   "cell_type": "code",
   "execution_count": 70,
   "id": "a1160dfe",
   "metadata": {},
   "outputs": [],
   "source": [
    "import numpy as np\n"
   ]
  },
  {
   "cell_type": "code",
   "execution_count": 71,
   "id": "1c7f7444",
   "metadata": {},
   "outputs": [],
   "source": [
    "df.drop(['sex','discipline'],axis=1,inplace=True)"
   ]
  },
  {
   "cell_type": "markdown",
   "id": "caaef64e",
   "metadata": {},
   "source": [
    "since 'sex' and discipline has to do almost nothing with the salary so we are droping it"
   ]
  },
  {
   "cell_type": "code",
   "execution_count": 72,
   "id": "f3c97dff",
   "metadata": {},
   "outputs": [
    {
     "data": {
      "text/html": [
       "<div>\n",
       "<style scoped>\n",
       "    .dataframe tbody tr th:only-of-type {\n",
       "        vertical-align: middle;\n",
       "    }\n",
       "\n",
       "    .dataframe tbody tr th {\n",
       "        vertical-align: top;\n",
       "    }\n",
       "\n",
       "    .dataframe thead th {\n",
       "        text-align: right;\n",
       "    }\n",
       "</style>\n",
       "<table border=\"1\" class=\"dataframe\">\n",
       "  <thead>\n",
       "    <tr style=\"text-align: right;\">\n",
       "      <th></th>\n",
       "      <th>rank</th>\n",
       "      <th>yrs.since.phd</th>\n",
       "      <th>yrs.service</th>\n",
       "      <th>salary</th>\n",
       "    </tr>\n",
       "  </thead>\n",
       "  <tbody>\n",
       "    <tr>\n",
       "      <th>0</th>\n",
       "      <td>2</td>\n",
       "      <td>19</td>\n",
       "      <td>18</td>\n",
       "      <td>139750</td>\n",
       "    </tr>\n",
       "    <tr>\n",
       "      <th>1</th>\n",
       "      <td>2</td>\n",
       "      <td>20</td>\n",
       "      <td>16</td>\n",
       "      <td>173200</td>\n",
       "    </tr>\n",
       "    <tr>\n",
       "      <th>2</th>\n",
       "      <td>1</td>\n",
       "      <td>4</td>\n",
       "      <td>3</td>\n",
       "      <td>79750</td>\n",
       "    </tr>\n",
       "    <tr>\n",
       "      <th>3</th>\n",
       "      <td>2</td>\n",
       "      <td>45</td>\n",
       "      <td>39</td>\n",
       "      <td>115000</td>\n",
       "    </tr>\n",
       "    <tr>\n",
       "      <th>4</th>\n",
       "      <td>2</td>\n",
       "      <td>40</td>\n",
       "      <td>41</td>\n",
       "      <td>141500</td>\n",
       "    </tr>\n",
       "    <tr>\n",
       "      <th>...</th>\n",
       "      <td>...</td>\n",
       "      <td>...</td>\n",
       "      <td>...</td>\n",
       "      <td>...</td>\n",
       "    </tr>\n",
       "    <tr>\n",
       "      <th>392</th>\n",
       "      <td>2</td>\n",
       "      <td>33</td>\n",
       "      <td>30</td>\n",
       "      <td>103106</td>\n",
       "    </tr>\n",
       "    <tr>\n",
       "      <th>393</th>\n",
       "      <td>2</td>\n",
       "      <td>31</td>\n",
       "      <td>19</td>\n",
       "      <td>150564</td>\n",
       "    </tr>\n",
       "    <tr>\n",
       "      <th>394</th>\n",
       "      <td>2</td>\n",
       "      <td>42</td>\n",
       "      <td>25</td>\n",
       "      <td>101738</td>\n",
       "    </tr>\n",
       "    <tr>\n",
       "      <th>395</th>\n",
       "      <td>2</td>\n",
       "      <td>25</td>\n",
       "      <td>15</td>\n",
       "      <td>95329</td>\n",
       "    </tr>\n",
       "    <tr>\n",
       "      <th>396</th>\n",
       "      <td>1</td>\n",
       "      <td>8</td>\n",
       "      <td>4</td>\n",
       "      <td>81035</td>\n",
       "    </tr>\n",
       "  </tbody>\n",
       "</table>\n",
       "<p>397 rows × 4 columns</p>\n",
       "</div>"
      ],
      "text/plain": [
       "     rank  yrs.since.phd  yrs.service  salary\n",
       "0       2             19           18  139750\n",
       "1       2             20           16  173200\n",
       "2       1              4            3   79750\n",
       "3       2             45           39  115000\n",
       "4       2             40           41  141500\n",
       "..    ...            ...          ...     ...\n",
       "392     2             33           30  103106\n",
       "393     2             31           19  150564\n",
       "394     2             42           25  101738\n",
       "395     2             25           15   95329\n",
       "396     1              8            4   81035\n",
       "\n",
       "[397 rows x 4 columns]"
      ]
     },
     "execution_count": 72,
     "metadata": {},
     "output_type": "execute_result"
    }
   ],
   "source": [
    "df"
   ]
  },
  {
   "cell_type": "code",
   "execution_count": 73,
   "id": "afea809a",
   "metadata": {},
   "outputs": [
    {
     "data": {
      "text/plain": [
       "(397, 4)"
      ]
     },
     "execution_count": 73,
     "metadata": {},
     "output_type": "execute_result"
    }
   ],
   "source": [
    "from scipy.stats import zscore\n",
    "z=np.abs(zscore(df))\n",
    "z.shape"
   ]
  },
  {
   "cell_type": "code",
   "execution_count": 74,
   "id": "72a41c30",
   "metadata": {},
   "outputs": [
    {
     "name": "stdout",
     "output_type": "stream",
     "text": [
      "(array([ 43, 131, 330, 364], dtype=int64), array([3, 2, 2, 3], dtype=int64))\n"
     ]
    }
   ],
   "source": [
    "threshold=3\n",
    "print(np.where(z>3))"
   ]
  },
  {
   "cell_type": "code",
   "execution_count": 75,
   "id": "f2e30245",
   "metadata": {},
   "outputs": [
    {
     "data": {
      "text/plain": [
       "(393, 4)"
      ]
     },
     "execution_count": 75,
     "metadata": {},
     "output_type": "execute_result"
    }
   ],
   "source": [
    "new_df=df[(z<3).all(axis=1)]\n",
    "new_df.shape"
   ]
  },
  {
   "cell_type": "code",
   "execution_count": 76,
   "id": "b082de55",
   "metadata": {},
   "outputs": [],
   "source": [
    "lr=LinearRegression()"
   ]
  },
  {
   "cell_type": "code",
   "execution_count": 77,
   "id": "7f08a752",
   "metadata": {},
   "outputs": [
    {
     "data": {
      "text/plain": [
       "LinearRegression()"
      ]
     },
     "execution_count": 77,
     "metadata": {},
     "output_type": "execute_result"
    }
   ],
   "source": [
    "lr.fit(x_train,y_train)"
   ]
  },
  {
   "cell_type": "code",
   "execution_count": 78,
   "id": "cf2f38f7",
   "metadata": {},
   "outputs": [
    {
     "data": {
      "text/plain": [
       "0.1949039625788217"
      ]
     },
     "execution_count": 78,
     "metadata": {},
     "output_type": "execute_result"
    }
   ],
   "source": [
    "lr.score(x_train,y_train)"
   ]
  },
  {
   "cell_type": "code",
   "execution_count": null,
   "id": "adc0db23",
   "metadata": {},
   "outputs": [],
   "source": []
  },
  {
   "cell_type": "code",
   "execution_count": 79,
   "id": "a3a303bd",
   "metadata": {},
   "outputs": [
    {
     "data": {
      "text/html": [
       "<div>\n",
       "<style scoped>\n",
       "    .dataframe tbody tr th:only-of-type {\n",
       "        vertical-align: middle;\n",
       "    }\n",
       "\n",
       "    .dataframe tbody tr th {\n",
       "        vertical-align: top;\n",
       "    }\n",
       "\n",
       "    .dataframe thead th {\n",
       "        text-align: right;\n",
       "    }\n",
       "</style>\n",
       "<table border=\"1\" class=\"dataframe\">\n",
       "  <thead>\n",
       "    <tr style=\"text-align: right;\">\n",
       "      <th></th>\n",
       "      <th>yrs.since.phd</th>\n",
       "      <th>yrs.service</th>\n",
       "    </tr>\n",
       "  </thead>\n",
       "  <tbody>\n",
       "    <tr>\n",
       "      <th>0</th>\n",
       "      <td>19</td>\n",
       "      <td>18</td>\n",
       "    </tr>\n",
       "    <tr>\n",
       "      <th>1</th>\n",
       "      <td>20</td>\n",
       "      <td>16</td>\n",
       "    </tr>\n",
       "    <tr>\n",
       "      <th>2</th>\n",
       "      <td>4</td>\n",
       "      <td>3</td>\n",
       "    </tr>\n",
       "    <tr>\n",
       "      <th>3</th>\n",
       "      <td>45</td>\n",
       "      <td>39</td>\n",
       "    </tr>\n",
       "    <tr>\n",
       "      <th>4</th>\n",
       "      <td>40</td>\n",
       "      <td>41</td>\n",
       "    </tr>\n",
       "    <tr>\n",
       "      <th>...</th>\n",
       "      <td>...</td>\n",
       "      <td>...</td>\n",
       "    </tr>\n",
       "    <tr>\n",
       "      <th>392</th>\n",
       "      <td>33</td>\n",
       "      <td>30</td>\n",
       "    </tr>\n",
       "    <tr>\n",
       "      <th>393</th>\n",
       "      <td>31</td>\n",
       "      <td>19</td>\n",
       "    </tr>\n",
       "    <tr>\n",
       "      <th>394</th>\n",
       "      <td>42</td>\n",
       "      <td>25</td>\n",
       "    </tr>\n",
       "    <tr>\n",
       "      <th>395</th>\n",
       "      <td>25</td>\n",
       "      <td>15</td>\n",
       "    </tr>\n",
       "    <tr>\n",
       "      <th>396</th>\n",
       "      <td>8</td>\n",
       "      <td>4</td>\n",
       "    </tr>\n",
       "  </tbody>\n",
       "</table>\n",
       "<p>393 rows × 2 columns</p>\n",
       "</div>"
      ],
      "text/plain": [
       "     yrs.since.phd  yrs.service\n",
       "0               19           18\n",
       "1               20           16\n",
       "2                4            3\n",
       "3               45           39\n",
       "4               40           41\n",
       "..             ...          ...\n",
       "392             33           30\n",
       "393             31           19\n",
       "394             42           25\n",
       "395             25           15\n",
       "396              8            4\n",
       "\n",
       "[393 rows x 2 columns]"
      ]
     },
     "execution_count": 79,
     "metadata": {},
     "output_type": "execute_result"
    }
   ],
   "source": [
    "x=new_df.iloc[:,1:3]\n",
    "x"
   ]
  },
  {
   "cell_type": "code",
   "execution_count": 80,
   "id": "010fdcb7",
   "metadata": {},
   "outputs": [
    {
     "data": {
      "text/plain": [
       "0      139750\n",
       "1      173200\n",
       "2       79750\n",
       "3      115000\n",
       "4      141500\n",
       "        ...  \n",
       "392    103106\n",
       "393    150564\n",
       "394    101738\n",
       "395     95329\n",
       "396     81035\n",
       "Name: salary, Length: 393, dtype: int64"
      ]
     },
     "execution_count": 80,
     "metadata": {},
     "output_type": "execute_result"
    }
   ],
   "source": [
    "y=new_df.iloc[:,-1]\n",
    "y"
   ]
  },
  {
   "cell_type": "code",
   "execution_count": 81,
   "id": "d0d462cf",
   "metadata": {},
   "outputs": [
    {
     "name": "stdout",
     "output_type": "stream",
     "text": [
      "at random state 0, the training accuracy is:- 0.1949039625788217\n",
      "at random state0, the testing scoree is:-0.1817066884265548\n",
      "\n",
      "\n",
      "at random state 1, the training accuracy is:- 0.1797887112515817\n",
      "at random state1, the testing scoree is:-0.23236984125338578\n",
      "\n",
      "\n",
      "at random state 2, the training accuracy is:- 0.17823329094291185\n",
      "at random state2, the testing scoree is:-0.2579176204691541\n",
      "\n",
      "\n",
      "at random state 3, the training accuracy is:- 0.1978948992918238\n",
      "at random state3, the testing scoree is:-0.16791309949052147\n",
      "\n",
      "\n",
      "at random state 4, the training accuracy is:- 0.21014929700554064\n",
      "at random state4, the testing scoree is:-0.0968725117622602\n",
      "\n",
      "\n",
      "at random state 5, the training accuracy is:- 0.16689281863787608\n",
      "at random state5, the testing scoree is:-0.2885171203509864\n",
      "\n",
      "\n",
      "at random state 6, the training accuracy is:- 0.1969982007453348\n",
      "at random state6, the testing scoree is:-0.1540496856638277\n",
      "\n",
      "\n",
      "at random state 7, the training accuracy is:- 0.18382732346156827\n",
      "at random state7, the testing scoree is:-0.19817531944714672\n",
      "\n",
      "\n",
      "at random state 8, the training accuracy is:- 0.16153318884993662\n",
      "at random state8, the testing scoree is:-0.31727340343253596\n",
      "\n",
      "\n",
      "at random state 9, the training accuracy is:- 0.19884286724908318\n",
      "at random state9, the testing scoree is:-0.16180768117874889\n",
      "\n",
      "\n",
      "at random state 10, the training accuracy is:- 0.18674456539272544\n",
      "at random state10, the testing scoree is:-0.2095398675204051\n",
      "\n",
      "\n",
      "at random state 11, the training accuracy is:- 0.1573807918759602\n",
      "at random state11, the testing scoree is:-0.33193643716473786\n",
      "\n",
      "\n",
      "at random state 12, the training accuracy is:- 0.23393282970729057\n",
      "at random state12, the testing scoree is:-0.05556800135064188\n",
      "\n",
      "\n",
      "at random state 13, the training accuracy is:- 0.16660551227715148\n",
      "at random state13, the testing scoree is:-0.273296876529018\n",
      "\n",
      "\n",
      "at random state 14, the training accuracy is:- 0.22702655654728032\n",
      "at random state14, the testing scoree is:-0.05104813533666519\n",
      "\n",
      "\n",
      "at random state 15, the training accuracy is:- 0.17953182676967605\n",
      "at random state15, the testing scoree is:-0.2289172408658986\n",
      "\n",
      "\n",
      "at random state 16, the training accuracy is:- 0.19408808716898074\n",
      "at random state16, the testing scoree is:-0.166148527849182\n",
      "\n",
      "\n",
      "at random state 17, the training accuracy is:- 0.17472068346244385\n",
      "at random state17, the testing scoree is:-0.2624062786458782\n",
      "\n",
      "\n",
      "at random state 18, the training accuracy is:- 0.25474716645553974\n",
      "at random state18, the testing scoree is:--0.05105572816622783\n",
      "\n",
      "\n",
      "at random state 19, the training accuracy is:- 0.18169213062917433\n",
      "at random state19, the testing scoree is:-0.17177667779205852\n",
      "\n",
      "\n",
      "at random state 20, the training accuracy is:- 0.1762009177886379\n",
      "at random state20, the testing scoree is:-0.23927476414178261\n",
      "\n",
      "\n",
      "at random state 21, the training accuracy is:- 0.21558799690048347\n",
      "at random state21, the testing scoree is:-0.06657254487309705\n",
      "\n",
      "\n",
      "at random state 22, the training accuracy is:- 0.23592603012919022\n",
      "at random state22, the testing scoree is:-0.019273053678453222\n",
      "\n",
      "\n",
      "at random state 23, the training accuracy is:- 0.19471039580229765\n",
      "at random state23, the testing scoree is:-0.17326891780124576\n",
      "\n",
      "\n",
      "at random state 24, the training accuracy is:- 0.17611225349340187\n",
      "at random state24, the testing scoree is:-0.24925356358394035\n",
      "\n",
      "\n",
      "at random state 25, the training accuracy is:- 0.24218638617116073\n",
      "at random state25, the testing scoree is:--0.14832561154649748\n",
      "\n",
      "\n",
      "at random state 26, the training accuracy is:- 0.21060022139332168\n",
      "at random state26, the testing scoree is:-0.08379976918067666\n",
      "\n",
      "\n",
      "at random state 27, the training accuracy is:- 0.19308467811630337\n",
      "at random state27, the testing scoree is:-0.1378430381440522\n",
      "\n",
      "\n",
      "at random state 28, the training accuracy is:- 0.19209129591782625\n",
      "at random state28, the testing scoree is:-0.175564040148096\n",
      "\n",
      "\n",
      "at random state 29, the training accuracy is:- 0.2219818161695617\n",
      "at random state29, the testing scoree is:-0.030230743638064772\n",
      "\n",
      "\n",
      "at random state 30, the training accuracy is:- 0.18082342078885283\n",
      "at random state30, the testing scoree is:-0.22429121198459112\n",
      "\n",
      "\n",
      "at random state 31, the training accuracy is:- 0.17824981848721178\n",
      "at random state31, the testing scoree is:-0.21807498716587126\n",
      "\n",
      "\n",
      "at random state 32, the training accuracy is:- 0.18484615385531977\n",
      "at random state32, the testing scoree is:-0.21655564139037686\n",
      "\n",
      "\n",
      "at random state 33, the training accuracy is:- 0.2144443603986237\n",
      "at random state33, the testing scoree is:-0.08095678266604667\n",
      "\n",
      "\n",
      "at random state 34, the training accuracy is:- 0.20347927785083797\n",
      "at random state34, the testing scoree is:-0.14170040541176832\n",
      "\n",
      "\n",
      "at random state 35, the training accuracy is:- 0.16908555277401804\n",
      "at random state35, the testing scoree is:-0.2676430765871747\n",
      "\n",
      "\n",
      "at random state 36, the training accuracy is:- 0.19694225948881616\n",
      "at random state36, the testing scoree is:-0.16720157630907806\n",
      "\n",
      "\n",
      "at random state 37, the training accuracy is:- 0.18611266498389833\n",
      "at random state37, the testing scoree is:-0.2052070427986713\n",
      "\n",
      "\n",
      "at random state 38, the training accuracy is:- 0.24144883072529055\n",
      "at random state38, the testing scoree is:-0.009327768275063875\n",
      "\n",
      "\n",
      "at random state 39, the training accuracy is:- 0.20975916749978196\n",
      "at random state39, the testing scoree is:-0.11299884022196649\n",
      "\n",
      "\n",
      "at random state 40, the training accuracy is:- 0.17235663946094804\n",
      "at random state40, the testing scoree is:-0.27102274940255755\n",
      "\n",
      "\n",
      "at random state 41, the training accuracy is:- 0.1864323755407672\n",
      "at random state41, the testing scoree is:-0.17440273043005983\n",
      "\n",
      "\n",
      "at random state 42, the training accuracy is:- 0.20825593174494916\n",
      "at random state42, the testing scoree is:-0.09810553602494909\n",
      "\n",
      "\n",
      "at random state 43, the training accuracy is:- 0.1767955874194026\n",
      "at random state43, the testing scoree is:-0.2478806525346805\n",
      "\n",
      "\n",
      "at random state 44, the training accuracy is:- 0.20272070535802833\n",
      "at random state44, the testing scoree is:-0.1401353317643903\n",
      "\n",
      "\n",
      "at random state 45, the training accuracy is:- 0.21433594461342753\n",
      "at random state45, the testing scoree is:-0.09294774325568611\n",
      "\n",
      "\n",
      "at random state 46, the training accuracy is:- 0.2018543844384677\n",
      "at random state46, the testing scoree is:-0.139109260534804\n",
      "\n",
      "\n",
      "at random state 47, the training accuracy is:- 0.2184274822691341\n",
      "at random state47, the testing scoree is:--0.015868574728501672\n",
      "\n",
      "\n",
      "at random state 48, the training accuracy is:- 0.18488741886554183\n",
      "at random state48, the testing scoree is:-0.21089581562282578\n",
      "\n",
      "\n",
      "at random state 49, the training accuracy is:- 0.2003478712268214\n",
      "at random state49, the testing scoree is:-0.15285901057234597\n",
      "\n",
      "\n",
      "at random state 50, the training accuracy is:- 0.21534190730432357\n",
      "at random state50, the testing scoree is:-0.06118781144147445\n",
      "\n",
      "\n",
      "at random state 51, the training accuracy is:- 0.2024377041841634\n",
      "at random state51, the testing scoree is:-0.14817045358211733\n",
      "\n",
      "\n",
      "at random state 52, the training accuracy is:- 0.186306456633478\n",
      "at random state52, the testing scoree is:-0.19802854121465474\n",
      "\n",
      "\n",
      "at random state 53, the training accuracy is:- 0.1819452324606491\n",
      "at random state53, the testing scoree is:-0.22339745973299263\n",
      "\n",
      "\n",
      "at random state 54, the training accuracy is:- 0.19924649559012841\n",
      "at random state54, the testing scoree is:-0.14302464296976714\n",
      "\n",
      "\n",
      "at random state 55, the training accuracy is:- 0.2003023171343864\n",
      "at random state55, the testing scoree is:-0.158957095389897\n",
      "\n",
      "\n",
      "at random state 56, the training accuracy is:- 0.181549813215227\n",
      "at random state56, the testing scoree is:-0.2228727513098797\n",
      "\n",
      "\n",
      "at random state 57, the training accuracy is:- 0.17942945922666176\n",
      "at random state57, the testing scoree is:-0.22173774530399282\n",
      "\n",
      "\n",
      "at random state 58, the training accuracy is:- 0.24536809466737253\n",
      "at random state58, the testing scoree is:--0.044064080243434\n",
      "\n",
      "\n",
      "at random state 59, the training accuracy is:- 0.201937595868936\n",
      "at random state59, the testing scoree is:-0.1562294067802953\n",
      "\n",
      "\n",
      "at random state 60, the training accuracy is:- 0.20419018585140758\n",
      "at random state60, the testing scoree is:-0.10213434668738819\n",
      "\n",
      "\n",
      "at random state 61, the training accuracy is:- 0.1762423455690565\n",
      "at random state61, the testing scoree is:-0.24959734785231635\n",
      "\n",
      "\n",
      "at random state 62, the training accuracy is:- 0.19100513177435108\n",
      "at random state62, the testing scoree is:-0.19403660261762434\n",
      "\n",
      "\n",
      "at random state 63, the training accuracy is:- 0.20277736672593705\n",
      "at random state63, the testing scoree is:-0.13482155275968644\n",
      "\n",
      "\n"
     ]
    },
    {
     "name": "stdout",
     "output_type": "stream",
     "text": [
      "at random state 64, the training accuracy is:- 0.18283929410026523\n",
      "at random state64, the testing scoree is:-0.22416272099573276\n",
      "\n",
      "\n",
      "at random state 65, the training accuracy is:- 0.2072971820149917\n",
      "at random state65, the testing scoree is:-0.11523342940132986\n",
      "\n",
      "\n",
      "at random state 66, the training accuracy is:- 0.16512421047882675\n",
      "at random state66, the testing scoree is:-0.2841694391121298\n",
      "\n",
      "\n",
      "at random state 67, the training accuracy is:- 0.23345305156462837\n",
      "at random state67, the testing scoree is:--0.012254549700603468\n",
      "\n",
      "\n",
      "at random state 68, the training accuracy is:- 0.23881734855019543\n",
      "at random state68, the testing scoree is:-0.018608639433561724\n",
      "\n",
      "\n",
      "at random state 69, the training accuracy is:- 0.18704777284012952\n",
      "at random state69, the testing scoree is:-0.20956199296299505\n",
      "\n",
      "\n",
      "at random state 70, the training accuracy is:- 0.20457605877066232\n",
      "at random state70, the testing scoree is:-0.1406487621572997\n",
      "\n",
      "\n",
      "at random state 71, the training accuracy is:- 0.18473515889743597\n",
      "at random state71, the testing scoree is:-0.18245920875611743\n",
      "\n",
      "\n",
      "at random state 72, the training accuracy is:- 0.2450967841929118\n",
      "at random state72, the testing scoree is:--0.03786712281502114\n",
      "\n",
      "\n",
      "at random state 73, the training accuracy is:- 0.15752944154674964\n",
      "at random state73, the testing scoree is:-0.29835960283256013\n",
      "\n",
      "\n",
      "at random state 74, the training accuracy is:- 0.2064649933571262\n",
      "at random state74, the testing scoree is:-0.11805572833756217\n",
      "\n",
      "\n",
      "at random state 75, the training accuracy is:- 0.19581048299838621\n",
      "at random state75, the testing scoree is:-0.1664245260043482\n",
      "\n",
      "\n",
      "at random state 76, the training accuracy is:- 0.20993593056681314\n",
      "at random state76, the testing scoree is:-0.10799030024851475\n",
      "\n",
      "\n",
      "at random state 77, the training accuracy is:- 0.19383526518230276\n",
      "at random state77, the testing scoree is:-0.17784050368852056\n",
      "\n",
      "\n",
      "at random state 78, the training accuracy is:- 0.23559922982450043\n",
      "at random state78, the testing scoree is:-0.019301422763764342\n",
      "\n",
      "\n",
      "at random state 79, the training accuracy is:- 0.18527839525182588\n",
      "at random state79, the testing scoree is:-0.21691465438944302\n",
      "\n",
      "\n",
      "at random state 80, the training accuracy is:- 0.1801303016888236\n",
      "at random state80, the testing scoree is:-0.2521059203729915\n",
      "\n",
      "\n",
      "at random state 81, the training accuracy is:- 0.18410774268027263\n",
      "at random state81, the testing scoree is:-0.2014834360834915\n",
      "\n",
      "\n",
      "at random state 82, the training accuracy is:- 0.1965987610512544\n",
      "at random state82, the testing scoree is:-0.1661262985592391\n",
      "\n",
      "\n",
      "at random state 83, the training accuracy is:- 0.18568124732655777\n",
      "at random state83, the testing scoree is:-0.20126136908721592\n",
      "\n",
      "\n",
      "at random state 84, the training accuracy is:- 0.1780966308204459\n",
      "at random state84, the testing scoree is:-0.2405811126498698\n",
      "\n",
      "\n",
      "at random state 85, the training accuracy is:- 0.16558078585430547\n",
      "at random state85, the testing scoree is:-0.27584555410127976\n",
      "\n",
      "\n",
      "at random state 86, the training accuracy is:- 0.19372205781777074\n",
      "at random state86, the testing scoree is:-0.17431155713799995\n",
      "\n",
      "\n",
      "at random state 87, the training accuracy is:- 0.19062158696029952\n",
      "at random state87, the testing scoree is:-0.19408278699041293\n",
      "\n",
      "\n",
      "at random state 88, the training accuracy is:- 0.2241649140906139\n",
      "at random state88, the testing scoree is:-0.03518302699444564\n",
      "\n",
      "\n",
      "at random state 89, the training accuracy is:- 0.18724251937085756\n",
      "at random state89, the testing scoree is:-0.1918175560586004\n",
      "\n",
      "\n",
      "at random state 90, the training accuracy is:- 0.1918209513434027\n",
      "at random state90, the testing scoree is:-0.19056024098467172\n",
      "\n",
      "\n",
      "at random state 91, the training accuracy is:- 0.20407370854929963\n",
      "at random state91, the testing scoree is:-0.1444102960064465\n",
      "\n",
      "\n",
      "at random state 92, the training accuracy is:- 0.18030449757935196\n",
      "at random state92, the testing scoree is:-0.20123592091849107\n",
      "\n",
      "\n",
      "at random state 93, the training accuracy is:- 0.19936486794787345\n",
      "at random state93, the testing scoree is:-0.15600081199696536\n",
      "\n",
      "\n",
      "at random state 94, the training accuracy is:- 0.2010569208573626\n",
      "at random state94, the testing scoree is:-0.14244787489767918\n",
      "\n",
      "\n",
      "at random state 95, the training accuracy is:- 0.1901270876228892\n",
      "at random state95, the testing scoree is:-0.19513462265655002\n",
      "\n",
      "\n",
      "at random state 96, the training accuracy is:- 0.19640332689804785\n",
      "at random state96, the testing scoree is:-0.17139930339550247\n",
      "\n",
      "\n",
      "at random state 97, the training accuracy is:- 0.21867267155675185\n",
      "at random state97, the testing scoree is:-0.06358919634056237\n",
      "\n",
      "\n",
      "at random state 98, the training accuracy is:- 0.19166070383409117\n",
      "at random state98, the testing scoree is:-0.18189252829048375\n",
      "\n",
      "\n",
      "at random state 99, the training accuracy is:- 0.1626964770784588\n",
      "at random state99, the testing scoree is:-0.2776364714583073\n",
      "\n",
      "\n"
     ]
    }
   ],
   "source": [
    "for i in range(0,100):\n",
    "    x_train,x_test,y_train,y_test=train_test_split(x,y,test_size=0.2,random_state=i)\n",
    "    lr.fit(x_train,y_train)\n",
    "    pred_train=lr.predict(x_train)\n",
    "    pred_test=lr.predict(x_test)\n",
    "    print(f\"at random state {i}, the training accuracy is:- {r2_score(y_train,pred_train)}\")\n",
    "    print(f\"at random state{i}, the testing scoree is:-{r2_score(y_test,pred_test)}\")\n",
    "    print(\"\\n\")"
   ]
  },
  {
   "cell_type": "code",
   "execution_count": 82,
   "id": "18c3f672",
   "metadata": {},
   "outputs": [
    {
     "data": {
      "text/plain": [
       "(314, 2)"
      ]
     },
     "execution_count": 82,
     "metadata": {},
     "output_type": "execute_result"
    }
   ],
   "source": [
    "x_train.shape"
   ]
  },
  {
   "cell_type": "code",
   "execution_count": 83,
   "id": "970949c3",
   "metadata": {},
   "outputs": [
    {
     "data": {
      "text/plain": [
       "(314,)"
      ]
     },
     "execution_count": 83,
     "metadata": {},
     "output_type": "execute_result"
    }
   ],
   "source": [
    "y_train.shape"
   ]
  },
  {
   "cell_type": "code",
   "execution_count": 84,
   "id": "10d23d95",
   "metadata": {},
   "outputs": [
    {
     "data": {
      "text/plain": [
       "(79, 2)"
      ]
     },
     "execution_count": 84,
     "metadata": {},
     "output_type": "execute_result"
    }
   ],
   "source": [
    "x_test.shape"
   ]
  },
  {
   "cell_type": "code",
   "execution_count": 85,
   "id": "12c722a2",
   "metadata": {},
   "outputs": [
    {
     "data": {
      "text/plain": [
       "(79,)"
      ]
     },
     "execution_count": 85,
     "metadata": {},
     "output_type": "execute_result"
    }
   ],
   "source": [
    "y_test.shape"
   ]
  },
  {
   "cell_type": "code",
   "execution_count": 86,
   "id": "b99232ee",
   "metadata": {},
   "outputs": [
    {
     "data": {
      "text/plain": [
       "Index(['rank', 'yrs.since.phd', 'yrs.service', 'salary'], dtype='object')"
      ]
     },
     "execution_count": 86,
     "metadata": {},
     "output_type": "execute_result"
    }
   ],
   "source": [
    "new_df.columns"
   ]
  },
  {
   "cell_type": "code",
   "execution_count": 87,
   "id": "90fac3b2",
   "metadata": {},
   "outputs": [
    {
     "name": "stdout",
     "output_type": "stream",
     "text": [
      "at random state 0, the training accuracy is:- 0.1949039625788217\n",
      "at random state0, the testing scoree is:-0.1817066884265548\n",
      "\n",
      "\n",
      "at random state 1, the training accuracy is:- 0.1797887112515817\n",
      "at random state1, the testing scoree is:-0.23236984125338578\n",
      "\n",
      "\n",
      "at random state 2, the training accuracy is:- 0.17823329094291185\n",
      "at random state2, the testing scoree is:-0.2579176204691541\n",
      "\n",
      "\n",
      "at random state 3, the training accuracy is:- 0.1978948992918238\n",
      "at random state3, the testing scoree is:-0.16791309949052147\n",
      "\n",
      "\n",
      "at random state 4, the training accuracy is:- 0.21014929700554064\n",
      "at random state4, the testing scoree is:-0.0968725117622602\n",
      "\n",
      "\n",
      "at random state 5, the training accuracy is:- 0.16689281863787608\n",
      "at random state5, the testing scoree is:-0.2885171203509864\n",
      "\n",
      "\n",
      "at random state 6, the training accuracy is:- 0.1969982007453348\n",
      "at random state6, the testing scoree is:-0.1540496856638277\n",
      "\n",
      "\n",
      "at random state 7, the training accuracy is:- 0.18382732346156827\n",
      "at random state7, the testing scoree is:-0.19817531944714672\n",
      "\n",
      "\n",
      "at random state 8, the training accuracy is:- 0.16153318884993662\n",
      "at random state8, the testing scoree is:-0.31727340343253596\n",
      "\n",
      "\n",
      "at random state 9, the training accuracy is:- 0.19884286724908318\n",
      "at random state9, the testing scoree is:-0.16180768117874889\n",
      "\n",
      "\n",
      "at random state 10, the training accuracy is:- 0.18674456539272544\n",
      "at random state10, the testing scoree is:-0.2095398675204051\n",
      "\n",
      "\n",
      "at random state 11, the training accuracy is:- 0.1573807918759602\n",
      "at random state11, the testing scoree is:-0.33193643716473786\n",
      "\n",
      "\n",
      "at random state 12, the training accuracy is:- 0.23393282970729057\n",
      "at random state12, the testing scoree is:-0.05556800135064188\n",
      "\n",
      "\n",
      "at random state 13, the training accuracy is:- 0.16660551227715148\n",
      "at random state13, the testing scoree is:-0.273296876529018\n",
      "\n",
      "\n",
      "at random state 14, the training accuracy is:- 0.22702655654728032\n",
      "at random state14, the testing scoree is:-0.05104813533666519\n",
      "\n",
      "\n",
      "at random state 15, the training accuracy is:- 0.17953182676967605\n",
      "at random state15, the testing scoree is:-0.2289172408658986\n",
      "\n",
      "\n",
      "at random state 16, the training accuracy is:- 0.19408808716898074\n",
      "at random state16, the testing scoree is:-0.166148527849182\n",
      "\n",
      "\n",
      "at random state 17, the training accuracy is:- 0.17472068346244385\n",
      "at random state17, the testing scoree is:-0.2624062786458782\n",
      "\n",
      "\n",
      "at random state 18, the training accuracy is:- 0.25474716645553974\n",
      "at random state18, the testing scoree is:--0.05105572816622783\n",
      "\n",
      "\n",
      "at random state 19, the training accuracy is:- 0.18169213062917433\n",
      "at random state19, the testing scoree is:-0.17177667779205852\n",
      "\n",
      "\n",
      "at random state 20, the training accuracy is:- 0.1762009177886379\n",
      "at random state20, the testing scoree is:-0.23927476414178261\n",
      "\n",
      "\n",
      "at random state 21, the training accuracy is:- 0.21558799690048347\n",
      "at random state21, the testing scoree is:-0.06657254487309705\n",
      "\n",
      "\n",
      "at random state 22, the training accuracy is:- 0.23592603012919022\n",
      "at random state22, the testing scoree is:-0.019273053678453222\n",
      "\n",
      "\n",
      "at random state 23, the training accuracy is:- 0.19471039580229765\n",
      "at random state23, the testing scoree is:-0.17326891780124576\n",
      "\n",
      "\n",
      "at random state 24, the training accuracy is:- 0.17611225349340187\n",
      "at random state24, the testing scoree is:-0.24925356358394035\n",
      "\n",
      "\n",
      "at random state 25, the training accuracy is:- 0.24218638617116073\n",
      "at random state25, the testing scoree is:--0.14832561154649748\n",
      "\n",
      "\n",
      "at random state 26, the training accuracy is:- 0.21060022139332168\n",
      "at random state26, the testing scoree is:-0.08379976918067666\n",
      "\n",
      "\n",
      "at random state 27, the training accuracy is:- 0.19308467811630337\n",
      "at random state27, the testing scoree is:-0.1378430381440522\n",
      "\n",
      "\n",
      "at random state 28, the training accuracy is:- 0.19209129591782625\n",
      "at random state28, the testing scoree is:-0.175564040148096\n",
      "\n",
      "\n",
      "at random state 29, the training accuracy is:- 0.2219818161695617\n",
      "at random state29, the testing scoree is:-0.030230743638064772\n",
      "\n",
      "\n",
      "at random state 30, the training accuracy is:- 0.18082342078885283\n",
      "at random state30, the testing scoree is:-0.22429121198459112\n",
      "\n",
      "\n",
      "at random state 31, the training accuracy is:- 0.17824981848721178\n",
      "at random state31, the testing scoree is:-0.21807498716587126\n",
      "\n",
      "\n",
      "at random state 32, the training accuracy is:- 0.18484615385531977\n",
      "at random state32, the testing scoree is:-0.21655564139037686\n",
      "\n",
      "\n",
      "at random state 33, the training accuracy is:- 0.2144443603986237\n",
      "at random state33, the testing scoree is:-0.08095678266604667\n",
      "\n",
      "\n",
      "at random state 34, the training accuracy is:- 0.20347927785083797\n",
      "at random state34, the testing scoree is:-0.14170040541176832\n",
      "\n",
      "\n",
      "at random state 35, the training accuracy is:- 0.16908555277401804\n",
      "at random state35, the testing scoree is:-0.2676430765871747\n",
      "\n",
      "\n",
      "at random state 36, the training accuracy is:- 0.19694225948881616\n",
      "at random state36, the testing scoree is:-0.16720157630907806\n",
      "\n",
      "\n",
      "at random state 37, the training accuracy is:- 0.18611266498389833\n",
      "at random state37, the testing scoree is:-0.2052070427986713\n",
      "\n",
      "\n",
      "at random state 38, the training accuracy is:- 0.24144883072529055\n",
      "at random state38, the testing scoree is:-0.009327768275063875\n",
      "\n",
      "\n",
      "at random state 39, the training accuracy is:- 0.20975916749978196\n",
      "at random state39, the testing scoree is:-0.11299884022196649\n",
      "\n",
      "\n",
      "at random state 40, the training accuracy is:- 0.17235663946094804\n",
      "at random state40, the testing scoree is:-0.27102274940255755\n",
      "\n",
      "\n",
      "at random state 41, the training accuracy is:- 0.1864323755407672\n",
      "at random state41, the testing scoree is:-0.17440273043005983\n",
      "\n",
      "\n",
      "at random state 42, the training accuracy is:- 0.20825593174494916\n",
      "at random state42, the testing scoree is:-0.09810553602494909\n",
      "\n",
      "\n",
      "at random state 43, the training accuracy is:- 0.1767955874194026\n",
      "at random state43, the testing scoree is:-0.2478806525346805\n",
      "\n",
      "\n",
      "at random state 44, the training accuracy is:- 0.20272070535802833\n",
      "at random state44, the testing scoree is:-0.1401353317643903\n",
      "\n",
      "\n",
      "at random state 45, the training accuracy is:- 0.21433594461342753\n",
      "at random state45, the testing scoree is:-0.09294774325568611\n",
      "\n",
      "\n",
      "at random state 46, the training accuracy is:- 0.2018543844384677\n",
      "at random state46, the testing scoree is:-0.139109260534804\n",
      "\n",
      "\n",
      "at random state 47, the training accuracy is:- 0.2184274822691341\n",
      "at random state47, the testing scoree is:--0.015868574728501672\n",
      "\n",
      "\n",
      "at random state 48, the training accuracy is:- 0.18488741886554183\n",
      "at random state48, the testing scoree is:-0.21089581562282578\n",
      "\n",
      "\n",
      "at random state 49, the training accuracy is:- 0.2003478712268214\n",
      "at random state49, the testing scoree is:-0.15285901057234597\n",
      "\n",
      "\n",
      "at random state 50, the training accuracy is:- 0.21534190730432357\n",
      "at random state50, the testing scoree is:-0.06118781144147445\n",
      "\n",
      "\n",
      "at random state 51, the training accuracy is:- 0.2024377041841634\n",
      "at random state51, the testing scoree is:-0.14817045358211733\n",
      "\n",
      "\n",
      "at random state 52, the training accuracy is:- 0.186306456633478\n",
      "at random state52, the testing scoree is:-0.19802854121465474\n",
      "\n",
      "\n",
      "at random state 53, the training accuracy is:- 0.1819452324606491\n",
      "at random state53, the testing scoree is:-0.22339745973299263\n",
      "\n",
      "\n",
      "at random state 54, the training accuracy is:- 0.19924649559012841\n",
      "at random state54, the testing scoree is:-0.14302464296976714\n",
      "\n",
      "\n",
      "at random state 55, the training accuracy is:- 0.2003023171343864\n",
      "at random state55, the testing scoree is:-0.158957095389897\n",
      "\n",
      "\n",
      "at random state 56, the training accuracy is:- 0.181549813215227\n",
      "at random state56, the testing scoree is:-0.2228727513098797\n",
      "\n",
      "\n",
      "at random state 57, the training accuracy is:- 0.17942945922666176\n",
      "at random state57, the testing scoree is:-0.22173774530399282\n",
      "\n",
      "\n",
      "at random state 58, the training accuracy is:- 0.24536809466737253\n",
      "at random state58, the testing scoree is:--0.044064080243434\n",
      "\n",
      "\n",
      "at random state 59, the training accuracy is:- 0.201937595868936\n",
      "at random state59, the testing scoree is:-0.1562294067802953\n",
      "\n",
      "\n",
      "at random state 60, the training accuracy is:- 0.20419018585140758\n",
      "at random state60, the testing scoree is:-0.10213434668738819\n",
      "\n",
      "\n",
      "at random state 61, the training accuracy is:- 0.1762423455690565\n",
      "at random state61, the testing scoree is:-0.24959734785231635\n",
      "\n",
      "\n",
      "at random state 62, the training accuracy is:- 0.19100513177435108\n",
      "at random state62, the testing scoree is:-0.19403660261762434\n",
      "\n",
      "\n",
      "at random state 63, the training accuracy is:- 0.20277736672593705\n",
      "at random state63, the testing scoree is:-0.13482155275968644\n",
      "\n",
      "\n",
      "at random state 64, the training accuracy is:- 0.18283929410026523\n",
      "at random state64, the testing scoree is:-0.22416272099573276\n",
      "\n",
      "\n",
      "at random state 65, the training accuracy is:- 0.2072971820149917\n",
      "at random state65, the testing scoree is:-0.11523342940132986\n",
      "\n",
      "\n",
      "at random state 66, the training accuracy is:- 0.16512421047882675\n",
      "at random state66, the testing scoree is:-0.2841694391121298\n",
      "\n",
      "\n",
      "at random state 67, the training accuracy is:- 0.23345305156462837\n",
      "at random state67, the testing scoree is:--0.012254549700603468\n",
      "\n",
      "\n",
      "at random state 68, the training accuracy is:- 0.23881734855019543\n",
      "at random state68, the testing scoree is:-0.018608639433561724\n",
      "\n",
      "\n"
     ]
    },
    {
     "name": "stdout",
     "output_type": "stream",
     "text": [
      "at random state 69, the training accuracy is:- 0.18704777284012952\n",
      "at random state69, the testing scoree is:-0.20956199296299505\n",
      "\n",
      "\n",
      "at random state 70, the training accuracy is:- 0.20457605877066232\n",
      "at random state70, the testing scoree is:-0.1406487621572997\n",
      "\n",
      "\n",
      "at random state 71, the training accuracy is:- 0.18473515889743597\n",
      "at random state71, the testing scoree is:-0.18245920875611743\n",
      "\n",
      "\n",
      "at random state 72, the training accuracy is:- 0.2450967841929118\n",
      "at random state72, the testing scoree is:--0.03786712281502114\n",
      "\n",
      "\n",
      "at random state 73, the training accuracy is:- 0.15752944154674964\n",
      "at random state73, the testing scoree is:-0.29835960283256013\n",
      "\n",
      "\n",
      "at random state 74, the training accuracy is:- 0.2064649933571262\n",
      "at random state74, the testing scoree is:-0.11805572833756217\n",
      "\n",
      "\n",
      "at random state 75, the training accuracy is:- 0.19581048299838621\n",
      "at random state75, the testing scoree is:-0.1664245260043482\n",
      "\n",
      "\n",
      "at random state 76, the training accuracy is:- 0.20993593056681314\n",
      "at random state76, the testing scoree is:-0.10799030024851475\n",
      "\n",
      "\n",
      "at random state 77, the training accuracy is:- 0.19383526518230276\n",
      "at random state77, the testing scoree is:-0.17784050368852056\n",
      "\n",
      "\n",
      "at random state 78, the training accuracy is:- 0.23559922982450043\n",
      "at random state78, the testing scoree is:-0.019301422763764342\n",
      "\n",
      "\n",
      "at random state 79, the training accuracy is:- 0.18527839525182588\n",
      "at random state79, the testing scoree is:-0.21691465438944302\n",
      "\n",
      "\n",
      "at random state 80, the training accuracy is:- 0.1801303016888236\n",
      "at random state80, the testing scoree is:-0.2521059203729915\n",
      "\n",
      "\n",
      "at random state 81, the training accuracy is:- 0.18410774268027263\n",
      "at random state81, the testing scoree is:-0.2014834360834915\n",
      "\n",
      "\n",
      "at random state 82, the training accuracy is:- 0.1965987610512544\n",
      "at random state82, the testing scoree is:-0.1661262985592391\n",
      "\n",
      "\n",
      "at random state 83, the training accuracy is:- 0.18568124732655777\n",
      "at random state83, the testing scoree is:-0.20126136908721592\n",
      "\n",
      "\n",
      "at random state 84, the training accuracy is:- 0.1780966308204459\n",
      "at random state84, the testing scoree is:-0.2405811126498698\n",
      "\n",
      "\n",
      "at random state 85, the training accuracy is:- 0.16558078585430547\n",
      "at random state85, the testing scoree is:-0.27584555410127976\n",
      "\n",
      "\n",
      "at random state 86, the training accuracy is:- 0.19372205781777074\n",
      "at random state86, the testing scoree is:-0.17431155713799995\n",
      "\n",
      "\n",
      "at random state 87, the training accuracy is:- 0.19062158696029952\n",
      "at random state87, the testing scoree is:-0.19408278699041293\n",
      "\n",
      "\n",
      "at random state 88, the training accuracy is:- 0.2241649140906139\n",
      "at random state88, the testing scoree is:-0.03518302699444564\n",
      "\n",
      "\n",
      "at random state 89, the training accuracy is:- 0.18724251937085756\n",
      "at random state89, the testing scoree is:-0.1918175560586004\n",
      "\n",
      "\n",
      "at random state 90, the training accuracy is:- 0.1918209513434027\n",
      "at random state90, the testing scoree is:-0.19056024098467172\n",
      "\n",
      "\n",
      "at random state 91, the training accuracy is:- 0.20407370854929963\n",
      "at random state91, the testing scoree is:-0.1444102960064465\n",
      "\n",
      "\n",
      "at random state 92, the training accuracy is:- 0.18030449757935196\n",
      "at random state92, the testing scoree is:-0.20123592091849107\n",
      "\n",
      "\n",
      "at random state 93, the training accuracy is:- 0.19936486794787345\n",
      "at random state93, the testing scoree is:-0.15600081199696536\n",
      "\n",
      "\n",
      "at random state 94, the training accuracy is:- 0.2010569208573626\n",
      "at random state94, the testing scoree is:-0.14244787489767918\n",
      "\n",
      "\n",
      "at random state 95, the training accuracy is:- 0.1901270876228892\n",
      "at random state95, the testing scoree is:-0.19513462265655002\n",
      "\n",
      "\n",
      "at random state 96, the training accuracy is:- 0.19640332689804785\n",
      "at random state96, the testing scoree is:-0.17139930339550247\n",
      "\n",
      "\n",
      "at random state 97, the training accuracy is:- 0.21867267155675185\n",
      "at random state97, the testing scoree is:-0.06358919634056237\n",
      "\n",
      "\n",
      "at random state 98, the training accuracy is:- 0.19166070383409117\n",
      "at random state98, the testing scoree is:-0.18189252829048375\n",
      "\n",
      "\n",
      "at random state 99, the training accuracy is:- 0.1626964770784588\n",
      "at random state99, the testing scoree is:-0.2776364714583073\n",
      "\n",
      "\n"
     ]
    }
   ],
   "source": []
  },
  {
   "cell_type": "code",
   "execution_count": 88,
   "id": "caf2c7d7",
   "metadata": {},
   "outputs": [],
   "source": [
    "x_train,x_test,y_train,y_test=train_test_split(x,y,random_state=2,test_size=0.2)"
   ]
  },
  {
   "cell_type": "code",
   "execution_count": 89,
   "id": "71eff7fe",
   "metadata": {},
   "outputs": [
    {
     "data": {
      "text/plain": [
       "array([1630.41116542, -888.56309478])"
      ]
     },
     "execution_count": 89,
     "metadata": {},
     "output_type": "execute_result"
    }
   ],
   "source": [
    "lr.coef_"
   ]
  },
  {
   "cell_type": "code",
   "execution_count": 90,
   "id": "38ce1e59",
   "metadata": {},
   "outputs": [],
   "source": [
    "from sklearn.linear_model import Lasso,Ridge"
   ]
  },
  {
   "cell_type": "code",
   "execution_count": 91,
   "id": "4f1a4443",
   "metadata": {},
   "outputs": [
    {
     "data": {
      "text/plain": [
       "0.17823329094291185"
      ]
     },
     "execution_count": 91,
     "metadata": {},
     "output_type": "execute_result"
    }
   ],
   "source": [
    "ls=Lasso(alpha=0.0001)\n",
    "ls.fit(x_train,y_train)\n",
    "ls.score(x_train,y_train)"
   ]
  },
  {
   "cell_type": "code",
   "execution_count": 92,
   "id": "48b01f39",
   "metadata": {},
   "outputs": [
    {
     "data": {
      "text/plain": [
       "0.17823329094291185"
      ]
     },
     "execution_count": 92,
     "metadata": {},
     "output_type": "execute_result"
    }
   ],
   "source": [
    "rd=Ridge(alpha=0.0001)\n",
    "rd.fit(x_train,y_train)\n",
    "rd.score(x_train,y_train)\n"
   ]
  },
  {
   "cell_type": "code",
   "execution_count": 93,
   "id": "3f345db7",
   "metadata": {},
   "outputs": [],
   "source": [
    "from sklearn.linear_model import ElasticNet"
   ]
  },
  {
   "cell_type": "code",
   "execution_count": 94,
   "id": "f13e3d89",
   "metadata": {},
   "outputs": [
    {
     "name": "stdout",
     "output_type": "stream",
     "text": [
      "0.17823329094248586\n"
     ]
    },
    {
     "data": {
      "text/plain": [
       "array([1478.92525344, -587.14527995])"
      ]
     },
     "execution_count": 94,
     "metadata": {},
     "output_type": "execute_result"
    }
   ],
   "source": [
    "en=ElasticNet(alpha=0.0001)\n",
    "en.fit(x_train,y_train)\n",
    "en.pred=en.predict(x_test)\n",
    "print(en.score(x_train,y_train))\n",
    "en.coef_\n"
   ]
  },
  {
   "cell_type": "code",
   "execution_count": 95,
   "id": "433ace54",
   "metadata": {},
   "outputs": [],
   "source": [
    "pred_test=lr.predict(x_test)\n",
    "pred_train=lr.predict(x_train)"
   ]
  },
  {
   "cell_type": "code",
   "execution_count": 96,
   "id": "9782634b",
   "metadata": {},
   "outputs": [
    {
     "name": "stdout",
     "output_type": "stream",
     "text": [
      "0.2736006523775769\n"
     ]
    }
   ],
   "source": [
    "print(r2_score(y_test,pred_test))"
   ]
  },
  {
   "cell_type": "code",
   "execution_count": 97,
   "id": "9a19998b",
   "metadata": {},
   "outputs": [],
   "source": [
    "train_accuracy=r2_score(y_train,pred_train)\n",
    "test_accuracy=r2_score(y_test,pred_test)\n"
   ]
  },
  {
   "cell_type": "code",
   "execution_count": 98,
   "id": "d5ddd1db",
   "metadata": {},
   "outputs": [
    {
     "name": "stdout",
     "output_type": "stream",
     "text": [
      "at cross fold 2 the cv score is 0.14490875353414345 and accuracy score for training is0.17300914190161776 and accuracy for the testing is0.2736006523775769\n",
      "at cross fold 3 the cv score is 0.16084502563972738 and accuracy score for training is0.17300914190161776 and accuracy for the testing is0.2736006523775769\n",
      "at cross fold 4 the cv score is 0.16239223175233422 and accuracy score for training is0.17300914190161776 and accuracy for the testing is0.2736006523775769\n",
      "at cross fold 5 the cv score is 0.13291405712446575 and accuracy score for training is0.17300914190161776 and accuracy for the testing is0.2736006523775769\n",
      "at cross fold 6 the cv score is 0.14997266733349487 and accuracy score for training is0.17300914190161776 and accuracy for the testing is0.2736006523775769\n",
      "at cross fold 7 the cv score is 0.1300474690253465 and accuracy score for training is0.17300914190161776 and accuracy for the testing is0.2736006523775769\n",
      "at cross fold 8 the cv score is 0.1513026357129939 and accuracy score for training is0.17300914190161776 and accuracy for the testing is0.2736006523775769\n",
      "at cross fold 9 the cv score is 0.0973189429590669 and accuracy score for training is0.17300914190161776 and accuracy for the testing is0.2736006523775769\n",
      "/n\n"
     ]
    }
   ],
   "source": [
    "from sklearn.model_selection import cross_val_score\n",
    "for j in range(2,10):\n",
    "    cv_score=cross_val_score(lr,x,y,cv=j)\n",
    "    cv_mean=cv_score.mean()\n",
    "    print(f\"at cross fold {j} the cv score is {cv_mean} and accuracy score for training is{train_accuracy} and accuracy for the testing is{test_accuracy}\")\n",
    "print(\"/n\")"
   ]
  },
  {
   "cell_type": "code",
   "execution_count": 99,
   "id": "93b5e4fd",
   "metadata": {},
   "outputs": [
    {
     "data": {
      "image/png": "[encoded data removed]",
      "text/plain": [
       "<Figure size 576x432 with 1 Axes>"
      ]
     },
     "metadata": {
      "needs_background": "light"
     },
     "output_type": "display_data"
    }
   ],
   "source": [
    "plt.figure(figsize=(8,6))\n",
    "plt.scatter(x=y_test,y=pred_test,color=\"r\")\n",
    "plt.plot(y_test,y_test,color=\"b\")\n",
    "plt.title=(\"linear regression\")\n",
    "plt.show()\n"
   ]
  },
  {
   "cell_type": "code",
   "execution_count": 106,
   "id": "55741bda",
   "metadata": {},
   "outputs": [],
   "source": [
    "import pickle\n",
    "filename='salaries.pkl'\n",
    "pickle.dump(lr,open(filename,'wb'))"
   ]
  },
  {
   "cell_type": "code",
   "execution_count": 100,
   "id": "3e184c9d",
   "metadata": {},
   "outputs": [],
   "source": []
  },
  {
   "cell_type": "code",
   "execution_count": 102,
   "id": "4408719c",
   "metadata": {},
   "outputs": [],
   "source": [
    "\n"
   ]
  },
  {
   "cell_type": "code",
   "execution_count": null,
   "id": "76aae6f7",
   "metadata": {},
   "outputs": [],
   "source": []
  },
  {
   "cell_type": "code",
   "execution_count": null,
   "id": "2e9c9b25",
   "metadata": {},
   "outputs": [],
   "source": []
  },
  {
   "cell_type": "code",
   "execution_count": null,
   "id": "0f0831f6",
   "metadata": {},
   "outputs": [],
   "source": []
  },
  {
   "cell_type": "code",
   "execution_count": null,
   "id": "2becea40",
   "metadata": {},
   "outputs": [],
   "source": []
  },
  {
   "cell_type": "code",
   "execution_count": null,
   "id": "80aca0bb",
   "metadata": {},
   "outputs": [],
   "source": []
  },
  {
   "cell_type": "code",
   "execution_count": null,
   "id": "85609d89",
   "metadata": {},
   "outputs": [],
   "source": []
  },
  {
   "cell_type": "code",
   "execution_count": null,
   "id": "3a659fa1",
   "metadata": {},
   "outputs": [],
   "source": []
  },
  {
   "cell_type": "code",
   "execution_count": null,
   "id": "b288372f",
   "metadata": {},
   "outputs": [],
   "source": [
    "\n"
   ]
  },
  {
   "cell_type": "code",
   "execution_count": null,
   "id": "c5016648",
   "metadata": {},
   "outputs": [],
   "source": []
  },
  {
   "cell_type": "code",
   "execution_count": null,
   "id": "c4946f91",
   "metadata": {},
   "outputs": [],
   "source": [
    "\n"
   ]
  },
  {
   "cell_type": "code",
   "execution_count": null,
   "id": "8bfb9f5e",
   "metadata": {},
   "outputs": [],
   "source": []
  },
  {
   "cell_type": "code",
   "execution_count": null,
   "id": "d8632b07",
   "metadata": {},
   "outputs": [],
   "source": []
  },
  {
   "cell_type": "code",
   "execution_count": null,
   "id": "5edf86cf",
   "metadata": {},
   "outputs": [],
   "source": []
  },
  {
   "cell_type": "code",
   "execution_count": null,
   "id": "484b8a04",
   "metadata": {},
   "outputs": [],
   "source": []
  },
  {
   "cell_type": "code",
   "execution_count": null,
   "id": "09cbcb9d",
   "metadata": {},
   "outputs": [],
   "source": []
  },
  {
   "cell_type": "code",
   "execution_count": null,
   "id": "a84f19cd",
   "metadata": {},
   "outputs": [],
   "source": []
  },
  {
   "cell_type": "code",
   "execution_count": null,
   "id": "1de84e08",
   "metadata": {},
   "outputs": [],
   "source": []
  },
  {
   "cell_type": "code",
   "execution_count": null,
   "id": "34a9afd3",
   "metadata": {},
   "outputs": [],
   "source": []
  },
  {
   "cell_type": "code",
   "execution_count": null,
   "id": "032b7eba",
   "metadata": {},
   "outputs": [],
   "source": [
    "\n",
    "\n"
   ]
  },
  {
   "cell_type": "code",
   "execution_count": null,
   "id": "a86c4f4d",
   "metadata": {},
   "outputs": [],
   "source": []
  },
  {
   "cell_type": "code",
   "execution_count": null,
   "id": "7859f89f",
   "metadata": {},
   "outputs": [],
   "source": []
  },
  {
   "cell_type": "code",
   "execution_count": null,
   "id": "d46373f5",
   "metadata": {},
   "outputs": [],
   "source": []
  },
  {
   "cell_type": "code",
   "execution_count": null,
   "id": "c42fb5ed",
   "metadata": {},
   "outputs": [],
   "source": []
  },
  {
   "cell_type": "code",
   "execution_count": null,
   "id": "dfad1fe0",
   "metadata": {},
   "outputs": [],
   "source": []
  },
  {
   "cell_type": "code",
   "execution_count": null,
   "id": "b239f0c9",
   "metadata": {},
   "outputs": [],
   "source": [
    "\n"
   ]
  },
  {
   "cell_type": "code",
   "execution_count": null,
   "id": "70ecb14b",
   "metadata": {},
   "outputs": [],
   "source": []
  },
  {
   "cell_type": "code",
   "execution_count": null,
   "id": "539ec7a5",
   "metadata": {},
   "outputs": [],
   "source": []
  },
  {
   "cell_type": "code",
   "execution_count": null,
   "id": "6be7bb53",
   "metadata": {},
   "outputs": [],
   "source": []
  },
  {
   "cell_type": "code",
   "execution_count": null,
   "id": "9c84c46b",
   "metadata": {},
   "outputs": [],
   "source": []
  },
  {
   "cell_type": "code",
   "execution_count": null,
   "id": "b353ed78",
   "metadata": {},
   "outputs": [],
   "source": []
  }
 ],
 "metadata": {
  "kernelspec": {
   "display_name": "Python 3",
   "language": "python",
   "name": "python3"
  },
  "language_info": {
   "codemirror_mode": {
    "name": "ipython",
    "version": 3
   },
   "file_extension": ".py",
   "mimetype": "text/x-python",
   "name": "python",
   "nbconvert_exporter": "python",
   "pygments_lexer": "ipython3",
   "version": "3.8.8"
  }
 },
 "nbformat": 4,
 "nbformat_minor": 5
}
